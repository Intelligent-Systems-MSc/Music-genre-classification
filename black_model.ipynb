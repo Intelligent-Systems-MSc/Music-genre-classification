{
 "cells": [
  {
   "cell_type": "code",
   "execution_count": 2,
   "metadata": {},
   "outputs": [],
   "source": [
    "# Create a model with the following architecture :\n",
    "#   - Convolutional layer with 32 filters, kernel size 3x3, stride 1, padding 'same'\n",
    "#  - Max pooling layer with kernel size 2x2, stride 2\n",
    "# - Flatten layer\n",
    "# - Fully connected layer with 200 neurons\n",
    "# - Softmax layer with 8 neurons"
   ]
  },
  {
   "cell_type": "code",
   "execution_count": 3,
   "metadata": {},
   "outputs": [],
   "source": [
    "# import of libraries\n",
    "import tensorflow as tf\n",
    "import numpy as np\n",
    "from tensorflow.keras.models import Model, Sequential\n",
    "import matplotlib.pyplot as plt\n",
    "from fetch_training_dataset import fetch_spectogram_dataset"
   ]
  },
  {
   "cell_type": "code",
   "execution_count": 16,
   "metadata": {},
   "outputs": [
    {
     "name": "stdout",
     "output_type": "stream",
     "text": [
      "Found 797 images belonging to 10 classes.\n"
     ]
    },
    {
     "name": "stderr",
     "output_type": "stream",
     "text": [
      "/tmp/ipykernel_18796/1402260552.py:26: UserWarning: `Model.fit_generator` is deprecated and will be removed in a future version. Please use `Model.fit`, which supports generators.\n",
      "  history = model.fit_generator(train_generator, epochs=50, verbose=1)\n"
     ]
    },
    {
     "name": "stdout",
     "output_type": "stream",
     "text": [
      "Epoch 1/50\n",
      "25/25 [==============================] - 7s 245ms/step - loss: 2.4147 - accuracy: 0.1154\n",
      "Epoch 2/50\n",
      "25/25 [==============================] - 5s 200ms/step - loss: 2.0292 - accuracy: 0.2246\n",
      "Epoch 3/50\n",
      "25/25 [==============================] - 5s 201ms/step - loss: 1.8327 - accuracy: 0.3350\n",
      "Epoch 4/50\n",
      "25/25 [==============================] - 5s 201ms/step - loss: 1.6442 - accuracy: 0.4153\n",
      "Epoch 5/50\n",
      "25/25 [==============================] - 5s 200ms/step - loss: 1.5373 - accuracy: 0.4429\n",
      "Epoch 6/50\n",
      "25/25 [==============================] - 5s 203ms/step - loss: 1.4706 - accuracy: 0.4630\n",
      "Epoch 7/50\n",
      "25/25 [==============================] - 5s 204ms/step - loss: 1.3903 - accuracy: 0.4906\n",
      "Epoch 8/50\n",
      "25/25 [==============================] - 5s 203ms/step - loss: 1.3294 - accuracy: 0.5220\n",
      "Epoch 9/50\n",
      "25/25 [==============================] - 5s 205ms/step - loss: 1.2524 - accuracy: 0.5558\n",
      "Epoch 10/50\n",
      "25/25 [==============================] - 5s 202ms/step - loss: 1.1694 - accuracy: 0.6035\n",
      "Epoch 11/50\n",
      "25/25 [==============================] - 5s 203ms/step - loss: 1.1533 - accuracy: 0.5922\n",
      "Epoch 12/50\n",
      "25/25 [==============================] - 5s 202ms/step - loss: 1.1065 - accuracy: 0.6098\n",
      "Epoch 13/50\n",
      "25/25 [==============================] - 5s 200ms/step - loss: 1.0464 - accuracy: 0.6274\n",
      "Epoch 14/50\n",
      "25/25 [==============================] - 5s 200ms/step - loss: 0.9776 - accuracy: 0.6462\n",
      "Epoch 15/50\n",
      "25/25 [==============================] - 6s 221ms/step - loss: 0.9927 - accuracy: 0.6399\n",
      "Epoch 16/50\n",
      "25/25 [==============================] - 5s 209ms/step - loss: 0.8875 - accuracy: 0.6888\n",
      "Epoch 17/50\n",
      "25/25 [==============================] - 5s 200ms/step - loss: 0.8866 - accuracy: 0.6838\n",
      "Epoch 18/50\n",
      "25/25 [==============================] - 5s 201ms/step - loss: 0.8271 - accuracy: 0.7227\n",
      "Epoch 19/50\n",
      "25/25 [==============================] - 5s 209ms/step - loss: 0.7689 - accuracy: 0.7415\n",
      "Epoch 20/50\n",
      "25/25 [==============================] - 5s 203ms/step - loss: 0.7387 - accuracy: 0.7453\n",
      "Epoch 21/50\n",
      "25/25 [==============================] - 5s 203ms/step - loss: 0.6906 - accuracy: 0.7629\n",
      "Epoch 22/50\n",
      "25/25 [==============================] - 5s 203ms/step - loss: 0.6592 - accuracy: 0.7967\n",
      "Epoch 23/50\n",
      "25/25 [==============================] - 5s 204ms/step - loss: 0.5834 - accuracy: 0.7992\n",
      "Epoch 24/50\n",
      "25/25 [==============================] - 5s 214ms/step - loss: 0.5290 - accuracy: 0.8419\n",
      "Epoch 25/50\n",
      "25/25 [==============================] - 5s 201ms/step - loss: 0.4833 - accuracy: 0.8457\n",
      "Epoch 26/50\n",
      "25/25 [==============================] - 5s 204ms/step - loss: 0.4590 - accuracy: 0.8632\n",
      "Epoch 27/50\n",
      "25/25 [==============================] - 5s 205ms/step - loss: 0.4451 - accuracy: 0.8532\n",
      "Epoch 28/50\n",
      "25/25 [==============================] - 5s 204ms/step - loss: 0.3680 - accuracy: 0.8984\n",
      "Epoch 29/50\n",
      "25/25 [==============================] - 5s 204ms/step - loss: 0.3669 - accuracy: 0.9034\n",
      "Epoch 30/50\n",
      "25/25 [==============================] - 5s 201ms/step - loss: 0.3091 - accuracy: 0.9159\n",
      "Epoch 31/50\n",
      "25/25 [==============================] - 5s 199ms/step - loss: 0.2718 - accuracy: 0.9272\n",
      "Epoch 32/50\n",
      "25/25 [==============================] - 5s 201ms/step - loss: 0.2634 - accuracy: 0.9285\n",
      "Epoch 33/50\n",
      "25/25 [==============================] - 5s 202ms/step - loss: 0.2335 - accuracy: 0.9373\n",
      "Epoch 34/50\n",
      "25/25 [==============================] - 5s 203ms/step - loss: 0.2077 - accuracy: 0.9498\n",
      "Epoch 35/50\n",
      "25/25 [==============================] - 5s 204ms/step - loss: 0.2085 - accuracy: 0.9435\n",
      "Epoch 36/50\n",
      "25/25 [==============================] - 5s 201ms/step - loss: 0.1937 - accuracy: 0.9511\n",
      "Epoch 37/50\n",
      "25/25 [==============================] - 5s 204ms/step - loss: 0.1864 - accuracy: 0.9536\n",
      "Epoch 38/50\n",
      "25/25 [==============================] - 5s 203ms/step - loss: 0.1304 - accuracy: 0.9824\n",
      "Epoch 39/50\n",
      "25/25 [==============================] - 5s 211ms/step - loss: 0.1187 - accuracy: 0.9787\n",
      "Epoch 40/50\n",
      "25/25 [==============================] - 5s 202ms/step - loss: 0.0901 - accuracy: 0.9875\n",
      "Epoch 41/50\n",
      "25/25 [==============================] - 5s 200ms/step - loss: 0.0792 - accuracy: 0.9925\n",
      "Epoch 42/50\n",
      "25/25 [==============================] - 5s 202ms/step - loss: 0.0761 - accuracy: 0.9887\n",
      "Epoch 43/50\n",
      "25/25 [==============================] - 5s 206ms/step - loss: 0.0660 - accuracy: 0.9912\n",
      "Epoch 44/50\n",
      "25/25 [==============================] - 5s 207ms/step - loss: 0.0572 - accuracy: 0.9925\n",
      "Epoch 45/50\n",
      "25/25 [==============================] - 5s 207ms/step - loss: 0.0540 - accuracy: 0.9950\n",
      "Epoch 46/50\n",
      "25/25 [==============================] - 5s 206ms/step - loss: 0.0451 - accuracy: 0.9962\n",
      "Epoch 47/50\n",
      "25/25 [==============================] - 5s 201ms/step - loss: 0.0350 - accuracy: 0.9987\n",
      "Epoch 48/50\n",
      "25/25 [==============================] - 5s 203ms/step - loss: 0.0378 - accuracy: 0.9975\n",
      "Epoch 49/50\n",
      "25/25 [==============================] - 5s 201ms/step - loss: 0.0306 - accuracy: 0.9975\n",
      "Epoch 50/50\n",
      "25/25 [==============================] - 5s 199ms/step - loss: 0.0360 - accuracy: 0.9937\n"
     ]
    }
   ],
   "source": [
    "# Instanciate a Sequential model\n",
    "model = Sequential()\n",
    "\n",
    "# Add a convolutional layer with 32 filters, kernel size 3x3, stride 1, padding 'same'\n",
    "model.add(tf.keras.layers.Conv2D(32, (12, 8), activation='relu', input_shape=(40, 80, 3)))\n",
    "\n",
    "# Add a max pooling layer with kernel size 2x2, stride 2\n",
    "model.add(tf.keras.layers.MaxPool2D((2, 2), strides=(2, 2)))\n",
    "\n",
    "# Flatten the output of the convolutional layer\n",
    "model.add(tf.keras.layers.Flatten())\n",
    "\n",
    "# Add a fully connected layer with 200 neurons\n",
    "model.add(tf.keras.layers.Dense(200, activation='relu'))\n",
    "\n",
    "# Add a softmax layer with 8 neurons\n",
    "model.add(tf.keras.layers.Dense(10, activation='softmax'))\n",
    "\n",
    "# Compile the model\n",
    "model.compile(optimizer='adam', loss='categorical_crossentropy', metrics=['accuracy'])\n",
    "\n",
    "# Fetch spectogram dataset\n",
    "train_generator = fetch_spectogram_dataset(\"data/train\")\n",
    "\n",
    "# Train the model\n",
    "history = model.fit_generator(train_generator, epochs=50, verbose=1)\n"
   ]
  },
  {
   "cell_type": "code",
   "execution_count": 17,
   "metadata": {},
   "outputs": [
    {
     "name": "stdout",
     "output_type": "stream",
     "text": [
      "Found 203 images belonging to 10 classes.\n"
     ]
    },
    {
     "name": "stderr",
     "output_type": "stream",
     "text": [
      "/tmp/ipykernel_18796/3064563573.py:4: UserWarning: `Model.evaluate_generator` is deprecated and will be removed in a future version. Please use `Model.evaluate`, which supports generators.\n",
      "  model.evaluate_generator(test_generator, verbose=1)\n"
     ]
    },
    {
     "name": "stdout",
     "output_type": "stream",
     "text": [
      "7/7 [==============================] - 2s 237ms/step - loss: 2.3704 - accuracy: 0.5320\n"
     ]
    },
    {
     "data": {
      "text/plain": [
       "[2.370410203933716, 0.5320196747779846]"
      ]
     },
     "execution_count": 17,
     "metadata": {},
     "output_type": "execute_result"
    }
   ],
   "source": [
    "# Evaluate the model\n",
    "test_generator = fetch_spectogram_dataset(\"data/test\")\n",
    "\n",
    "model.evaluate_generator(test_generator, verbose=1)"
   ]
  },
  {
   "cell_type": "code",
   "execution_count": null,
   "metadata": {},
   "outputs": [],
   "source": []
  }
 ],
 "metadata": {
  "interpreter": {
   "hash": "11f8997325b6a26e3a7db7ab7df2b0aff4e8d88be9bc204fecb37f3b077840b9"
  },
  "kernelspec": {
   "display_name": "Python 3.8.10 64-bit ('venv': venv)",
   "language": "python",
   "name": "python3"
  },
  "language_info": {
   "codemirror_mode": {
    "name": "ipython",
    "version": 3
   },
   "file_extension": ".py",
   "mimetype": "text/x-python",
   "name": "python",
   "nbconvert_exporter": "python",
   "pygments_lexer": "ipython3",
   "version": "3.8.10"
  },
  "orig_nbformat": 4
 },
 "nbformat": 4,
 "nbformat_minor": 2
}
