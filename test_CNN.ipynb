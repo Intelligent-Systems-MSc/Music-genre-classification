{
  "nbformat": 4,
  "nbformat_minor": 5,
  "metadata": {
    "kernelspec": {
      "display_name": "Python 3",
      "language": "python",
      "name": "python3"
    },
    "language_info": {
      "codemirror_mode": {
        "name": "ipython",
        "version": 3
      },
      "file_extension": ".py",
      "mimetype": "text/x-python",
      "name": "python",
      "nbconvert_exporter": "python",
      "pygments_lexer": "ipython3",
      "version": "3.8.8"
    },
    "colab": {
      "name": "test CNN.ipynb",
      "provenance": [],
      "collapsed_sections": [
        "1d67816a"
      ]
    },
    "accelerator": "GPU"
  },
  "cells": [
    {
      "cell_type": "code",
      "metadata": {
        "id": "01b1d271"
      },
      "source": [
        "import os\n",
        "import h5py\n",
        "import librosa\n",
        "import itertools\n",
        "from copy import copy\n",
        "import numpy as np\n",
        "import matplotlib.pyplot as plt\n",
        "from collections import OrderedDict\n",
        "from sklearn.model_selection import train_test_split\n",
        "from sklearn.metrics import confusion_matrix\n",
        "import random"
      ],
      "id": "01b1d271",
      "execution_count": 1,
      "outputs": []
    },
    {
      "cell_type": "code",
      "metadata": {
        "colab": {
          "base_uri": "https://localhost:8080/"
        },
        "id": "ZQv9yXQ29tmr",
        "outputId": "ca29487c-3f27-415b-bb76-d19db899cf4d"
      },
      "source": [
        "from google.colab import drive\n",
        "drive.mount('/content/drive')"
      ],
      "id": "ZQv9yXQ29tmr",
      "execution_count": 2,
      "outputs": [
        {
          "output_type": "stream",
          "name": "stdout",
          "text": [
            "Mounted at /content/drive\n"
          ]
        }
      ]
    },
    {
      "cell_type": "code",
      "metadata": {
        "colab": {
          "base_uri": "https://localhost:8080/"
        },
        "id": "pLv2n3EQ96WJ",
        "outputId": "c837e391-f95a-4969-917c-28875e629a61"
      },
      "source": [
        "pip install patool"
      ],
      "id": "pLv2n3EQ96WJ",
      "execution_count": 3,
      "outputs": [
        {
          "output_type": "stream",
          "name": "stdout",
          "text": [
            "Collecting patool\n",
            "  Downloading patool-1.12-py2.py3-none-any.whl (77 kB)\n",
            "\u001b[?25l\r\u001b[K     |████▎                           | 10 kB 26.1 MB/s eta 0:00:01\r\u001b[K     |████████▌                       | 20 kB 27.9 MB/s eta 0:00:01\r\u001b[K     |████████████▊                   | 30 kB 19.6 MB/s eta 0:00:01\r\u001b[K     |█████████████████               | 40 kB 16.6 MB/s eta 0:00:01\r\u001b[K     |█████████████████████▏          | 51 kB 13.9 MB/s eta 0:00:01\r\u001b[K     |█████████████████████████▍      | 61 kB 12.2 MB/s eta 0:00:01\r\u001b[K     |█████████████████████████████▋  | 71 kB 12.0 MB/s eta 0:00:01\r\u001b[K     |████████████████████████████████| 77 kB 4.6 MB/s \n",
            "\u001b[?25hInstalling collected packages: patool\n",
            "Successfully installed patool-1.12\n"
          ]
        }
      ]
    },
    {
      "cell_type": "code",
      "metadata": {
        "colab": {
          "base_uri": "https://localhost:8080/",
          "height": 105
        },
        "id": "VIF-GXx0-Bfh",
        "outputId": "0f99862a-da93-4245-ae35-9347bab5c843"
      },
      "source": [
        "import patoolib\n",
        "patoolib.extract_archive(\"/content/drive/MyDrive/genres_images.rar\", outdir=\"/content\")"
      ],
      "id": "VIF-GXx0-Bfh",
      "execution_count": 4,
      "outputs": [
        {
          "output_type": "stream",
          "name": "stdout",
          "text": [
            "patool: Extracting /content/drive/MyDrive/genres_images.rar ...\n",
            "patool: running /usr/bin/unrar x -- /content/drive/MyDrive/genres_images.rar\n",
            "patool:     with cwd='/content'\n",
            "patool: ... /content/drive/MyDrive/genres_images.rar extracted to `/content'.\n"
          ]
        },
        {
          "output_type": "execute_result",
          "data": {
            "application/vnd.google.colaboratory.intrinsic+json": {
              "type": "string"
            },
            "text/plain": [
              "'/content'"
            ]
          },
          "metadata": {},
          "execution_count": 4
        }
      ]
    },
    {
      "cell_type": "code",
      "metadata": {
        "id": "12a1269a"
      },
      "source": [
        "import tensorflow as tf\n",
        "from tensorflow.keras.utils import to_categorical\n",
        "from tensorflow.keras.models import Model\n",
        "from tensorflow.keras.layers import Input\n",
        "from tensorflow.keras.models import Sequential\n",
        "from tensorflow.keras.layers import Add\n",
        "from tensorflow.keras.layers import Dense\n",
        "from tensorflow.keras.layers import Activation\n",
        "from tensorflow.keras.layers import PReLU\n",
        "from tensorflow.keras.layers import Conv2D\n",
        "from tensorflow.keras.layers import MaxPooling2D\n",
        "from tensorflow.keras.layers import AveragePooling2D\n",
        "from tensorflow.keras.layers import GlobalAveragePooling2D\n",
        "from tensorflow.keras.layers import GlobalMaxPooling2D\n",
        "from tensorflow.keras.layers import Dropout\n",
        "from tensorflow.keras.layers import Flatten\n",
        "from tensorflow.keras.layers import BatchNormalization\n",
        "from tensorflow.keras.callbacks import ReduceLROnPlateau"
      ],
      "id": "12a1269a",
      "execution_count": 5,
      "outputs": []
    },
    {
      "cell_type": "code",
      "metadata": {
        "id": "8a9d471b"
      },
      "source": [
        "import librosa\n",
        "import librosa.display\n",
        "# For reproducibility purposes\n",
        "np.random.seed(42)"
      ],
      "id": "8a9d471b",
      "execution_count": 6,
      "outputs": []
    },
    {
      "cell_type": "markdown",
      "metadata": {
        "id": "HueXoegIFSeY"
      },
      "source": [
        ""
      ],
      "id": "HueXoegIFSeY"
    },
    {
      "cell_type": "markdown",
      "metadata": {
        "id": "1d67816a"
      },
      "source": [
        "# Images"
      ],
      "id": "1d67816a"
    },
    {
      "cell_type": "code",
      "metadata": {
        "scrolled": true,
        "id": "a984ffd8"
      },
      "source": [
        "src_dir = r'C:\\Users\\108652706\\Documents\\DOCUMENT_perso\\ISI\\Son\\projet\\genres\\genres'\n",
        "song_samples = 660000\n",
        "genres = {'metal': 0, 'disco': 1, 'classical': 2, 'hiphop': 3, 'jazz': 4, \n",
        "          'country': 5, 'pop': 6, 'blues': 7, 'reggae': 8, 'rock': 9}\n",
        "#genres = {'pop': 6, 'blues': 7, 'reggae': 8, 'rock': 9}\n",
        "images_genre_dir= r\"C:\\Users\\108652706\\Documents\\DOCUMENT_perso\\ISI\\Son\\projet\\genres_images\"\n",
        "data=[]\n",
        "for x,y in genres.items():\n",
        "     \n",
        "        im_genre_path=images_genre_dir+\"\\\\\"+str(x)\n",
        "        main_folder = src_dir+\"\\\\\"+x\n",
        "        os.mkdir(im_genre_path)\n",
        "        for root, subdirs, files in os.walk(main_folder):\n",
        "            for file in files:\n",
        "                file_name = main_folder + \"\\\\\" + file\n",
        "                image_name = im_genre_path+\"\\\\\"+file[:-3]+\"png\"\n",
        "                signal, sr = librosa.load(file_name)\n",
        "                stft = librosa.stft(signal)\n",
        "                Xdb = librosa.amplitude_to_db(abs(stft))\n",
        "                plt.figure(figsize=(14, 5))\n",
        "                librosa.display.specshow(Xdb, sr=sr)\n",
        "                plt.axis('off')\n",
        "                plt.savefig(image_name, bbox_inches='tight',pad_inches = 0) \n",
        "                plt.close()\n",
        "                #add_image(image_name,data,y)\n",
        "                \n",
        "            \n",
        "    "
      ],
      "id": "a984ffd8",
      "execution_count": null,
      "outputs": []
    },
    {
      "cell_type": "markdown",
      "metadata": {
        "id": "Z8cqV0zUJYGn"
      },
      "source": [
        "#Load images"
      ],
      "id": "Z8cqV0zUJYGn"
    },
    {
      "cell_type": "code",
      "metadata": {
        "id": "63dbcada"
      },
      "source": [
        "import cv2\n",
        "def add_image(image_name,data,y):\n",
        "    #color\n",
        "    #im= cv2.imread(image_name)\n",
        "    #image = cv2.cvtColor(im, cv2.COLOR_BGR2RGB)\n",
        "    #gray\n",
        "    image = (cv2.imread(image_name, cv2.IMREAD_COLOR)/255).astype(np.float16)\n",
        "    data.append([image,y])"
      ],
      "id": "63dbcada",
      "execution_count": 7,
      "outputs": []
    },
    {
      "cell_type": "code",
      "metadata": {
        "colab": {
          "base_uri": "https://localhost:8080/"
        },
        "id": "a9af05f5",
        "outputId": "e7b6f700-b140-468d-fb07-dcf751243b0d"
      },
      "source": [
        "from tqdm import tqdm\n",
        "images_genre_dir= '/content/genres_images'\n",
        "i=0\n",
        "data=[]\n",
        "for classe in tqdm(os.listdir(images_genre_dir)) :\n",
        "    print(classe)\n",
        "    file_name = os.path.join(images_genre_dir,classe)\n",
        "    label = i  \n",
        "    for name_image in tqdm(os.listdir(file_name)): \n",
        "        image= os.path.join(file_name,name_image)\n",
        "        add_image(image,data,label)\n",
        "    i+=1"
      ],
      "id": "a9af05f5",
      "execution_count": 8,
      "outputs": [
        {
          "output_type": "stream",
          "name": "stderr",
          "text": [
            "\r  0%|          | 0/10 [00:00<?, ?it/s]"
          ]
        },
        {
          "output_type": "stream",
          "name": "stdout",
          "text": [
            "hiphop\n"
          ]
        },
        {
          "output_type": "stream",
          "name": "stderr",
          "text": [
            "\n",
            "  0%|          | 0/100 [00:00<?, ?it/s]\u001b[A\n",
            "  4%|▍         | 4/100 [00:00<00:02, 36.61it/s]\u001b[A\n",
            " 11%|█         | 11/100 [00:00<00:01, 52.89it/s]\u001b[A\n",
            " 18%|█▊        | 18/100 [00:00<00:01, 58.52it/s]\u001b[A\n",
            " 25%|██▌       | 25/100 [00:00<00:01, 60.15it/s]\u001b[A\n",
            " 32%|███▏      | 32/100 [00:00<00:01, 63.08it/s]\u001b[A\n",
            " 39%|███▉      | 39/100 [00:00<00:00, 65.00it/s]\u001b[A\n",
            " 46%|████▌     | 46/100 [00:00<00:00, 66.36it/s]\u001b[A\n",
            " 53%|█████▎    | 53/100 [00:00<00:00, 67.29it/s]\u001b[A\n",
            " 60%|██████    | 60/100 [00:00<00:00, 67.12it/s]\u001b[A\n",
            " 67%|██████▋   | 67/100 [00:01<00:00, 66.03it/s]\u001b[A\n",
            " 74%|███████▍  | 74/100 [00:01<00:00, 67.19it/s]\u001b[A\n",
            " 81%|████████  | 81/100 [00:01<00:00, 66.70it/s]\u001b[A\n",
            " 88%|████████▊ | 88/100 [00:01<00:00, 67.04it/s]\u001b[A\n",
            "100%|██████████| 100/100 [00:01<00:00, 64.91it/s]\n",
            " 10%|█         | 1/10 [00:01<00:13,  1.55s/it]"
          ]
        },
        {
          "output_type": "stream",
          "name": "stdout",
          "text": [
            "metal\n"
          ]
        },
        {
          "output_type": "stream",
          "name": "stderr",
          "text": [
            "\n",
            "  0%|          | 0/100 [00:00<?, ?it/s]\u001b[A\n",
            "  8%|▊         | 8/100 [00:00<00:01, 76.97it/s]\u001b[A\n",
            " 16%|█▌        | 16/100 [00:00<00:01, 73.53it/s]\u001b[A\n",
            " 24%|██▍       | 24/100 [00:00<00:01, 72.35it/s]\u001b[A\n",
            " 32%|███▏      | 32/100 [00:00<00:00, 69.70it/s]\u001b[A\n",
            " 39%|███▉      | 39/100 [00:00<00:00, 67.45it/s]\u001b[A\n",
            " 46%|████▌     | 46/100 [00:00<00:00, 66.92it/s]\u001b[A\n",
            " 53%|█████▎    | 53/100 [00:00<00:00, 65.86it/s]\u001b[A\n",
            " 61%|██████    | 61/100 [00:00<00:00, 68.13it/s]\u001b[A\n",
            " 68%|██████▊   | 68/100 [00:00<00:00, 68.46it/s]\u001b[A\n",
            " 75%|███████▌  | 75/100 [00:01<00:00, 68.70it/s]\u001b[A\n",
            " 82%|████████▏ | 82/100 [00:01<00:00, 68.44it/s]\u001b[A\n",
            " 89%|████████▉ | 89/100 [00:01<00:00, 68.46it/s]\u001b[A\n",
            "100%|██████████| 100/100 [00:01<00:00, 68.68it/s]\n",
            " 20%|██        | 2/10 [00:03<00:12,  1.50s/it]"
          ]
        },
        {
          "output_type": "stream",
          "name": "stdout",
          "text": [
            "blues\n"
          ]
        },
        {
          "output_type": "stream",
          "name": "stderr",
          "text": [
            "\n",
            "  0%|          | 0/100 [00:00<?, ?it/s]\u001b[A\n",
            "  8%|▊         | 8/100 [00:00<00:01, 77.09it/s]\u001b[A\n",
            " 16%|█▌        | 16/100 [00:00<00:01, 72.95it/s]\u001b[A\n",
            " 24%|██▍       | 24/100 [00:00<00:01, 72.72it/s]\u001b[A\n",
            " 32%|███▏      | 32/100 [00:00<00:00, 71.14it/s]\u001b[A\n",
            " 40%|████      | 40/100 [00:00<00:00, 71.51it/s]\u001b[A\n",
            " 48%|████▊     | 48/100 [00:00<00:00, 71.84it/s]\u001b[A\n",
            " 56%|█████▌    | 56/100 [00:00<00:00, 70.70it/s]\u001b[A\n",
            " 64%|██████▍   | 64/100 [00:00<00:00, 70.18it/s]\u001b[A\n",
            " 72%|███████▏  | 72/100 [00:01<00:00, 70.63it/s]\u001b[A\n",
            " 80%|████████  | 80/100 [00:01<00:00, 70.64it/s]\u001b[A\n",
            " 88%|████████▊ | 88/100 [00:01<00:00, 68.88it/s]\u001b[A\n",
            "100%|██████████| 100/100 [00:01<00:00, 69.79it/s]\n",
            " 30%|███       | 3/10 [00:04<00:10,  1.48s/it]"
          ]
        },
        {
          "output_type": "stream",
          "name": "stdout",
          "text": [
            "disco\n"
          ]
        },
        {
          "output_type": "stream",
          "name": "stderr",
          "text": [
            "\n",
            "  0%|          | 0/100 [00:00<?, ?it/s]\u001b[A\n",
            "  8%|▊         | 8/100 [00:00<00:01, 73.09it/s]\u001b[A\n",
            " 16%|█▌        | 16/100 [00:00<00:01, 68.61it/s]\u001b[A\n",
            " 23%|██▎       | 23/100 [00:00<00:01, 68.09it/s]\u001b[A\n",
            " 30%|███       | 30/100 [00:00<00:01, 67.33it/s]\u001b[A\n",
            " 37%|███▋      | 37/100 [00:00<00:00, 67.03it/s]\u001b[A\n",
            " 45%|████▌     | 45/100 [00:00<00:00, 68.42it/s]\u001b[A\n",
            " 52%|█████▏    | 52/100 [00:00<00:00, 68.20it/s]\u001b[A\n",
            " 59%|█████▉    | 59/100 [00:00<00:00, 66.73it/s]\u001b[A\n",
            " 66%|██████▌   | 66/100 [00:00<00:00, 66.83it/s]\u001b[A\n",
            " 73%|███████▎  | 73/100 [00:01<00:00, 66.40it/s]\u001b[A\n",
            " 81%|████████  | 81/100 [00:01<00:00, 68.01it/s]\u001b[A\n",
            " 89%|████████▉ | 89/100 [00:01<00:00, 69.08it/s]\u001b[A\n",
            "100%|██████████| 100/100 [00:01<00:00, 67.19it/s]\n",
            " 40%|████      | 4/10 [00:05<00:08,  1.49s/it]"
          ]
        },
        {
          "output_type": "stream",
          "name": "stdout",
          "text": [
            "jazz\n"
          ]
        },
        {
          "output_type": "stream",
          "name": "stderr",
          "text": [
            "\n",
            "  0%|          | 0/100 [00:00<?, ?it/s]\u001b[A\n",
            "  8%|▊         | 8/100 [00:00<00:01, 75.76it/s]\u001b[A\n",
            " 16%|█▌        | 16/100 [00:00<00:01, 72.35it/s]\u001b[A\n",
            " 24%|██▍       | 24/100 [00:00<00:01, 69.59it/s]\u001b[A\n",
            " 32%|███▏      | 32/100 [00:00<00:00, 70.52it/s]\u001b[A\n",
            " 40%|████      | 40/100 [00:00<00:00, 71.35it/s]\u001b[A\n",
            " 48%|████▊     | 48/100 [00:00<00:00, 71.60it/s]\u001b[A\n",
            " 56%|█████▌    | 56/100 [00:00<00:00, 71.91it/s]\u001b[A\n",
            " 64%|██████▍   | 64/100 [00:00<00:00, 69.39it/s]\u001b[A\n",
            " 72%|███████▏  | 72/100 [00:01<00:00, 70.51it/s]\u001b[A\n",
            " 80%|████████  | 80/100 [00:01<00:00, 69.42it/s]\u001b[A\n",
            " 87%|████████▋ | 87/100 [00:01<00:00, 69.45it/s]\u001b[A\n",
            "100%|██████████| 100/100 [00:01<00:00, 70.11it/s]\n",
            " 50%|█████     | 5/10 [00:07<00:07,  1.47s/it]"
          ]
        },
        {
          "output_type": "stream",
          "name": "stdout",
          "text": [
            "rock\n"
          ]
        },
        {
          "output_type": "stream",
          "name": "stderr",
          "text": [
            "\n",
            "  0%|          | 0/100 [00:00<?, ?it/s]\u001b[A\n",
            "  8%|▊         | 8/100 [00:00<00:01, 73.63it/s]\u001b[A\n",
            " 16%|█▌        | 16/100 [00:00<00:01, 71.75it/s]\u001b[A\n",
            " 24%|██▍       | 24/100 [00:00<00:01, 71.07it/s]\u001b[A\n",
            " 32%|███▏      | 32/100 [00:00<00:00, 69.56it/s]\u001b[A\n",
            " 40%|████      | 40/100 [00:00<00:00, 70.18it/s]\u001b[A\n",
            " 48%|████▊     | 48/100 [00:00<00:00, 70.11it/s]\u001b[A\n",
            " 56%|█████▌    | 56/100 [00:00<00:00, 69.13it/s]\u001b[A\n",
            " 63%|██████▎   | 63/100 [00:00<00:00, 67.87it/s]\u001b[A\n",
            " 70%|███████   | 70/100 [00:01<00:00, 67.84it/s]\u001b[A\n",
            " 77%|███████▋  | 77/100 [00:01<00:00, 67.01it/s]\u001b[A\n",
            " 84%|████████▍ | 84/100 [00:01<00:00, 67.36it/s]\u001b[A\n",
            " 92%|█████████▏| 92/100 [00:01<00:00, 68.99it/s]\u001b[A\n",
            "100%|██████████| 100/100 [00:01<00:00, 68.29it/s]\n",
            " 60%|██████    | 6/10 [00:08<00:05,  1.48s/it]"
          ]
        },
        {
          "output_type": "stream",
          "name": "stdout",
          "text": [
            "classical\n"
          ]
        },
        {
          "output_type": "stream",
          "name": "stderr",
          "text": [
            "\n",
            "  0%|          | 0/100 [00:00<?, ?it/s]\u001b[A\n",
            "  7%|▋         | 7/100 [00:00<00:01, 69.92it/s]\u001b[A\n",
            " 14%|█▍        | 14/100 [00:00<00:01, 69.62it/s]\u001b[A\n",
            " 21%|██        | 21/100 [00:00<00:01, 69.24it/s]\u001b[A\n",
            " 29%|██▉       | 29/100 [00:00<00:01, 68.60it/s]\u001b[A\n",
            " 37%|███▋      | 37/100 [00:00<00:00, 70.07it/s]\u001b[A\n",
            " 45%|████▌     | 45/100 [00:00<00:00, 72.38it/s]\u001b[A\n",
            " 53%|█████▎    | 53/100 [00:00<00:00, 73.18it/s]\u001b[A\n",
            " 61%|██████    | 61/100 [00:00<00:00, 74.08it/s]\u001b[A\n",
            " 69%|██████▉   | 69/100 [00:00<00:00, 75.20it/s]\u001b[A\n",
            " 77%|███████▋  | 77/100 [00:01<00:00, 75.58it/s]\u001b[A\n",
            " 85%|████████▌ | 85/100 [00:01<00:00, 74.16it/s]\u001b[A\n",
            "100%|██████████| 100/100 [00:01<00:00, 72.42it/s]\n",
            " 70%|███████   | 7/10 [00:10<00:04,  1.45s/it]"
          ]
        },
        {
          "output_type": "stream",
          "name": "stdout",
          "text": [
            "reggae\n"
          ]
        },
        {
          "output_type": "stream",
          "name": "stderr",
          "text": [
            "\n",
            "  0%|          | 0/100 [00:00<?, ?it/s]\u001b[A\n",
            "  8%|▊         | 8/100 [00:00<00:01, 72.05it/s]\u001b[A\n",
            " 16%|█▌        | 16/100 [00:00<00:01, 68.41it/s]\u001b[A\n",
            " 23%|██▎       | 23/100 [00:00<00:01, 67.20it/s]\u001b[A\n",
            " 30%|███       | 30/100 [00:00<00:01, 67.01it/s]\u001b[A\n",
            " 37%|███▋      | 37/100 [00:00<00:00, 66.32it/s]\u001b[A\n",
            " 44%|████▍     | 44/100 [00:00<00:00, 67.24it/s]\u001b[A\n",
            " 51%|█████     | 51/100 [00:00<00:00, 66.33it/s]\u001b[A\n",
            " 58%|█████▊    | 58/100 [00:00<00:00, 66.54it/s]\u001b[A\n",
            " 65%|██████▌   | 65/100 [00:00<00:00, 66.95it/s]\u001b[A\n",
            " 72%|███████▏  | 72/100 [00:01<00:00, 66.21it/s]\u001b[A\n",
            " 79%|███████▉  | 79/100 [00:01<00:00, 66.56it/s]\u001b[A\n",
            " 86%|████████▌ | 86/100 [00:01<00:00, 67.39it/s]\u001b[A\n",
            " 93%|█████████▎| 93/100 [00:01<00:00, 67.50it/s]\u001b[A\n",
            "100%|██████████| 100/100 [00:01<00:00, 66.70it/s]\n",
            " 80%|████████  | 8/10 [00:11<00:02,  1.48s/it]"
          ]
        },
        {
          "output_type": "stream",
          "name": "stdout",
          "text": [
            "pop\n"
          ]
        },
        {
          "output_type": "stream",
          "name": "stderr",
          "text": [
            "\n",
            "  0%|          | 0/100 [00:00<?, ?it/s]\u001b[A\n",
            "  7%|▋         | 7/100 [00:00<00:01, 68.93it/s]\u001b[A\n",
            " 14%|█▍        | 14/100 [00:00<00:01, 66.71it/s]\u001b[A\n",
            " 21%|██        | 21/100 [00:00<00:01, 64.69it/s]\u001b[A\n",
            " 28%|██▊       | 28/100 [00:00<00:01, 65.16it/s]\u001b[A\n",
            " 35%|███▌      | 35/100 [00:00<00:01, 64.91it/s]\u001b[A\n",
            " 42%|████▏     | 42/100 [00:00<00:00, 64.95it/s]\u001b[A\n",
            " 49%|████▉     | 49/100 [00:00<00:00, 66.05it/s]\u001b[A\n",
            " 56%|█████▌    | 56/100 [00:00<00:00, 64.95it/s]\u001b[A\n",
            " 63%|██████▎   | 63/100 [00:00<00:00, 64.51it/s]\u001b[A\n",
            " 70%|███████   | 70/100 [00:01<00:00, 64.49it/s]\u001b[A\n",
            " 77%|███████▋  | 77/100 [00:01<00:00, 64.97it/s]\u001b[A\n",
            " 84%|████████▍ | 84/100 [00:01<00:00, 63.88it/s]\u001b[A\n",
            " 91%|█████████ | 91/100 [00:01<00:00, 65.18it/s]\u001b[A\n",
            "100%|██████████| 100/100 [00:01<00:00, 64.92it/s]\n",
            " 90%|█████████ | 9/10 [00:13<00:01,  1.50s/it]"
          ]
        },
        {
          "output_type": "stream",
          "name": "stdout",
          "text": [
            "country\n"
          ]
        },
        {
          "output_type": "stream",
          "name": "stderr",
          "text": [
            "\n",
            "  0%|          | 0/100 [00:00<?, ?it/s]\u001b[A\n",
            "  7%|▋         | 7/100 [00:00<00:01, 68.13it/s]\u001b[A\n",
            " 14%|█▍        | 14/100 [00:00<00:01, 67.48it/s]\u001b[A\n",
            " 21%|██        | 21/100 [00:00<00:01, 68.10it/s]\u001b[A\n",
            " 28%|██▊       | 28/100 [00:00<00:01, 67.34it/s]\u001b[A\n",
            " 36%|███▌      | 36/100 [00:00<00:00, 68.47it/s]\u001b[A\n",
            " 43%|████▎     | 43/100 [00:00<00:00, 67.35it/s]\u001b[A\n",
            " 50%|█████     | 50/100 [00:00<00:00, 67.70it/s]\u001b[A\n",
            " 57%|█████▋    | 57/100 [00:00<00:00, 67.78it/s]\u001b[A\n",
            " 65%|██████▌   | 65/100 [00:00<00:00, 69.07it/s]\u001b[A\n",
            " 72%|███████▏  | 72/100 [00:01<00:00, 67.45it/s]\u001b[A\n",
            " 79%|███████▉  | 79/100 [00:01<00:00, 67.62it/s]\u001b[A\n",
            " 86%|████████▌ | 86/100 [00:01<00:00, 67.84it/s]\u001b[A\n",
            " 93%|█████████▎| 93/100 [00:01<00:00, 66.85it/s]\u001b[A\n",
            "100%|██████████| 100/100 [00:01<00:00, 67.27it/s]\n",
            "100%|██████████| 10/10 [00:14<00:00,  1.49s/it]\n"
          ]
        }
      ]
    },
    {
      "cell_type": "code",
      "metadata": {
        "id": "3a391a80",
        "colab": {
          "base_uri": "https://localhost:8080/",
          "height": 183
        },
        "outputId": "bbbaef17-e581-4ec4-a7f9-9df5c6b55afa"
      },
      "source": [
        "len(data)\n",
        "data[0][0][0].dtype()"
      ],
      "id": "3a391a80",
      "execution_count": null,
      "outputs": [
        {
          "output_type": "error",
          "ename": "TypeError",
          "evalue": "ignored",
          "traceback": [
            "\u001b[0;31m---------------------------------------------------------------------------\u001b[0m",
            "\u001b[0;31mTypeError\u001b[0m                                 Traceback (most recent call last)",
            "\u001b[0;32m<ipython-input-12-d37e565d2ea1>\u001b[0m in \u001b[0;36m<module>\u001b[0;34m()\u001b[0m\n\u001b[1;32m      1\u001b[0m \u001b[0mlen\u001b[0m\u001b[0;34m(\u001b[0m\u001b[0mdata\u001b[0m\u001b[0;34m)\u001b[0m\u001b[0;34m\u001b[0m\u001b[0;34m\u001b[0m\u001b[0m\n\u001b[0;32m----> 2\u001b[0;31m \u001b[0mdata\u001b[0m\u001b[0;34m[\u001b[0m\u001b[0;36m0\u001b[0m\u001b[0;34m]\u001b[0m\u001b[0;34m[\u001b[0m\u001b[0;36m0\u001b[0m\u001b[0;34m]\u001b[0m\u001b[0;34m[\u001b[0m\u001b[0;36m0\u001b[0m\u001b[0;34m]\u001b[0m\u001b[0;34m.\u001b[0m\u001b[0mdtype\u001b[0m\u001b[0;34m(\u001b[0m\u001b[0;34m)\u001b[0m\u001b[0;34m\u001b[0m\u001b[0;34m\u001b[0m\u001b[0m\n\u001b[0m",
            "\u001b[0;31mTypeError\u001b[0m: 'numpy.dtype' object is not callable"
          ]
        }
      ]
    },
    {
      "cell_type": "code",
      "metadata": {
        "id": "d5cd16e9"
      },
      "source": [
        "random.shuffle(data) # shuffling the training data\n",
        "X=[]\n",
        "y=[]\n",
        "n_classes=10\n",
        "for features, label in data:\n",
        "    X.append(features)\n",
        "    y.append(label)\n",
        "    \n",
        "width,height,dimension= data[0][0].shape\n",
        "X=np.array(X).reshape(-1,width,height,dimension)\n",
        "y_c=to_categorical(y,n_classes)"
      ],
      "id": "d5cd16e9",
      "execution_count": 9,
      "outputs": []
    },
    {
      "cell_type": "code",
      "metadata": {
        "id": "9PLyoGHbH8Kj"
      },
      "source": [
        "y=y_c"
      ],
      "id": "9PLyoGHbH8Kj",
      "execution_count": 10,
      "outputs": []
    },
    {
      "cell_type": "code",
      "metadata": {
        "colab": {
          "base_uri": "https://localhost:8080/"
        },
        "id": "KDmb4AYUJ0oF",
        "outputId": "2883a987-12c3-4e22-8ba2-bbf7ea9df997"
      },
      "source": [
        "X[0]"
      ],
      "id": "KDmb4AYUJ0oF",
      "execution_count": null,
      "outputs": [
        {
          "output_type": "execute_result",
          "data": {
            "text/plain": [
              "array([[[0.753 , 0.298 , 0.2313],\n",
              "        [0.957 , 0.5845, 0.447 ],\n",
              "        [1.    , 0.714 , 0.5806],\n",
              "        ...,\n",
              "        [0.9766, 0.8115, 0.718 ],\n",
              "        [0.996 , 0.7607, 0.639 ],\n",
              "        [0.996 , 0.686 , 0.549 ]],\n",
              "\n",
              "       [[0.753 , 0.298 , 0.2313],\n",
              "        [0.9727, 0.612 , 0.4746],\n",
              "        [1.    , 0.749 , 0.6235],\n",
              "        ...,\n",
              "        [0.996 , 0.686 , 0.549 ],\n",
              "        [0.9844, 0.8   , 0.698 ],\n",
              "        [0.9805, 0.8076, 0.714 ]],\n",
              "\n",
              "       [[0.929 , 0.5293, 0.4   ],\n",
              "        [0.965 , 0.5923, 0.4587],\n",
              "        [1.    , 0.7373, 0.608 ],\n",
              "        ...,\n",
              "        [0.9883, 0.792 , 0.686 ],\n",
              "        [0.957 , 0.8315, 0.757 ],\n",
              "        [0.996 , 0.7725, 0.655 ]],\n",
              "\n",
              "       ...,\n",
              "\n",
              "       [[0.4902, 0.612 , 0.961 ],\n",
              "        [0.537 , 0.6587, 0.9688],\n",
              "        [0.549 , 0.6665, 0.9688],\n",
              "        ...,\n",
              "        [0.4197, 0.533 , 0.937 ],\n",
              "        [0.408 , 0.5176, 0.933 ],\n",
              "        [0.3647, 0.4707, 0.9136]],\n",
              "\n",
              "       [[0.506 , 0.6274, 0.961 ],\n",
              "        [0.6196, 0.7256, 0.9688],\n",
              "        [0.6665, 0.7607, 0.961 ],\n",
              "        ...,\n",
              "        [0.929 , 0.851 , 0.8   ],\n",
              "        [0.6665, 0.7607, 0.961 ],\n",
              "        [0.5566, 0.6743, 0.9688]],\n",
              "\n",
              "       [[0.5884, 0.702 , 0.9688],\n",
              "        [0.9414, 0.8433, 0.788 ],\n",
              "        [0.8354, 0.855 , 0.886 ],\n",
              "        ...,\n",
              "        [0.992 , 0.6704, 0.533 ],\n",
              "        [0.7295, 0.8037, 0.9453],\n",
              "        [0.5566, 0.6743, 0.9688]]], dtype=float16)"
            ]
          },
          "metadata": {},
          "execution_count": 26
        }
      ]
    },
    {
      "cell_type": "code",
      "metadata": {
        "colab": {
          "base_uri": "https://localhost:8080/"
        },
        "id": "qeMlb-ARJmrg",
        "outputId": "70df484e-abff-41d7-d934-bc2698e958f6"
      },
      "source": [
        "X.dtype"
      ],
      "id": "qeMlb-ARJmrg",
      "execution_count": null,
      "outputs": [
        {
          "output_type": "execute_result",
          "data": {
            "text/plain": [
              "dtype('uint8')"
            ]
          },
          "metadata": {},
          "execution_count": 16
        }
      ]
    },
    {
      "cell_type": "code",
      "metadata": {
        "id": "7gr7Wf_MH4eS"
      },
      "source": [
        "#train test split \n",
        "\n",
        "X_train = X[:int(len(X)*.7)]\n",
        "y_train = y[:int(len(X)*.7)]\n",
        "X_val = X[int(len(X)*.7):int(len(X)*.8)]\n",
        "y_val = y[int(len(X)*.7):int(len(X)*.8)]\n",
        "X_test =  X[int(len(X)*.8):]\n",
        "y_test = y[int(len(X)*.8):]"
      ],
      "id": "7gr7Wf_MH4eS",
      "execution_count": 11,
      "outputs": []
    },
    {
      "cell_type": "code",
      "metadata": {
        "id": "bjHM6dfbF675"
      },
      "source": [
        "X_train,X_TEST,y_train,y_TEST=train_test_split(X, y_c, test_size=0.3,random_state=13)"
      ],
      "id": "bjHM6dfbF675",
      "execution_count": null,
      "outputs": []
    },
    {
      "cell_type": "code",
      "metadata": {
        "id": "b5ff2f32"
      },
      "source": [
        "\n",
        "X_test,X_val,y_test,y_val=train_test_split(X_TEST, y_TEST, test_size=1/3,random_state=13)"
      ],
      "id": "b5ff2f32",
      "execution_count": null,
      "outputs": []
    },
    {
      "cell_type": "markdown",
      "metadata": {
        "id": "bf52c3dc"
      },
      "source": [
        "# Model vgg16"
      ],
      "id": "bf52c3dc"
    },
    {
      "cell_type": "code",
      "metadata": {
        "id": "d26d182b"
      },
      "source": [
        "import tensorflow as tf\n",
        "import keras\n",
        "from keras import optimizers\n",
        "from keras.models import Model, load_model\n",
        "from keras.layers import Flatten, Dense, Dropout, Input\n",
        "from keras.applications.vgg16 import VGG16\n",
        "#from keras.applications.resnet50 import ResNet50\n",
        "import keras.applications as ka\n",
        "from keras.callbacks import EarlyStopping\n",
        "from keras.models import model_from_json\n"
      ],
      "id": "d26d182b",
      "execution_count": null,
      "outputs": []
    },
    {
      "cell_type": "code",
      "metadata": {
        "id": "9d60ae6d"
      },
      "source": [
        "from tensorflow.keras.applications.vgg16 import VGG16"
      ],
      "id": "9d60ae6d",
      "execution_count": null,
      "outputs": []
    },
    {
      "cell_type": "code",
      "metadata": {
        "scrolled": true,
        "colab": {
          "base_uri": "https://localhost:8080/",
          "height": 1000
        },
        "id": "cf642f54",
        "outputId": "153f4c8a-5052-4378-acfc-a6f909eb0a2f"
      },
      "source": [
        "vggmodel=VGG16(include_top=False, weights='imagenet', input_tensor=None, input_shape=(width,height,dimension), pooling=None)\n",
        "vggmodel.summary()\n",
        "\n",
        "for layer in vggmodel.layers[:-4]:\n",
        "    layer.trainable = False\n",
        "\n",
        "x = vggmodel.output\n",
        "x = Flatten()(x)\n",
        "\n",
        "x = Dense(512, activation=\"relu\")(x)\n",
        "x = Dropout(0.2)(x)\n",
        "x = Dense(128, activation=\"elu\")(x)\n",
        "predictions = Dense(n_classes, activation=\"softmax\")(x)\n",
        "\n",
        "# creating the final model \n",
        "model_final = Model( vggmodel.input, predictions)\n",
        "\n",
        "model_final.compile(loss = \"kullback_leibler_divergence\", optimizer = tf.keras.optimizers.Adam(learning_rate=0.00001), metrics=[\"accuracy\"])\n",
        "#kullback_leibler_divergence\n",
        "model_final.summary()\n",
        "\n",
        "early_stopping_monitor = EarlyStopping(patience=5)\n",
        "\n",
        "history = model_final.fit(X_train, y_train, batch_size=10, epochs=25,callbacks=[early_stopping_monitor], validation_data=(X_val, y_val))\n",
        "\n",
        "import matplotlib.pyplot as plt\n",
        "\n",
        "loss = history.history['loss']\n",
        "val_loss = history.history['val_loss']\n",
        "accuracy = history.history['accuracy']\n",
        "val_accuracy = history.history['val_accuracy']\n",
        "epochs = range(1, len(loss) + 1)\n",
        "plt.figure()\n",
        "plt.plot(epochs, accuracy, 'bo', label='Training accuracy')\n",
        "plt.plot(epochs, val_accuracy, 'b', label='Validation accuracy')\n",
        "plt.title('Training and validation accuracy')\n",
        "plt.legend()\n",
        "plt.show()\n",
        "\n",
        "plt.figure()\n",
        "plt.plot(epochs, loss, 'bo', label='Training loss')\n",
        "plt.plot(epochs, val_loss, 'b', label='Validation loss')\n",
        "plt.title('Training and validation loss')\n",
        "plt.legend()\n",
        "plt.show()\n"
      ],
      "id": "cf642f54",
      "execution_count": null,
      "outputs": [
        {
          "output_type": "stream",
          "name": "stdout",
          "text": [
            "Model: \"vgg16\"\n",
            "_________________________________________________________________\n",
            " Layer (type)                Output Shape              Param #   \n",
            "=================================================================\n",
            " input_2 (InputLayer)        [(None, 271, 781, 3)]     0         \n",
            "                                                                 \n",
            " block1_conv1 (Conv2D)       (None, 271, 781, 64)      1792      \n",
            "                                                                 \n",
            " block1_conv2 (Conv2D)       (None, 271, 781, 64)      36928     \n",
            "                                                                 \n",
            " block1_pool (MaxPooling2D)  (None, 135, 390, 64)      0         \n",
            "                                                                 \n",
            " block2_conv1 (Conv2D)       (None, 135, 390, 128)     73856     \n",
            "                                                                 \n",
            " block2_conv2 (Conv2D)       (None, 135, 390, 128)     147584    \n",
            "                                                                 \n",
            " block2_pool (MaxPooling2D)  (None, 67, 195, 128)      0         \n",
            "                                                                 \n",
            " block3_conv1 (Conv2D)       (None, 67, 195, 256)      295168    \n",
            "                                                                 \n",
            " block3_conv2 (Conv2D)       (None, 67, 195, 256)      590080    \n",
            "                                                                 \n",
            " block3_conv3 (Conv2D)       (None, 67, 195, 256)      590080    \n",
            "                                                                 \n",
            " block3_pool (MaxPooling2D)  (None, 33, 97, 256)       0         \n",
            "                                                                 \n",
            " block4_conv1 (Conv2D)       (None, 33, 97, 512)       1180160   \n",
            "                                                                 \n",
            " block4_conv2 (Conv2D)       (None, 33, 97, 512)       2359808   \n",
            "                                                                 \n",
            " block4_conv3 (Conv2D)       (None, 33, 97, 512)       2359808   \n",
            "                                                                 \n",
            " block4_pool (MaxPooling2D)  (None, 16, 48, 512)       0         \n",
            "                                                                 \n",
            " block5_conv1 (Conv2D)       (None, 16, 48, 512)       2359808   \n",
            "                                                                 \n",
            " block5_conv2 (Conv2D)       (None, 16, 48, 512)       2359808   \n",
            "                                                                 \n",
            " block5_conv3 (Conv2D)       (None, 16, 48, 512)       2359808   \n",
            "                                                                 \n",
            " block5_pool (MaxPooling2D)  (None, 8, 24, 512)        0         \n",
            "                                                                 \n",
            "=================================================================\n",
            "Total params: 14,714,688\n",
            "Trainable params: 14,714,688\n",
            "Non-trainable params: 0\n",
            "_________________________________________________________________\n",
            "Model: \"model_1\"\n",
            "_________________________________________________________________\n",
            " Layer (type)                Output Shape              Param #   \n",
            "=================================================================\n",
            " input_2 (InputLayer)        [(None, 271, 781, 3)]     0         \n",
            "                                                                 \n",
            " block1_conv1 (Conv2D)       (None, 271, 781, 64)      1792      \n",
            "                                                                 \n",
            " block1_conv2 (Conv2D)       (None, 271, 781, 64)      36928     \n",
            "                                                                 \n",
            " block1_pool (MaxPooling2D)  (None, 135, 390, 64)      0         \n",
            "                                                                 \n",
            " block2_conv1 (Conv2D)       (None, 135, 390, 128)     73856     \n",
            "                                                                 \n",
            " block2_conv2 (Conv2D)       (None, 135, 390, 128)     147584    \n",
            "                                                                 \n",
            " block2_pool (MaxPooling2D)  (None, 67, 195, 128)      0         \n",
            "                                                                 \n",
            " block3_conv1 (Conv2D)       (None, 67, 195, 256)      295168    \n",
            "                                                                 \n",
            " block3_conv2 (Conv2D)       (None, 67, 195, 256)      590080    \n",
            "                                                                 \n",
            " block3_conv3 (Conv2D)       (None, 67, 195, 256)      590080    \n",
            "                                                                 \n",
            " block3_pool (MaxPooling2D)  (None, 33, 97, 256)       0         \n",
            "                                                                 \n",
            " block4_conv1 (Conv2D)       (None, 33, 97, 512)       1180160   \n",
            "                                                                 \n",
            " block4_conv2 (Conv2D)       (None, 33, 97, 512)       2359808   \n",
            "                                                                 \n",
            " block4_conv3 (Conv2D)       (None, 33, 97, 512)       2359808   \n",
            "                                                                 \n",
            " block4_pool (MaxPooling2D)  (None, 16, 48, 512)       0         \n",
            "                                                                 \n",
            " block5_conv1 (Conv2D)       (None, 16, 48, 512)       2359808   \n",
            "                                                                 \n",
            " block5_conv2 (Conv2D)       (None, 16, 48, 512)       2359808   \n",
            "                                                                 \n",
            " block5_conv3 (Conv2D)       (None, 16, 48, 512)       2359808   \n",
            "                                                                 \n",
            " block5_pool (MaxPooling2D)  (None, 8, 24, 512)        0         \n",
            "                                                                 \n",
            " flatten_1 (Flatten)         (None, 98304)             0         \n",
            "                                                                 \n",
            " dense_3 (Dense)             (None, 512)               50332160  \n",
            "                                                                 \n",
            " dropout_1 (Dropout)         (None, 512)               0         \n",
            "                                                                 \n",
            " dense_4 (Dense)             (None, 128)               65664     \n",
            "                                                                 \n",
            " dense_5 (Dense)             (None, 10)                1290      \n",
            "                                                                 \n",
            "=================================================================\n",
            "Total params: 65,113,802\n",
            "Trainable params: 57,478,538\n",
            "Non-trainable params: 7,635,264\n",
            "_________________________________________________________________\n",
            "Epoch 1/25\n",
            "70/70 [==============================] - 44s 617ms/step - loss: 1.9918 - accuracy: 0.2643 - val_loss: 1.3691 - val_accuracy: 0.6000\n",
            "Epoch 2/25\n",
            "70/70 [==============================] - 42s 595ms/step - loss: 1.2083 - accuracy: 0.5771 - val_loss: 1.0414 - val_accuracy: 0.6300\n",
            "Epoch 3/25\n",
            "70/70 [==============================] - 42s 595ms/step - loss: 0.8794 - accuracy: 0.6986 - val_loss: 0.9452 - val_accuracy: 0.6700\n",
            "Epoch 4/25\n",
            "70/70 [==============================] - 42s 603ms/step - loss: 0.6302 - accuracy: 0.7929 - val_loss: 0.9232 - val_accuracy: 0.7500\n",
            "Epoch 5/25\n",
            "70/70 [==============================] - 42s 602ms/step - loss: 0.4429 - accuracy: 0.8571 - val_loss: 0.7060 - val_accuracy: 0.8000\n",
            "Epoch 6/25\n",
            "70/70 [==============================] - 42s 603ms/step - loss: 0.2563 - accuracy: 0.9371 - val_loss: 0.8868 - val_accuracy: 0.7600\n",
            "Epoch 7/25\n",
            "70/70 [==============================] - 42s 604ms/step - loss: 0.1655 - accuracy: 0.9729 - val_loss: 0.6479 - val_accuracy: 0.8000\n",
            "Epoch 8/25\n",
            "70/70 [==============================] - 42s 596ms/step - loss: 0.1104 - accuracy: 0.9871 - val_loss: 0.6699 - val_accuracy: 0.8200\n",
            "Epoch 9/25\n",
            "70/70 [==============================] - 42s 594ms/step - loss: 0.0606 - accuracy: 0.9957 - val_loss: 0.7677 - val_accuracy: 0.8000\n",
            "Epoch 10/25\n",
            "70/70 [==============================] - 42s 595ms/step - loss: 0.0435 - accuracy: 0.9971 - val_loss: 0.9183 - val_accuracy: 0.8200\n",
            "Epoch 11/25\n",
            "70/70 [==============================] - 42s 594ms/step - loss: 0.0234 - accuracy: 1.0000 - val_loss: 0.8504 - val_accuracy: 0.8200\n",
            "Epoch 12/25\n",
            "70/70 [==============================] - 42s 595ms/step - loss: 0.0204 - accuracy: 0.9986 - val_loss: 0.9170 - val_accuracy: 0.8000\n"
          ]
        },
        {
          "output_type": "display_data",
          "data": {
            "image/png": "[encoded data removed]",
            "text/plain": [
              "<Figure size 432x288 with 1 Axes>"
            ]
          },
          "metadata": {
            "needs_background": "light"
          }
        },
        {
          "output_type": "display_data",
          "data": {
            "image/png": "[encoded data removed]",
            "text/plain": [
              "<Figure size 432x288 with 1 Axes>"
            ]
          },
          "metadata": {
            "needs_background": "light"
          }
        }
      ]
    },
    {
      "cell_type": "code",
      "metadata": {
        "colab": {
          "base_uri": "https://localhost:8080/"
        },
        "id": "faeb5000",
        "outputId": "4a85b642-cc96-41f2-b625-6fb2192a8eb0"
      },
      "source": [
        "score = model_final.evaluate(X_test, y_test,verbose=1)\n",
        "print('Test loss:', score[0])\n",
        "print('Test accuracy:', score[1])"
      ],
      "id": "faeb5000",
      "execution_count": 24,
      "outputs": [
        {
          "output_type": "stream",
          "name": "stdout",
          "text": [
            "7/7 [==============================] - 4s 256ms/step - loss: 2.2989 - accuracy: 0.1350\n",
            "Test loss: 2.2988507747650146\n",
            "Test accuracy: 0.13500000536441803\n"
          ]
        }
      ]
    },
    {
      "cell_type": "markdown",
      "metadata": {
        "id": "O3kvON_GTf6H"
      },
      "source": [
        "#Model 2"
      ],
      "id": "O3kvON_GTf6H"
    },
    {
      "cell_type": "code",
      "metadata": {
        "colab": {
          "base_uri": "https://localhost:8080/"
        },
        "id": "JFXtRNIJZq62",
        "outputId": "2f9141a0-30c8-4cbf-f021-dfe3e4595afc"
      },
      "source": [
        "y.shape"
      ],
      "id": "JFXtRNIJZq62",
      "execution_count": 17,
      "outputs": [
        {
          "output_type": "execute_result",
          "data": {
            "text/plain": [
              "(1000, 10)"
            ]
          },
          "metadata": {},
          "execution_count": 17
        }
      ]
    },
    {
      "cell_type": "code",
      "metadata": {
        "id": "12093394",
        "colab": {
          "base_uri": "https://localhost:8080/"
        },
        "outputId": "f02523a4-7e12-491f-8c2e-909fcea2aeda"
      },
      "source": [
        "#Initiating the model as Sequential\n",
        "model = Sequential()\n",
        "\n",
        "#Adding the CNN layers along with some drop outs and maxpooling\n",
        "model.add(Conv2D(64, (3,2), activation = 'relu', input_shape = (X_train.shape[1:])))\n",
        "model.add(MaxPooling2D(pool_size = (3,3)))\n",
        "model.add(Dropout(0.1))\n",
        "model.add(Conv2D(128, (3,2), activation = 'relu'))\n",
        "model.add(MaxPooling2D(pool_size = (3,3)))\n",
        "model.add(Dropout(0.1))\n",
        "model.add(Conv2D(256, 2, activation = 'relu'))\n",
        "model.add(MaxPooling2D(pool_size = (3,3)))\n",
        "model.add(Dropout(0.1))\n",
        "model.add(Conv2D(512, 2, activation = 'relu'))\n",
        "model.add(MaxPooling2D(pool_size = (3,3)))\n",
        "model.add(Dropout(0.1))\n",
        "\n",
        "#flattening the data to be passed to a dense layer\n",
        "model.add(Flatten())\n",
        "\n",
        "#Adding the dense layers\n",
        "model.add(Dense(2048, activation = 'relu'))\n",
        "model.add(Dropout(0.2))\n",
        "model.add(Dense(1024, activation = 'relu'))\n",
        "model.add(Dropout(0.5))\n",
        "model.add(Dense(256, activation = 'relu'))\n",
        "\n",
        "#final output layer with 10 predictions to be made\n",
        "model.add(Dense(10, activation = 'softmax'))\n",
        "\n",
        "'''\n",
        "Optimizer = Adam\n",
        "Loss = Sparse Categorical CrossEntropy\n",
        "'''\n",
        "model.compile(optimizer= tf.keras.optimizers.Adam(learning_rate=0.0001), loss='categorical_crossentropy', metrics=['accuracy'])\n",
        "model.summary()"
      ],
      "id": "12093394",
      "execution_count": 23,
      "outputs": [
        {
          "output_type": "stream",
          "name": "stdout",
          "text": [
            "Model: \"sequential_2\"\n",
            "_________________________________________________________________\n",
            " Layer (type)                Output Shape              Param #   \n",
            "=================================================================\n",
            " conv2d_8 (Conv2D)           (None, 269, 780, 64)      1216      \n",
            "                                                                 \n",
            " max_pooling2d_8 (MaxPooling  (None, 89, 260, 64)      0         \n",
            " 2D)                                                             \n",
            "                                                                 \n",
            " dropout_8 (Dropout)         (None, 89, 260, 64)       0         \n",
            "                                                                 \n",
            " conv2d_9 (Conv2D)           (None, 87, 259, 128)      49280     \n",
            "                                                                 \n",
            " max_pooling2d_9 (MaxPooling  (None, 29, 86, 128)      0         \n",
            " 2D)                                                             \n",
            "                                                                 \n",
            " dropout_9 (Dropout)         (None, 29, 86, 128)       0         \n",
            "                                                                 \n",
            " conv2d_10 (Conv2D)          (None, 28, 85, 256)       131328    \n",
            "                                                                 \n",
            " max_pooling2d_10 (MaxPoolin  (None, 9, 28, 256)       0         \n",
            " g2D)                                                            \n",
            "                                                                 \n",
            " dropout_10 (Dropout)        (None, 9, 28, 256)        0         \n",
            "                                                                 \n",
            " conv2d_11 (Conv2D)          (None, 8, 27, 512)        524800    \n",
            "                                                                 \n",
            " max_pooling2d_11 (MaxPoolin  (None, 2, 9, 512)        0         \n",
            " g2D)                                                            \n",
            "                                                                 \n",
            " dropout_11 (Dropout)        (None, 2, 9, 512)         0         \n",
            "                                                                 \n",
            " flatten_2 (Flatten)         (None, 9216)              0         \n",
            "                                                                 \n",
            " dense_8 (Dense)             (None, 2048)              18876416  \n",
            "                                                                 \n",
            " dropout_12 (Dropout)        (None, 2048)              0         \n",
            "                                                                 \n",
            " dense_9 (Dense)             (None, 1024)              2098176   \n",
            "                                                                 \n",
            " dropout_13 (Dropout)        (None, 1024)              0         \n",
            "                                                                 \n",
            " dense_10 (Dense)            (None, 256)               262400    \n",
            "                                                                 \n",
            " dense_11 (Dense)            (None, 10)                2570      \n",
            "                                                                 \n",
            "=================================================================\n",
            "Total params: 21,946,186\n",
            "Trainable params: 21,946,186\n",
            "Non-trainable params: 0\n",
            "_________________________________________________________________\n"
          ]
        }
      ]
    },
    {
      "cell_type": "code",
      "metadata": {
        "id": "9fD-sCj2TvkP"
      },
      "source": [
        "#history = model.fit(X_train, y_train, validation_data=(X_val, y_val),epochs=50)\n",
        "history = model.fit(X_train, y_train, batch_size=10, epochs=50, validation_data=(X_val, y_val))\n"
      ],
      "id": "9fD-sCj2TvkP",
      "execution_count": null,
      "outputs": []
    },
    {
      "cell_type": "code",
      "metadata": {
        "colab": {
          "base_uri": "https://localhost:8080/",
          "height": 295
        },
        "id": "Driwhq9BfHgt",
        "outputId": "62b25ca5-b758-4bfb-e482-bd9c1f73511a"
      },
      "source": [
        "plt.plot(history.history['accuracy'])\n",
        "plt.plot(history.history['val_accuracy'])\n",
        "plt.title('model accuracy')\n",
        "plt.ylabel('accuracy')\n",
        "plt.xlabel('epoch')\n",
        "plt.legend(['train', 'val'], loc='upper left')\n",
        "plt.show()"
      ],
      "id": "Driwhq9BfHgt",
      "execution_count": 22,
      "outputs": [
        {
          "output_type": "display_data",
          "data": {
            "image/png": "[encoded data removed]",
            "text/plain": [
              "<Figure size 432x288 with 1 Axes>"
            ]
          },
          "metadata": {
            "needs_background": "light"
          }
        }
      ]
    },
    {
      "cell_type": "code",
      "metadata": {
        "id": "jXaActq3g4jb"
      },
      "source": [
        "score = model_final.evaluate(X_test, y_test,verbose=1)\n",
        "print('Test loss:', score[0])\n",
        "print('Test accuracy:', score[1])"
      ],
      "id": "jXaActq3g4jb",
      "execution_count": null,
      "outputs": []
    }
  ]
}