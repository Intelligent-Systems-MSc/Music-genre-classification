{
  "nbformat": 4,
  "nbformat_minor": 0,
  "metadata": {
    "colab": {
      "name": "CNN_3_spectrograms.ipynb",
      "provenance": [],
      "collapsed_sections": [
        "ds-Rtg0UBH3M"
      ]
    },
    "kernelspec": {
      "name": "python3",
      "display_name": "Python 3"
    },
    "language_info": {
      "name": "python"
    },
    "accelerator": "GPU"
  },
  "cells": [
    {
      "cell_type": "code",
      "metadata": {
        "id": "bk1OhpRHPU0T",
        "colab": {
          "base_uri": "https://localhost:8080/"
        },
        "outputId": "b715f81b-be43-44c2-e81e-fdb9fb9128db"
      },
      "source": [
        "from google.colab import drive\n",
        "drive.mount('/content/drive')"
      ],
      "execution_count": null,
      "outputs": [
        {
          "output_type": "stream",
          "name": "stdout",
          "text": [
            "Mounted at /content/drive\n"
          ]
        }
      ]
    },
    {
      "cell_type": "code",
      "metadata": {
        "colab": {
          "base_uri": "https://localhost:8080/"
        },
        "id": "Tik6-qLMPfW9",
        "outputId": "4893d181-8dc5-4fd4-9edd-ed14b2bb6980"
      },
      "source": [
        "pip install patool"
      ],
      "execution_count": null,
      "outputs": [
        {
          "output_type": "stream",
          "name": "stdout",
          "text": [
            "Collecting patool\n",
            "  Downloading patool-1.12-py2.py3-none-any.whl (77 kB)\n",
            "\u001b[?25l\r\u001b[K     |████▎                           | 10 kB 23.4 MB/s eta 0:00:01\r\u001b[K     |████████▌                       | 20 kB 26.9 MB/s eta 0:00:01\r\u001b[K     |████████████▊                   | 30 kB 32.7 MB/s eta 0:00:01\r\u001b[K     |█████████████████               | 40 kB 22.0 MB/s eta 0:00:01\r\u001b[K     |█████████████████████▏          | 51 kB 10.8 MB/s eta 0:00:01\r\u001b[K     |█████████████████████████▍      | 61 kB 11.3 MB/s eta 0:00:01\r\u001b[K     |█████████████████████████████▋  | 71 kB 9.1 MB/s eta 0:00:01\r\u001b[K     |████████████████████████████████| 77 kB 3.8 MB/s \n",
            "\u001b[?25hInstalling collected packages: patool\n",
            "Successfully installed patool-1.12\n"
          ]
        }
      ]
    },
    {
      "cell_type": "markdown",
      "metadata": {
        "id": "wFwAJFjh_rjb"
      },
      "source": [
        "#TQDM Mode\n"
      ]
    },
    {
      "cell_type": "code",
      "metadata": {
        "colab": {
          "base_uri": "https://localhost:8080/",
          "height": 105
        },
        "id": "Y-Uor6A2_wUP",
        "outputId": "b27b4a9b-f188-48fc-e9d8-43295f3bc78d"
      },
      "source": [
        "import patoolib\n",
        "patoolib.extract_archive(\"/content/drive/MyDrive/nftt2048hop512bins128.rar\", outdir=\"/content\")"
      ],
      "execution_count": null,
      "outputs": [
        {
          "output_type": "stream",
          "name": "stdout",
          "text": [
            "patool: Extracting /content/drive/MyDrive/nftt2048hop512bins128.rar ...\n",
            "patool: running /usr/bin/unrar x -- /content/drive/MyDrive/nftt2048hop512bins128.rar\n",
            "patool:     with cwd='/content'\n",
            "patool: ... /content/drive/MyDrive/nftt2048hop512bins128.rar extracted to `/content'.\n"
          ]
        },
        {
          "output_type": "execute_result",
          "data": {
            "application/vnd.google.colaboratory.intrinsic+json": {
              "type": "string"
            },
            "text/plain": [
              "'/content'"
            ]
          },
          "metadata": {},
          "execution_count": 3
        }
      ]
    },
    {
      "cell_type": "code",
      "metadata": {
        "id": "oX_FwBoo_-oy"
      },
      "source": [
        "\n",
        "\"\"\"\n",
        "Authors : Rayane KADEM\n",
        "In This program we use transfer learning with a pretrained vgg16model CNN model. We set the last 4\n",
        "layers of the convolutional block to be re-trained, and we add 3 fully connected layers for the \n",
        "classifciation block. Vgg16 was trained previously on the well known ImageNet dataset. \n",
        "The presented architecture is inspired from a work of transfer learning for the task of writer \n",
        "identification with handwritten documents and yielded very promessing results. Which led us to test it\n",
        "on the matter at hand.\n",
        "\"\"\"\n",
        "\n",
        "# Importing the required libraries\n",
        "import tensorflow as tf\n",
        "import numpy as np\n",
        "from tensorflow.keras.models import Model\n",
        "from sklearn.metrics import confusion_matrix\n",
        "import matplotlib.pyplot as plt\n",
        "import itertools\n",
        "import keras\n",
        "from keras.layers import Flatten, Dense, Dropout, Conv2D, Activation ,MaxPooling2D, Flatten\n",
        "from tensorflow.keras.models import Sequential\n",
        "from tensorflow.keras.applications.vgg16 import VGG16\n",
        "from keras.callbacks import EarlyStopping\n",
        "from fetch_multi_spec_dataset import prep_data_images\n"
      ],
      "execution_count": null,
      "outputs": []
    },
    {
      "cell_type": "code",
      "metadata": {
        "colab": {
          "base_uri": "https://localhost:8080/"
        },
        "id": "56qq0FYKAUGj",
        "outputId": "b33c9647-54de-4e80-9225-560abffcf4a6"
      },
      "source": [
        "data = prep_data_images()\n",
        "#data.prep_data(\"/content/mfcc\",(224,124))\n",
        "data.prep_data(\"/content/data\",None,\"melspectrogram\",\"chroma_cqt\",\"chroma_stft\",1,0.2,0.2)"
      ],
      "execution_count": null,
      "outputs": [
        {
          "output_type": "stream",
          "name": "stderr",
          "text": [
            "\r  0%|          | 0/10 [00:00<?, ?it/s]"
          ]
        },
        {
          "output_type": "stream",
          "name": "stdout",
          "text": [
            "disco\n"
          ]
        },
        {
          "output_type": "stream",
          "name": "stderr",
          "text": [
            "\n",
            "  0%|          | 0/100 [00:00<?, ?it/s]\u001b[A\n",
            "  4%|▍         | 4/100 [00:00<00:02, 34.50it/s]\u001b[A\n",
            "  9%|▉         | 9/100 [00:00<00:02, 41.35it/s]\u001b[A\n",
            " 14%|█▍        | 14/100 [00:00<00:02, 42.16it/s]\u001b[A\n",
            " 20%|██        | 20/100 [00:00<00:01, 46.24it/s]\u001b[A\n",
            " 26%|██▌       | 26/100 [00:00<00:01, 47.75it/s]\u001b[A\n",
            " 31%|███       | 31/100 [00:00<00:01, 47.50it/s]\u001b[A\n",
            " 37%|███▋      | 37/100 [00:00<00:01, 51.11it/s]\u001b[A\n",
            " 43%|████▎     | 43/100 [00:00<00:01, 52.30it/s]\u001b[A\n",
            " 49%|████▉     | 49/100 [00:00<00:00, 53.98it/s]\u001b[A\n",
            " 55%|█████▌    | 55/100 [00:01<00:00, 54.35it/s]\u001b[A\n",
            " 62%|██████▏   | 62/100 [00:01<00:00, 56.75it/s]\u001b[A\n",
            " 68%|██████▊   | 68/100 [00:01<00:00, 56.76it/s]\u001b[A\n",
            " 75%|███████▌  | 75/100 [00:01<00:00, 57.75it/s]\u001b[A\n",
            " 81%|████████  | 81/100 [00:01<00:00, 57.18it/s]\u001b[A\n",
            " 87%|████████▋ | 87/100 [00:01<00:00, 57.06it/s]\u001b[A\n",
            " 93%|█████████▎| 93/100 [00:01<00:00, 57.88it/s]\u001b[A\n",
            "100%|██████████| 100/100 [00:01<00:00, 53.52it/s]\n",
            " 10%|█         | 1/10 [00:01<00:16,  1.88s/it]"
          ]
        },
        {
          "output_type": "stream",
          "name": "stdout",
          "text": [
            "jazz\n"
          ]
        },
        {
          "output_type": "stream",
          "name": "stderr",
          "text": [
            "\n",
            "  0%|          | 0/100 [00:00<?, ?it/s]\u001b[A\n",
            "  6%|▌         | 6/100 [00:00<00:01, 50.35it/s]\u001b[A\n",
            " 12%|█▏        | 12/100 [00:00<00:01, 50.48it/s]\u001b[A\n",
            " 18%|█▊        | 18/100 [00:00<00:01, 51.61it/s]\u001b[A\n",
            " 24%|██▍       | 24/100 [00:00<00:01, 52.64it/s]\u001b[A\n",
            " 30%|███       | 30/100 [00:00<00:01, 53.16it/s]\u001b[A\n",
            " 36%|███▌      | 36/100 [00:00<00:01, 53.05it/s]\u001b[A\n",
            " 42%|████▏     | 42/100 [00:00<00:01, 53.53it/s]\u001b[A\n",
            " 48%|████▊     | 48/100 [00:00<00:00, 54.45it/s]\u001b[A\n",
            " 54%|█████▍    | 54/100 [00:01<00:00, 55.97it/s]\u001b[A\n",
            " 60%|██████    | 60/100 [00:01<00:00, 55.71it/s]\u001b[A\n",
            " 66%|██████▌   | 66/100 [00:01<00:00, 56.88it/s]\u001b[A\n",
            " 73%|███████▎  | 73/100 [00:01<00:00, 58.55it/s]\u001b[A\n",
            " 80%|████████  | 80/100 [00:01<00:00, 59.34it/s]\u001b[A\n",
            " 86%|████████▌ | 86/100 [00:01<00:00, 59.37it/s]\u001b[A\n",
            " 92%|█████████▏| 92/100 [00:01<00:00, 58.91it/s]\u001b[A\n",
            "100%|██████████| 100/100 [00:01<00:00, 56.16it/s]\n",
            " 20%|██        | 2/10 [00:03<00:14,  1.83s/it]"
          ]
        },
        {
          "output_type": "stream",
          "name": "stdout",
          "text": [
            "reggae\n"
          ]
        },
        {
          "output_type": "stream",
          "name": "stderr",
          "text": [
            "\n",
            "  0%|          | 0/100 [00:00<?, ?it/s]\u001b[A\n",
            "  6%|▌         | 6/100 [00:00<00:01, 59.12it/s]\u001b[A\n",
            " 12%|█▏        | 12/100 [00:00<00:01, 53.91it/s]\u001b[A\n",
            " 18%|█▊        | 18/100 [00:00<00:01, 53.31it/s]\u001b[A\n",
            " 24%|██▍       | 24/100 [00:00<00:01, 54.09it/s]\u001b[A\n",
            " 30%|███       | 30/100 [00:00<00:01, 54.51it/s]\u001b[A\n",
            " 36%|███▌      | 36/100 [00:00<00:01, 54.89it/s]\u001b[A\n",
            " 42%|████▏     | 42/100 [00:00<00:01, 55.58it/s]\u001b[A\n",
            " 48%|████▊     | 48/100 [00:00<00:00, 55.20it/s]\u001b[A\n",
            " 55%|█████▌    | 55/100 [00:00<00:00, 56.79it/s]\u001b[A\n",
            " 62%|██████▏   | 62/100 [00:01<00:00, 57.30it/s]\u001b[A\n",
            " 68%|██████▊   | 68/100 [00:01<00:00, 57.95it/s]\u001b[A\n",
            " 75%|███████▌  | 75/100 [00:01<00:00, 59.83it/s]\u001b[A\n",
            " 81%|████████  | 81/100 [00:01<00:00, 59.55it/s]\u001b[A\n",
            " 88%|████████▊ | 88/100 [00:01<00:00, 60.36it/s]\u001b[A\n",
            "100%|██████████| 100/100 [00:01<00:00, 57.52it/s]\n",
            " 30%|███       | 3/10 [00:05<00:12,  1.80s/it]"
          ]
        },
        {
          "output_type": "stream",
          "name": "stdout",
          "text": [
            "pop\n"
          ]
        },
        {
          "output_type": "stream",
          "name": "stderr",
          "text": [
            "\n",
            "  0%|          | 0/100 [00:00<?, ?it/s]\u001b[A\n",
            "  6%|▌         | 6/100 [00:00<00:01, 55.32it/s]\u001b[A\n",
            " 12%|█▏        | 12/100 [00:00<00:01, 54.82it/s]\u001b[A\n",
            " 18%|█▊        | 18/100 [00:00<00:01, 53.76it/s]\u001b[A\n",
            " 24%|██▍       | 24/100 [00:00<00:01, 54.91it/s]\u001b[A\n",
            " 30%|███       | 30/100 [00:00<00:01, 55.55it/s]\u001b[A\n",
            " 36%|███▌      | 36/100 [00:00<00:01, 55.82it/s]\u001b[A\n",
            " 42%|████▏     | 42/100 [00:00<00:01, 56.73it/s]\u001b[A\n",
            " 48%|████▊     | 48/100 [00:00<00:00, 55.60it/s]\u001b[A\n",
            " 54%|█████▍    | 54/100 [00:00<00:00, 55.83it/s]\u001b[A\n",
            " 60%|██████    | 60/100 [00:01<00:00, 55.53it/s]\u001b[A\n",
            " 66%|██████▌   | 66/100 [00:01<00:00, 55.44it/s]\u001b[A\n",
            " 72%|███████▏  | 72/100 [00:01<00:00, 55.67it/s]\u001b[A\n",
            " 78%|███████▊  | 78/100 [00:01<00:00, 56.65it/s]\u001b[A\n",
            " 84%|████████▍ | 84/100 [00:01<00:00, 57.32it/s]\u001b[A\n",
            " 91%|█████████ | 91/100 [00:01<00:00, 58.84it/s]\u001b[A\n",
            "100%|██████████| 100/100 [00:01<00:00, 56.61it/s]\n",
            " 40%|████      | 4/10 [00:07<00:10,  1.79s/it]"
          ]
        },
        {
          "output_type": "stream",
          "name": "stdout",
          "text": [
            "hiphop\n"
          ]
        },
        {
          "output_type": "stream",
          "name": "stderr",
          "text": [
            "\n",
            "  0%|          | 0/100 [00:00<?, ?it/s]\u001b[A\n",
            "  5%|▌         | 5/100 [00:00<00:01, 48.46it/s]\u001b[A\n",
            " 10%|█         | 10/100 [00:00<00:01, 47.92it/s]\u001b[A\n",
            " 15%|█▌        | 15/100 [00:00<00:01, 48.18it/s]\u001b[A\n",
            " 21%|██        | 21/100 [00:00<00:01, 48.49it/s]\u001b[A\n",
            " 27%|██▋       | 27/100 [00:00<00:01, 50.13it/s]\u001b[A\n",
            " 33%|███▎      | 33/100 [00:00<00:01, 50.99it/s]\u001b[A\n",
            " 39%|███▉      | 39/100 [00:00<00:01, 51.05it/s]\u001b[A\n",
            " 46%|████▌     | 46/100 [00:00<00:00, 54.47it/s]\u001b[A\n",
            " 52%|█████▏    | 52/100 [00:00<00:00, 55.54it/s]\u001b[A\n",
            " 58%|█████▊    | 58/100 [00:01<00:00, 56.43it/s]\u001b[A\n",
            " 64%|██████▍   | 64/100 [00:01<00:00, 56.78it/s]\u001b[A\n",
            " 70%|███████   | 70/100 [00:01<00:00, 57.08it/s]\u001b[A\n",
            " 76%|███████▌  | 76/100 [00:01<00:00, 55.09it/s]\u001b[A\n",
            " 82%|████████▏ | 82/100 [00:01<00:00, 55.37it/s]\u001b[A\n",
            " 88%|████████▊ | 88/100 [00:01<00:00, 56.26it/s]\u001b[A\n",
            "100%|██████████| 100/100 [00:01<00:00, 54.82it/s]\n",
            " 50%|█████     | 5/10 [00:09<00:09,  1.81s/it]"
          ]
        },
        {
          "output_type": "stream",
          "name": "stdout",
          "text": [
            "rock\n"
          ]
        },
        {
          "output_type": "stream",
          "name": "stderr",
          "text": [
            "\n",
            "  0%|          | 0/100 [00:00<?, ?it/s]\u001b[A\n",
            "  6%|▌         | 6/100 [00:00<00:01, 57.11it/s]\u001b[A\n",
            " 12%|█▏        | 12/100 [00:00<00:01, 55.20it/s]\u001b[A\n",
            " 18%|█▊        | 18/100 [00:00<00:01, 57.02it/s]\u001b[A\n",
            " 24%|██▍       | 24/100 [00:00<00:01, 56.62it/s]\u001b[A\n",
            " 30%|███       | 30/100 [00:00<00:01, 55.88it/s]\u001b[A\n",
            " 36%|███▌      | 36/100 [00:00<00:01, 55.47it/s]\u001b[A\n",
            " 42%|████▏     | 42/100 [00:00<00:01, 56.49it/s]\u001b[A\n",
            " 49%|████▉     | 49/100 [00:00<00:00, 58.28it/s]\u001b[A\n",
            " 55%|█████▌    | 55/100 [00:00<00:00, 57.60it/s]\u001b[A\n",
            " 62%|██████▏   | 62/100 [00:01<00:00, 58.83it/s]\u001b[A\n",
            " 68%|██████▊   | 68/100 [00:01<00:00, 58.48it/s]\u001b[A\n",
            " 75%|███████▌  | 75/100 [00:01<00:00, 60.51it/s]\u001b[A\n",
            " 82%|████████▏ | 82/100 [00:01<00:00, 62.06it/s]\u001b[A\n",
            " 89%|████████▉ | 89/100 [00:01<00:00, 62.30it/s]\u001b[A\n",
            "100%|██████████| 100/100 [00:01<00:00, 59.02it/s]\n",
            " 60%|██████    | 6/10 [00:10<00:07,  1.78s/it]"
          ]
        },
        {
          "output_type": "stream",
          "name": "stdout",
          "text": [
            "classical\n"
          ]
        },
        {
          "output_type": "stream",
          "name": "stderr",
          "text": [
            "\n",
            "  0%|          | 0/100 [00:00<?, ?it/s]\u001b[A\n",
            "  5%|▌         | 5/100 [00:00<00:02, 44.70it/s]\u001b[A\n",
            " 10%|█         | 10/100 [00:00<00:02, 44.19it/s]\u001b[A\n",
            " 15%|█▌        | 15/100 [00:00<00:01, 45.67it/s]\u001b[A\n",
            " 20%|██        | 20/100 [00:00<00:01, 46.61it/s]\u001b[A\n",
            " 25%|██▌       | 25/100 [00:00<00:01, 47.56it/s]\u001b[A\n",
            " 30%|███       | 30/100 [00:00<00:01, 47.26it/s]\u001b[A\n",
            " 35%|███▌      | 35/100 [00:00<00:01, 47.66it/s]\u001b[A\n",
            " 40%|████      | 40/100 [00:00<00:01, 48.15it/s]\u001b[A\n",
            " 46%|████▌     | 46/100 [00:00<00:01, 49.46it/s]\u001b[A\n",
            " 52%|█████▏    | 52/100 [00:01<00:00, 51.25it/s]\u001b[A\n",
            " 58%|█████▊    | 58/100 [00:01<00:00, 51.49it/s]\u001b[A\n",
            " 64%|██████▍   | 64/100 [00:01<00:00, 52.91it/s]\u001b[A\n",
            " 70%|███████   | 70/100 [00:01<00:00, 53.10it/s]\u001b[A\n",
            " 76%|███████▌  | 76/100 [00:01<00:00, 54.84it/s]\u001b[A\n",
            " 82%|████████▏ | 82/100 [00:01<00:00, 55.91it/s]\u001b[A\n",
            " 88%|████████▊ | 88/100 [00:01<00:00, 56.86it/s]\u001b[A\n",
            " 94%|█████████▍| 94/100 [00:01<00:00, 57.48it/s]\u001b[A\n",
            "100%|██████████| 100/100 [00:01<00:00, 51.72it/s]\n",
            " 70%|███████   | 7/10 [00:12<00:05,  1.84s/it]"
          ]
        },
        {
          "output_type": "stream",
          "name": "stdout",
          "text": [
            "blues\n"
          ]
        },
        {
          "output_type": "stream",
          "name": "stderr",
          "text": [
            "\n",
            "  0%|          | 0/100 [00:00<?, ?it/s]\u001b[A\n",
            "  6%|▌         | 6/100 [00:00<00:01, 51.25it/s]\u001b[A\n",
            " 12%|█▏        | 12/100 [00:00<00:01, 49.40it/s]\u001b[A\n",
            " 18%|█▊        | 18/100 [00:00<00:01, 51.09it/s]\u001b[A\n",
            " 24%|██▍       | 24/100 [00:00<00:01, 50.88it/s]\u001b[A\n",
            " 30%|███       | 30/100 [00:00<00:01, 51.56it/s]\u001b[A\n",
            " 36%|███▌      | 36/100 [00:00<00:01, 52.59it/s]\u001b[A\n",
            " 42%|████▏     | 42/100 [00:00<00:01, 53.14it/s]\u001b[A\n",
            " 48%|████▊     | 48/100 [00:00<00:00, 52.91it/s]\u001b[A\n",
            " 54%|█████▍    | 54/100 [00:01<00:00, 53.48it/s]\u001b[A\n",
            " 60%|██████    | 60/100 [00:01<00:00, 54.26it/s]\u001b[A\n",
            " 66%|██████▌   | 66/100 [00:01<00:00, 54.97it/s]\u001b[A\n",
            " 73%|███████▎  | 73/100 [00:01<00:00, 57.02it/s]\u001b[A\n",
            " 80%|████████  | 80/100 [00:01<00:00, 58.74it/s]\u001b[A\n",
            " 86%|████████▌ | 86/100 [00:01<00:00, 58.97it/s]\u001b[A\n",
            " 93%|█████████▎| 93/100 [00:01<00:00, 59.63it/s]\u001b[A\n",
            "100%|██████████| 100/100 [00:01<00:00, 55.12it/s]\n",
            " 80%|████████  | 8/10 [00:14<00:03,  1.84s/it]"
          ]
        },
        {
          "output_type": "stream",
          "name": "stdout",
          "text": [
            "metal\n"
          ]
        },
        {
          "output_type": "stream",
          "name": "stderr",
          "text": [
            "\n",
            "  0%|          | 0/100 [00:00<?, ?it/s]\u001b[A\n",
            "  6%|▌         | 6/100 [00:00<00:01, 55.57it/s]\u001b[A\n",
            " 12%|█▏        | 12/100 [00:00<00:01, 53.34it/s]\u001b[A\n",
            " 18%|█▊        | 18/100 [00:00<00:01, 54.37it/s]\u001b[A\n",
            " 24%|██▍       | 24/100 [00:00<00:01, 54.57it/s]\u001b[A\n",
            " 30%|███       | 30/100 [00:00<00:01, 54.68it/s]\u001b[A\n",
            " 36%|███▌      | 36/100 [00:00<00:01, 55.55it/s]\u001b[A\n",
            " 42%|████▏     | 42/100 [00:00<00:01, 55.43it/s]\u001b[A\n",
            " 48%|████▊     | 48/100 [00:00<00:00, 55.81it/s]\u001b[A\n",
            " 54%|█████▍    | 54/100 [00:00<00:00, 56.88it/s]\u001b[A\n",
            " 60%|██████    | 60/100 [00:01<00:00, 57.38it/s]\u001b[A\n",
            " 66%|██████▌   | 66/100 [00:01<00:00, 56.71it/s]\u001b[A\n",
            " 73%|███████▎  | 73/100 [00:01<00:00, 59.15it/s]\u001b[A\n",
            " 80%|████████  | 80/100 [00:01<00:00, 60.60it/s]\u001b[A\n",
            " 87%|████████▋ | 87/100 [00:01<00:00, 61.49it/s]\u001b[A\n",
            "100%|██████████| 100/100 [00:01<00:00, 58.18it/s]\n",
            " 90%|█████████ | 9/10 [00:16<00:01,  1.81s/it]"
          ]
        },
        {
          "output_type": "stream",
          "name": "stdout",
          "text": [
            "country\n"
          ]
        },
        {
          "output_type": "stream",
          "name": "stderr",
          "text": [
            "\n",
            "  0%|          | 0/100 [00:00<?, ?it/s]\u001b[A\n",
            "  6%|▌         | 6/100 [00:00<00:01, 57.03it/s]\u001b[A\n",
            " 12%|█▏        | 12/100 [00:00<00:01, 52.72it/s]\u001b[A\n",
            " 18%|█▊        | 18/100 [00:00<00:01, 51.82it/s]\u001b[A\n",
            " 24%|██▍       | 24/100 [00:00<00:01, 50.43it/s]\u001b[A\n",
            " 30%|███       | 30/100 [00:00<00:01, 49.76it/s]\u001b[A\n",
            " 35%|███▌      | 35/100 [00:00<00:01, 49.69it/s]\u001b[A\n",
            " 41%|████      | 41/100 [00:00<00:01, 51.94it/s]\u001b[A\n",
            " 47%|████▋     | 47/100 [00:00<00:00, 53.27it/s]\u001b[A\n",
            " 53%|█████▎    | 53/100 [00:01<00:00, 54.20it/s]\u001b[A\n",
            " 59%|█████▉    | 59/100 [00:01<00:00, 55.69it/s]\u001b[A\n",
            " 66%|██████▌   | 66/100 [00:01<00:00, 57.57it/s]\u001b[A\n",
            " 72%|███████▏  | 72/100 [00:01<00:00, 57.59it/s]\u001b[A\n",
            " 78%|███████▊  | 78/100 [00:01<00:00, 56.25it/s]\u001b[A\n",
            " 84%|████████▍ | 84/100 [00:01<00:00, 56.81it/s]\u001b[A\n",
            " 90%|█████████ | 90/100 [00:01<00:00, 57.48it/s]\u001b[A\n",
            "100%|██████████| 100/100 [00:01<00:00, 55.04it/s]\n",
            "100%|██████████| 10/10 [00:18<00:00,  1.81s/it]\n"
          ]
        }
      ]
    },
    {
      "cell_type": "code",
      "metadata": {
        "id": "R2DS6izKU8Pl"
      },
      "source": [
        "width,height,dimension = data.Xtest[0].shape"
      ],
      "execution_count": null,
      "outputs": []
    },
    {
      "cell_type": "code",
      "metadata": {
        "colab": {
          "base_uri": "https://localhost:8080/"
        },
        "id": "ITiFgpV9VD0G",
        "outputId": "6813d27e-f755-496b-ed8c-f0b95492e0c3"
      },
      "source": [
        "width,height,dimension"
      ],
      "execution_count": null,
      "outputs": [
        {
          "output_type": "execute_result",
          "data": {
            "text/plain": [
              "(288, 432, 3)"
            ]
          },
          "metadata": {},
          "execution_count": 18
        }
      ]
    },
    {
      "cell_type": "code",
      "metadata": {
        "id": "9z351KB7Eppz"
      },
      "source": [
        "x= data.Xtest[0]"
      ],
      "execution_count": null,
      "outputs": []
    },
    {
      "cell_type": "code",
      "metadata": {
        "colab": {
          "base_uri": "https://localhost:8080/"
        },
        "id": "uAcWMSUhEuRm",
        "outputId": "a0c9cedd-b524-4f4b-d89a-38a67476bcb1"
      },
      "source": [
        "x[:,:,0].mean()"
      ],
      "execution_count": null,
      "outputs": [
        {
          "output_type": "execute_result",
          "data": {
            "text/plain": [
              "0.3792"
            ]
          },
          "metadata": {},
          "execution_count": 9
        }
      ]
    },
    {
      "cell_type": "code",
      "metadata": {
        "colab": {
          "base_uri": "https://localhost:8080/"
        },
        "id": "nCm8MxZNEx6z",
        "outputId": "1700ca4c-d766-4a6a-ef07-a443d923417e"
      },
      "source": [
        "x[:,:,1].mean()"
      ],
      "execution_count": null,
      "outputs": [
        {
          "output_type": "execute_result",
          "data": {
            "text/plain": [
              "0.1284"
            ]
          },
          "metadata": {},
          "execution_count": 10
        }
      ]
    },
    {
      "cell_type": "code",
      "metadata": {
        "colab": {
          "base_uri": "https://localhost:8080/"
        },
        "id": "sZrlcRj6Ez1q",
        "outputId": "6f9e4482-41e7-4418-907f-bb8d4ae21757"
      },
      "source": [
        "x[:,:,2].mean()"
      ],
      "execution_count": null,
      "outputs": [
        {
          "output_type": "execute_result",
          "data": {
            "text/plain": [
              "0.142"
            ]
          },
          "metadata": {},
          "execution_count": 11
        }
      ]
    },
    {
      "cell_type": "markdown",
      "metadata": {
        "id": "4g76KV8rAuNz"
      },
      "source": [
        "## Transfer learning Vgg16"
      ]
    },
    {
      "cell_type": "code",
      "metadata": {
        "id": "M_CT3LzFAriw"
      },
      "source": [
        "# Defining the black box model\n",
        "class CNNModel:\n",
        "    def __init__(self):\n",
        "        self.model = None\n",
        "        self.model_name = \"transfer_learning_vgg16_model_mel_chroma_stft_cqt_adam_ponderated_07_02_05\"\n",
        "        self.model_path = \"/content/drive/MyDrive/Mymodels_result/\" + self.model_name +\"/\"+ self.model_name + \".h5\"\n",
        "        self.model_weights_path = \"/content/drive/MyDrive/Mymodels_result/\" + self.model_name +\"/\"+  self.model_name + \"_weights.h5\"\n",
        "        self.model_history_path_acc = \"/content/drive/MyDrive/Mymodels_result/\" + self.model_name +\"/\"+ self.model_name + \"_history_acc.png\"\n",
        "        self.model_history_path_loss = \"/content/drive/MyDrive/Mymodels_result/\" + self.model_name +\"/\"+ self.model_name + \"_history_loss.png\"\n",
        "        \n",
        "        self.model_history = None\n",
        "    \n",
        "    def build_model(self):\n",
        "        \"\"\"\n",
        "        This function is used to create the black box model :\n",
        "        \"\"\"\n",
        "        # Defining the input layer\n",
        "        \n",
        "        model = Sequential()\n",
        "\n",
        "        vggmodel=VGG16(include_top=False, weights='imagenet', input_tensor=None, input_shape=(width,height,dimension), pooling=None)\n",
        "        \n",
        "        # Take all weights of imagenet dataset except for last four layers\n",
        "        for layer in vggmodel.layers[:-4]: \n",
        "            layer.trainable = False \n",
        "\n",
        "        x = vggmodel.output\n",
        "        x = Flatten()(x)\n",
        "        \n",
        "        x = Dense(512, activation=\"relu\")(x)\n",
        "        x = Dropout(0.5)(x)\n",
        "        \n",
        "        x = Dense(128, activation=\"elu\")(x)\n",
        "        \n",
        "        predictions = Dense(10, activation=\"softmax\")(x)\n",
        "\n",
        "        # creating the final model \n",
        "        model = Model( vggmodel.input, predictions)\n",
        "        model.summary()\n",
        "        # Compiling the model\n",
        "        self.model = model\n",
        "        \n",
        "        self.model.compile(optimizer=tf.keras.optimizers.Adam(learning_rate=0.0001), loss = \"categorical_crossentropy\", metrics=['accuracy'])\n",
        "        \n",
        "    def train_model(self,data, epochs=10):\n",
        "        \"\"\"\n",
        "        This function is used to train the black box model :\n",
        "        \"\"\"\n",
        "        # Training the model\n",
        "        self.model_history = self.model.fit(data.Xtrain,data.ytrain, epochs=epochs,validation_data=(data.Xval,data.yval), shuffle=True)\n",
        "        \n",
        "    def save_model(self):\n",
        "        \"\"\"\n",
        "        This function is used to save the black box model :\n",
        "        \"\"\"\n",
        "        # Save the model\n",
        "        self.model.save(self.model_path)\n",
        "        \n",
        "    def load_model(self):\n",
        "        \"\"\"\n",
        "        This function is used to load the black box model :\n",
        "        \"\"\"\n",
        "        # Load the model\n",
        "        self.model = tf.keras.models.load_model(self.model_path)\n",
        "        \n",
        "    def save_model_weights(self):\n",
        "        \"\"\"\n",
        "        This function is used to save the weights of the black box model :\n",
        "        \"\"\"\n",
        "        # Save the weights\n",
        "        self.model.save_weights(self.model_weights_path)\n",
        "    \n",
        "\n",
        "    def evaluate_model(self, Xtest,ytest):\n",
        "        \"\"\"\n",
        "        This function is used to evaluate the black box model :\n",
        "        \"\"\"\n",
        "        # Evaluate the model\n",
        "        test_loss, test_acc = self.model.evaluate(Xtest,ytest)\n",
        "        print(\"Test loss: \", test_loss)\n",
        "        print(\"Test accuracy: \", test_acc)\n",
        "    \n",
        "    def plot_model_history(self):\n",
        "        \"\"\"\n",
        "        This function is used to plot the model history :\n",
        "        \"\"\"\n",
        "        #define variables\n",
        "        loss = self.model_history.history['loss']\n",
        "        val_loss = self.model_history.history['val_loss']\n",
        "        accuracy = self.model_history.history['accuracy']\n",
        "        val_accuracy = self.model_history.history['val_accuracy']\n",
        "        epochs = range(1, len(loss) + 1)\n",
        "        # Plot the model history\n",
        "        plt.figure()\n",
        "        plt.plot(epochs, accuracy, label='Training accuracy')\n",
        "        plt.plot(epochs, val_accuracy, label='Validation accuracy')\n",
        "        plt.title('Training and validation accuracy')\n",
        "        plt.legend()\n",
        "        plt.savefig(self.model_history_path_acc)\n",
        "        plt.show()\n",
        "\n",
        "        plt.figure()\n",
        "        plt.plot(epochs, loss, label='Training loss')\n",
        "        plt.plot(epochs, val_loss, label='Validation loss')\n",
        "        plt.title('Training and validation loss')\n",
        "        plt.legend()\n",
        "        plt.savefig(self.model_history_path_loss)\n",
        "        plt.show()\n",
        "        \n",
        "    def predict_class(self, spectrogram_image):\n",
        "        \"\"\"\n",
        "        This function is used to predict the class of the spectrogram image :\n",
        "        \"\"\"\n",
        "        # Predict the class\n",
        "        prediction = self.model.predict(spectrogram_image)\n",
        "        return np.argmax(prediction)\n",
        "\n",
        "    def predict_classes(self, spectrogram_images):\n",
        "        \"\"\"\n",
        "        This function is used to predict the classes of the spectrogram images :\n",
        "        \"\"\"\n",
        "        # Predict the classes\n",
        "        predictions = self.model.predict(spectrogram_images)\n",
        "        return np.argmax(predictions, axis=1)\n",
        "\n",
        "    \n",
        "    def plot_confusion_matrix(self, Xtest,ytest, classes=None):\n",
        "        \"\"\"\n",
        "        This function is used to plot the confusion matrix :\n",
        "        \"\"\"\n",
        "        # Predict the classes\n",
        "        predictions = self.predict_classes(Xtest)\n",
        "        # Plot the confusion matrix\n",
        "        y_parse = np.argmax(ytest, axis=1)\n",
        "        cm = confusion_matrix(y_parse, predictions)\n",
        "        #if classes is None:\n",
        "        #    classes = test_generator.class_indices.keys()\n",
        "        plt.figure()\n",
        "        plt.imshow(cm, interpolation='nearest', cmap=plt.cm.Blues)\n",
        "        plt.title(\"Confusion matrix\")\n",
        "        plt.colorbar()\n",
        "        tick_marks = np.arange(10)\n",
        "        plt.xticks(tick_marks,classes,  rotation=45)\n",
        "        plt.yticks(tick_marks,classes)\n",
        "        fmt = 'd'\n",
        "        thresh = cm.max() / 2.\n",
        "        for i, j in itertools.product(range(cm.shape[0]), range(cm.shape[1])):\n",
        "            plt.text(j, i, format(cm[i, j], fmt), horizontalalignment=\"center\", color=\"white\" if cm[i, j] > thresh else \"black\")\n",
        "        plt.ylabel('True label')\n",
        "        plt.xlabel('Predicted label')\n",
        "        plt.tight_layout()\n",
        "        plt.savefig(\"/content/drive/MyDrive/Mymodels_result/\"+ self.model_name +\"/\"+\"confusion_matrix.png\")\n",
        "        plt.show()\n",
        "        acc = np.diag(cm).sum() /cm.sum()\n",
        "        print(\"acc\",acc)"
      ],
      "execution_count": null,
      "outputs": []
    },
    {
      "cell_type": "code",
      "metadata": {
        "colab": {
          "base_uri": "https://localhost:8080/"
        },
        "id": "nVmmWgHKbNeA",
        "outputId": "d800019a-a010-4f63-be03-c8fed1e7acf1"
      },
      "source": [
        "if __name__ == \"__main__\":\n",
        "      # Create the  model\n",
        "  model = CNNModel()\n",
        "      \n",
        "      # Build the  model\n",
        "  model.build_model()"
      ],
      "execution_count": null,
      "outputs": [
        {
          "output_type": "stream",
          "name": "stdout",
          "text": [
            "Model: \"model\"\n",
            "_________________________________________________________________\n",
            " Layer (type)                Output Shape              Param #   \n",
            "=================================================================\n",
            " input_1 (InputLayer)        [(None, 288, 432, 3)]     0         \n",
            "                                                                 \n",
            " block1_conv1 (Conv2D)       (None, 288, 432, 64)      1792      \n",
            "                                                                 \n",
            " block1_conv2 (Conv2D)       (None, 288, 432, 64)      36928     \n",
            "                                                                 \n",
            " block1_pool (MaxPooling2D)  (None, 144, 216, 64)      0         \n",
            "                                                                 \n",
            " block2_conv1 (Conv2D)       (None, 144, 216, 128)     73856     \n",
            "                                                                 \n",
            " block2_conv2 (Conv2D)       (None, 144, 216, 128)     147584    \n",
            "                                                                 \n",
            " block2_pool (MaxPooling2D)  (None, 72, 108, 128)      0         \n",
            "                                                                 \n",
            " block3_conv1 (Conv2D)       (None, 72, 108, 256)      295168    \n",
            "                                                                 \n",
            " block3_conv2 (Conv2D)       (None, 72, 108, 256)      590080    \n",
            "                                                                 \n",
            " block3_conv3 (Conv2D)       (None, 72, 108, 256)      590080    \n",
            "                                                                 \n",
            " block3_pool (MaxPooling2D)  (None, 36, 54, 256)       0         \n",
            "                                                                 \n",
            " block4_conv1 (Conv2D)       (None, 36, 54, 512)       1180160   \n",
            "                                                                 \n",
            " block4_conv2 (Conv2D)       (None, 36, 54, 512)       2359808   \n",
            "                                                                 \n",
            " block4_conv3 (Conv2D)       (None, 36, 54, 512)       2359808   \n",
            "                                                                 \n",
            " block4_pool (MaxPooling2D)  (None, 18, 27, 512)       0         \n",
            "                                                                 \n",
            " block5_conv1 (Conv2D)       (None, 18, 27, 512)       2359808   \n",
            "                                                                 \n",
            " block5_conv2 (Conv2D)       (None, 18, 27, 512)       2359808   \n",
            "                                                                 \n",
            " block5_conv3 (Conv2D)       (None, 18, 27, 512)       2359808   \n",
            "                                                                 \n",
            " block5_pool (MaxPooling2D)  (None, 9, 13, 512)        0         \n",
            "                                                                 \n",
            " flatten (Flatten)           (None, 59904)             0         \n",
            "                                                                 \n",
            " dense (Dense)               (None, 512)               30671360  \n",
            "                                                                 \n",
            " dropout (Dropout)           (None, 512)               0         \n",
            "                                                                 \n",
            " dense_1 (Dense)             (None, 128)               65664     \n",
            "                                                                 \n",
            " dense_2 (Dense)             (None, 10)                1290      \n",
            "                                                                 \n",
            "=================================================================\n",
            "Total params: 45,453,002\n",
            "Trainable params: 37,817,738\n",
            "Non-trainable params: 7,635,264\n",
            "_________________________________________________________________\n"
          ]
        }
      ]
    },
    {
      "cell_type": "code",
      "metadata": {
        "colab": {
          "base_uri": "https://localhost:8080/"
        },
        "id": "rPPw8Y1TugAM",
        "outputId": "aafd9e38-7035-47b7-cba0-7c10c001729a"
      },
      "source": [
        "if __name__ == \"__main__\":\n",
        "      # Create the  model\n",
        "  model = CNNModel()\n",
        "      \n",
        "      # Build the  model\n",
        "  model.build_model()\n",
        "      # Train the  model\n",
        "  model.train_model(data, epochs=70)\n",
        "      \n",
        "      # Save the  model\n",
        "  model.save_model()\n",
        "\n",
        "      # Evaluate  model\n",
        "  model.evaluate_model(data.Xtest,data.ytest)\n",
        "\n",
        "      # Plot the model history\n",
        "  model.plot_model_history()\n",
        "      \n",
        "      # Plot the confusion matrix\n",
        "  model.plot_confusion_matrix(data.Xtest,data.ytest)\n"
      ],
      "execution_count": null,
      "outputs": [
        {
          "output_type": "stream",
          "name": "stdout",
          "text": [
            "Model: \"model_2\"\n",
            "_________________________________________________________________\n",
            " Layer (type)                Output Shape              Param #   \n",
            "=================================================================\n",
            " input_3 (InputLayer)        [(None, 288, 432, 3)]     0         \n",
            "                                                                 \n",
            " block1_conv1 (Conv2D)       (None, 288, 432, 64)      1792      \n",
            "                                                                 \n",
            " block1_conv2 (Conv2D)       (None, 288, 432, 64)      36928     \n",
            "                                                                 \n",
            " block1_pool (MaxPooling2D)  (None, 144, 216, 64)      0         \n",
            "                                                                 \n",
            " block2_conv1 (Conv2D)       (None, 144, 216, 128)     73856     \n",
            "                                                                 \n",
            " block2_conv2 (Conv2D)       (None, 144, 216, 128)     147584    \n",
            "                                                                 \n",
            " block2_pool (MaxPooling2D)  (None, 72, 108, 128)      0         \n",
            "                                                                 \n",
            " block3_conv1 (Conv2D)       (None, 72, 108, 256)      295168    \n",
            "                                                                 \n",
            " block3_conv2 (Conv2D)       (None, 72, 108, 256)      590080    \n",
            "                                                                 \n",
            " block3_conv3 (Conv2D)       (None, 72, 108, 256)      590080    \n",
            "                                                                 \n",
            " block3_pool (MaxPooling2D)  (None, 36, 54, 256)       0         \n",
            "                                                                 \n",
            " block4_conv1 (Conv2D)       (None, 36, 54, 512)       1180160   \n",
            "                                                                 \n",
            " block4_conv2 (Conv2D)       (None, 36, 54, 512)       2359808   \n",
            "                                                                 \n",
            " block4_conv3 (Conv2D)       (None, 36, 54, 512)       2359808   \n",
            "                                                                 \n",
            " block4_pool (MaxPooling2D)  (None, 18, 27, 512)       0         \n",
            "                                                                 \n",
            " block5_conv1 (Conv2D)       (None, 18, 27, 512)       2359808   \n",
            "                                                                 \n",
            " block5_conv2 (Conv2D)       (None, 18, 27, 512)       2359808   \n",
            "                                                                 \n",
            " block5_conv3 (Conv2D)       (None, 18, 27, 512)       2359808   \n",
            "                                                                 \n",
            " block5_pool (MaxPooling2D)  (None, 9, 13, 512)        0         \n",
            "                                                                 \n",
            " flatten_4 (Flatten)         (None, 59904)             0         \n",
            "                                                                 \n",
            " dense_8 (Dense)             (None, 10)                599050    \n",
            "                                                                 \n",
            "=================================================================\n",
            "Total params: 15,313,738\n",
            "Trainable params: 13,578,250\n",
            "Non-trainable params: 1,735,488\n",
            "_________________________________________________________________\n",
            "Epoch 1/70\n"
          ]
        }
      ]
    },
    {
      "cell_type": "code",
      "metadata": {
        "colab": {
          "base_uri": "https://localhost:8080/"
        },
        "id": "-Zym_fFxQbnR",
        "outputId": "64acca9d-994a-4f3c-cc32-6bc8198a96dc"
      },
      "source": [
        "model.evaluate_model(data.Xtest,data.ytest)"
      ],
      "execution_count": null,
      "outputs": [
        {
          "output_type": "stream",
          "name": "stdout",
          "text": [
            "7/7 [==============================] - 4s 545ms/step - loss: 2.5400 - accuracy: 0.6150\n",
            "Test loss:  2.5399575233459473\n",
            "Test accuracy:  0.6150000095367432\n"
          ]
        }
      ]
    },
    {
      "cell_type": "code",
      "metadata": {
        "colab": {
          "base_uri": "https://localhost:8080/"
        },
        "id": "mPhwmRdtLJZm",
        "outputId": "cc115858-3de0-4f65-cf2d-d25aaf15ccde"
      },
      "source": [
        "model.model.summary()"
      ],
      "execution_count": null,
      "outputs": [
        {
          "output_type": "stream",
          "name": "stdout",
          "text": [
            "Model: \"model_1\"\n",
            "_________________________________________________________________\n",
            " Layer (type)                Output Shape              Param #   \n",
            "=================================================================\n",
            " input_2 (InputLayer)        [(None, 288, 432, 3)]     0         \n",
            "                                                                 \n",
            " block1_conv1 (Conv2D)       (None, 288, 432, 64)      1792      \n",
            "                                                                 \n",
            " block1_conv2 (Conv2D)       (None, 288, 432, 64)      36928     \n",
            "                                                                 \n",
            " block1_pool (MaxPooling2D)  (None, 144, 216, 64)      0         \n",
            "                                                                 \n",
            " block2_conv1 (Conv2D)       (None, 144, 216, 128)     73856     \n",
            "                                                                 \n",
            " block2_conv2 (Conv2D)       (None, 144, 216, 128)     147584    \n",
            "                                                                 \n",
            " block2_pool (MaxPooling2D)  (None, 72, 108, 128)      0         \n",
            "                                                                 \n",
            " block3_conv1 (Conv2D)       (None, 72, 108, 256)      295168    \n",
            "                                                                 \n",
            " block3_conv2 (Conv2D)       (None, 72, 108, 256)      590080    \n",
            "                                                                 \n",
            " block3_conv3 (Conv2D)       (None, 72, 108, 256)      590080    \n",
            "                                                                 \n",
            " block3_pool (MaxPooling2D)  (None, 36, 54, 256)       0         \n",
            "                                                                 \n",
            " block4_conv1 (Conv2D)       (None, 36, 54, 512)       1180160   \n",
            "                                                                 \n",
            " block4_conv2 (Conv2D)       (None, 36, 54, 512)       2359808   \n",
            "                                                                 \n",
            " block4_conv3 (Conv2D)       (None, 36, 54, 512)       2359808   \n",
            "                                                                 \n",
            " block4_pool (MaxPooling2D)  (None, 18, 27, 512)       0         \n",
            "                                                                 \n",
            " block5_conv1 (Conv2D)       (None, 18, 27, 512)       2359808   \n",
            "                                                                 \n",
            " block5_conv2 (Conv2D)       (None, 18, 27, 512)       2359808   \n",
            "                                                                 \n",
            " block5_conv3 (Conv2D)       (None, 18, 27, 512)       2359808   \n",
            "                                                                 \n",
            " block5_pool (MaxPooling2D)  (None, 9, 13, 512)        0         \n",
            "                                                                 \n",
            " flatten_3 (Flatten)         (None, 59904)             0         \n",
            "                                                                 \n",
            " dense_7 (Dense)             (None, 10)                599050    \n",
            "                                                                 \n",
            "=================================================================\n",
            "Total params: 15,313,738\n",
            "Trainable params: 14,758,410\n",
            "Non-trainable params: 555,328\n",
            "_________________________________________________________________\n"
          ]
        }
      ]
    },
    {
      "cell_type": "code",
      "metadata": {
        "id": "2db8Z6z3K0IV"
      },
      "source": [
        "# Extractor \n",
        "extractor = Model(model.model.input, model.model.layers[-5].output)"
      ],
      "execution_count": null,
      "outputs": []
    },
    {
      "cell_type": "code",
      "metadata": {
        "id": "0en7BVsGLGcH"
      },
      "source": [
        "xtest_features= extractor.predict(data.Xtest)"
      ],
      "execution_count": null,
      "outputs": []
    },
    {
      "cell_type": "code",
      "metadata": {
        "colab": {
          "base_uri": "https://localhost:8080/"
        },
        "id": "5SWwspySLTrx",
        "outputId": "10b8db12-f9d9-4e4d-b150-f09d64bebfe7"
      },
      "source": [
        "xtest_features.shape"
      ],
      "execution_count": null,
      "outputs": [
        {
          "output_type": "execute_result",
          "data": {
            "text/plain": [
              "(200, 59904)"
            ]
          },
          "metadata": {},
          "execution_count": 23
        }
      ]
    },
    {
      "cell_type": "markdown",
      "metadata": {
        "id": "ds-Rtg0UBH3M"
      },
      "source": [
        "## 2 Layers CNN model "
      ]
    },
    {
      "cell_type": "code",
      "metadata": {
        "id": "dPX9-vRCOEkl"
      },
      "source": [
        "width,height,dimenstion = data.Xtrain[0].shape"
      ],
      "execution_count": null,
      "outputs": []
    },
    {
      "cell_type": "code",
      "metadata": {
        "id": "GBMp14_uBGZK"
      },
      "source": [
        "# Defining the black box model\n",
        "class CNNModel:\n",
        "    def __init__(self):\n",
        "        self.model = None\n",
        "        self.model_name = \"2layersCNN_ADAM_crossEn_chroma_stft_cqt_mel_ADAM_CrossEnt_ponderated_07_02_05\"\n",
        "        self.model_path = \"/content/drive/MyDrive/Mymodels_result/\" + self.model_name +\"/\"+ self.model_name + \".h5\"\n",
        "        self.model_weights_path = \"/content/drive/MyDrive/Mymodels_result/\" + self.model_name +\"/\"+  self.model_name + \"_weights.h5\"\n",
        "        self.model_history_path_acc = \"/content/drive/MyDrive/Mymodels_result/\" + self.model_name +\"/\"+ self.model_name + \"_history_acc.png\"\n",
        "        self.model_history_path_loss = \"/content/drive/MyDrive/Mymodels_result/\" + self.model_name +\"/\"+ self.model_name + \"_history_loss.png\"\n",
        "        \n",
        "        self.model_history = None\n",
        "    \n",
        "    def build_model(self):\n",
        "        \"\"\"\n",
        "        This function is used to create the black box model :\n",
        "        \"\"\"\n",
        "        # Defining the input layer\n",
        "        \n",
        "        model = Sequential()\n",
        "\n",
        "        #Adding the CNN layers along with some drop outs and maxpooling\n",
        "        \n",
        "        model.add(Conv2D(64, (3,3), activation ='relu', input_shape =(width,height,dimension)))\n",
        "        model.add(MaxPooling2D(pool_size = (2,2)))\n",
        "\n",
        "\n",
        "        model.add(Conv2D(32, (3,3),strides=(1,1) , activation = 'relu'))\n",
        "        model.add(MaxPooling2D(pool_size = (2,2)))\n",
        "        \n",
        "        model.add(Flatten())\n",
        "\n",
        "        \n",
        "        #Adding the dense layers\n",
        "        model.add(Dense(256, activation = 'relu'))\n",
        "        model.add(Dropout(0.5))\n",
        "        model.add(Dense(124, activation = 'relu'))\n",
        "        #final output layer with 10 predictions to be made\n",
        "        model.add(Dense(10, activation = 'softmax'))\n",
        "    \n",
        "        \n",
        "        \n",
        "        # Compiling the model\n",
        "        self.model = model\n",
        "        self.model.compile(optimizer=tf.keras.optimizers.Adam(learning_rate=0.00001), loss='categorical_crossentropy', metrics=['accuracy'])\n",
        "\n",
        "    def train_model(self,data, epochs=10):\n",
        "        \"\"\"\n",
        "        This function is used to train the black box model :\n",
        "        \"\"\"\n",
        "        # Training the model\n",
        "        self.model_history = self.model.fit(data.Xtrain,data.ytrain, epochs=epochs,validation_data=(data.Xval,data.yval), shuffle=True)\n",
        "        \n",
        "    def save_model(self):\n",
        "        \"\"\"\n",
        "        This function is used to save the black box model :\n",
        "        \"\"\"\n",
        "        # Save the model\n",
        "        self.model.save(self.model_path)\n",
        "        \n",
        "    def load_model(self):\n",
        "        \"\"\"\n",
        "        This function is used to load the black box model :\n",
        "        \"\"\"\n",
        "        # Load the model\n",
        "        self.model = tf.keras.models.load_model(self.model_path)\n",
        "        \n",
        "    def save_model_weights(self):\n",
        "        \"\"\"\n",
        "        This function is used to save the weights of the black box model :\n",
        "        \"\"\"\n",
        "        # Save the weights\n",
        "        self.model.save_weights(self.model_weights_path)\n",
        "    \n",
        "\n",
        "    def evaluate_model(self, Xtest,ytest):\n",
        "        \"\"\"\n",
        "        This function is used to evaluate the black box model :\n",
        "        \"\"\"\n",
        "        # Evaluate the model\n",
        "        test_loss, test_acc = self.model.evaluate(Xtest,ytest)\n",
        "        print(\"Test loss: \", test_loss)\n",
        "        print(\"Test accuracy: \", test_acc)\n",
        "    \n",
        "    def plot_model_history(self):\n",
        "        \"\"\"\n",
        "        This function is used to plot the model history :\n",
        "        \"\"\"\n",
        "        #define variables\n",
        "        loss = self.model_history.history['loss']\n",
        "        val_loss = self.model_history.history['val_loss']\n",
        "        accuracy = self.model_history.history['accuracy']\n",
        "        val_accuracy = self.model_history.history['val_accuracy']\n",
        "        epochs = range(1, len(loss) + 1)\n",
        "        # Plot the model history\n",
        "        plt.figure()\n",
        "        plt.plot(epochs, accuracy, label='Training accuracy')\n",
        "        plt.plot(epochs, val_accuracy, label='Validation accuracy')\n",
        "        plt.title('Training and validation accuracy')\n",
        "        plt.legend()\n",
        "        plt.savefig(self.model_history_path_acc)\n",
        "        plt.show()\n",
        "\n",
        "        plt.figure()\n",
        "        plt.plot(epochs, loss, label='Training loss')\n",
        "        plt.plot(epochs, val_loss, label='Validation loss')\n",
        "        plt.title('Training and validation loss')\n",
        "        plt.legend()\n",
        "        plt.savefig(self.model_history_path_loss)\n",
        "        plt.show()\n",
        "        \n",
        "    def predict_class(self, spectrogram_image):\n",
        "        \"\"\"\n",
        "        This function is used to predict the class of the spectrogram image :\n",
        "        \"\"\"\n",
        "        # Predict the class\n",
        "        prediction = self.model.predict(spectrogram_image)\n",
        "        return np.argmax(prediction)\n",
        "\n",
        "    def predict_classes(self, spectrogram_images):\n",
        "        \"\"\"\n",
        "        This function is used to predict the classes of the spectrogram images :\n",
        "        \"\"\"\n",
        "        # Predict the classes\n",
        "        predictions = self.model.predict(spectrogram_images)\n",
        "        return np.argmax(predictions, axis=1)\n",
        "\n",
        "    \n",
        "    def plot_confusion_matrix(self, Xtest,ytest, classes=None):\n",
        "        \"\"\"\n",
        "        This function is used to plot the confusion matrix :\n",
        "        \"\"\"\n",
        "        # Predict the classes\n",
        "        predictions = self.predict_classes(Xtest)\n",
        "        # Plot the confusion matrix\n",
        "        y_parse = np.argmax(ytest, axis=1)\n",
        "        cm = confusion_matrix(y_parse, predictions)\n",
        "        #if classes is None:\n",
        "        #    classes = test_generator.class_indices.keys()\n",
        "        plt.figure()\n",
        "        plt.imshow(cm, interpolation='nearest', cmap=plt.cm.Blues)\n",
        "        plt.title(\"Confusion matrix\")\n",
        "        plt.colorbar()\n",
        "        tick_marks = np.arange(10)\n",
        "        plt.xticks(tick_marks,classes,  rotation=45)\n",
        "        plt.yticks(tick_marks,classes)\n",
        "        fmt = 'd'\n",
        "        thresh = cm.max() / 2.\n",
        "        for i, j in itertools.product(range(cm.shape[0]), range(cm.shape[1])):\n",
        "            plt.text(j, i, format(cm[i, j], fmt), horizontalalignment=\"center\", color=\"white\" if cm[i, j] > thresh else \"black\")\n",
        "        plt.ylabel('True label')\n",
        "        plt.xlabel('Predicted label')\n",
        "        plt.tight_layout()\n",
        "        plt.savefig(\"/content/drive/MyDrive/Mymodels_result/\"+ self.model_name +\"/\"+\"confusion_matrix.png\")\n",
        "        plt.show()\n",
        "        acc = np.diag(cm).sum() /cm.sum()\n",
        "        print(\"acc\",acc)"
      ],
      "execution_count": null,
      "outputs": []
    },
    {
      "cell_type": "code",
      "metadata": {
        "colab": {
          "base_uri": "https://localhost:8080/",
          "height": 433
        },
        "id": "eEMUlSUjHvDm",
        "outputId": "0c4cac1a-bf42-42c3-b23e-d15aca76ba4b"
      },
      "source": [
        "for i in range(1):\n",
        "    \n",
        "    # Fetch the training and test dataset\n",
        "    \n",
        "    # Create the  model\n",
        "    model = CNNModel()\n",
        "    \n",
        "    # Build the  model\n",
        "    model.build_model()\n",
        "    # Train the  model\n",
        "    model.train_model(data, epochs=300)\n",
        "    \n",
        "    # Save the  model\n",
        "    model.save_model()\n",
        "\n",
        "    # Evaluate  model\n",
        "    model.evaluate_model(data.Xtest,data.ytest)\n",
        "\n",
        "    # Plot the model history\n",
        "    model.plot_model_history()\n",
        "    \n",
        "    # Plot the confusion matrix\n",
        "    model.plot_confusion_matrix(data.Xtest,data.ytest)\n"
      ],
      "execution_count": null,
      "outputs": [
        {
          "output_type": "stream",
          "name": "stdout",
          "text": [
            "Epoch 1/300\n",
            " 1/22 [>.............................] - ETA: 1:19 - loss: 2.3017 - accuracy: 0.0625"
          ]
        },
        {
          "output_type": "error",
          "ename": "KeyboardInterrupt",
          "evalue": "ignored",
          "traceback": [
            "\u001b[0;31m---------------------------------------------------------------------------\u001b[0m",
            "\u001b[0;31mKeyboardInterrupt\u001b[0m                         Traceback (most recent call last)",
            "\u001b[0;32m<ipython-input-13-e7ac3c75f620>\u001b[0m in \u001b[0;36m<module>\u001b[0;34m()\u001b[0m\n\u001b[1;32m      9\u001b[0m     \u001b[0mmodel\u001b[0m\u001b[0;34m.\u001b[0m\u001b[0mbuild_model\u001b[0m\u001b[0;34m(\u001b[0m\u001b[0;34m)\u001b[0m\u001b[0;34m\u001b[0m\u001b[0;34m\u001b[0m\u001b[0m\n\u001b[1;32m     10\u001b[0m     \u001b[0;31m# Train the  model\u001b[0m\u001b[0;34m\u001b[0m\u001b[0;34m\u001b[0m\u001b[0;34m\u001b[0m\u001b[0m\n\u001b[0;32m---> 11\u001b[0;31m     \u001b[0mmodel\u001b[0m\u001b[0;34m.\u001b[0m\u001b[0mtrain_model\u001b[0m\u001b[0;34m(\u001b[0m\u001b[0mdata\u001b[0m\u001b[0;34m,\u001b[0m \u001b[0mepochs\u001b[0m\u001b[0;34m=\u001b[0m\u001b[0;36m300\u001b[0m\u001b[0;34m)\u001b[0m\u001b[0;34m\u001b[0m\u001b[0;34m\u001b[0m\u001b[0m\n\u001b[0m\u001b[1;32m     12\u001b[0m \u001b[0;34m\u001b[0m\u001b[0m\n\u001b[1;32m     13\u001b[0m     \u001b[0;31m# Save the  model\u001b[0m\u001b[0;34m\u001b[0m\u001b[0;34m\u001b[0m\u001b[0;34m\u001b[0m\u001b[0m\n",
            "\u001b[0;32m<ipython-input-12-35c5540339e8>\u001b[0m in \u001b[0;36mtrain_model\u001b[0;34m(self, data, epochs)\u001b[0m\n\u001b[1;32m     49\u001b[0m         \"\"\"\n\u001b[1;32m     50\u001b[0m         \u001b[0;31m# Training the model\u001b[0m\u001b[0;34m\u001b[0m\u001b[0;34m\u001b[0m\u001b[0;34m\u001b[0m\u001b[0m\n\u001b[0;32m---> 51\u001b[0;31m         \u001b[0mself\u001b[0m\u001b[0;34m.\u001b[0m\u001b[0mmodel_history\u001b[0m \u001b[0;34m=\u001b[0m \u001b[0mself\u001b[0m\u001b[0;34m.\u001b[0m\u001b[0mmodel\u001b[0m\u001b[0;34m.\u001b[0m\u001b[0mfit\u001b[0m\u001b[0;34m(\u001b[0m\u001b[0mdata\u001b[0m\u001b[0;34m.\u001b[0m\u001b[0mXtrain\u001b[0m\u001b[0;34m,\u001b[0m\u001b[0mdata\u001b[0m\u001b[0;34m.\u001b[0m\u001b[0mytrain\u001b[0m\u001b[0;34m,\u001b[0m \u001b[0mepochs\u001b[0m\u001b[0;34m=\u001b[0m\u001b[0mepochs\u001b[0m\u001b[0;34m,\u001b[0m\u001b[0mvalidation_data\u001b[0m\u001b[0;34m=\u001b[0m\u001b[0;34m(\u001b[0m\u001b[0mdata\u001b[0m\u001b[0;34m.\u001b[0m\u001b[0mXval\u001b[0m\u001b[0;34m,\u001b[0m\u001b[0mdata\u001b[0m\u001b[0;34m.\u001b[0m\u001b[0myval\u001b[0m\u001b[0;34m)\u001b[0m\u001b[0;34m,\u001b[0m \u001b[0mshuffle\u001b[0m\u001b[0;34m=\u001b[0m\u001b[0;32mTrue\u001b[0m\u001b[0;34m)\u001b[0m\u001b[0;34m\u001b[0m\u001b[0;34m\u001b[0m\u001b[0m\n\u001b[0m\u001b[1;32m     52\u001b[0m \u001b[0;34m\u001b[0m\u001b[0m\n\u001b[1;32m     53\u001b[0m     \u001b[0;32mdef\u001b[0m \u001b[0msave_model\u001b[0m\u001b[0;34m(\u001b[0m\u001b[0mself\u001b[0m\u001b[0;34m)\u001b[0m\u001b[0;34m:\u001b[0m\u001b[0;34m\u001b[0m\u001b[0;34m\u001b[0m\u001b[0m\n",
            "\u001b[0;32m/usr/local/lib/python3.7/dist-packages/keras/utils/traceback_utils.py\u001b[0m in \u001b[0;36merror_handler\u001b[0;34m(*args, **kwargs)\u001b[0m\n\u001b[1;32m     62\u001b[0m     \u001b[0mfiltered_tb\u001b[0m \u001b[0;34m=\u001b[0m \u001b[0;32mNone\u001b[0m\u001b[0;34m\u001b[0m\u001b[0;34m\u001b[0m\u001b[0m\n\u001b[1;32m     63\u001b[0m     \u001b[0;32mtry\u001b[0m\u001b[0;34m:\u001b[0m\u001b[0;34m\u001b[0m\u001b[0;34m\u001b[0m\u001b[0m\n\u001b[0;32m---> 64\u001b[0;31m       \u001b[0;32mreturn\u001b[0m \u001b[0mfn\u001b[0m\u001b[0;34m(\u001b[0m\u001b[0;34m*\u001b[0m\u001b[0margs\u001b[0m\u001b[0;34m,\u001b[0m \u001b[0;34m**\u001b[0m\u001b[0mkwargs\u001b[0m\u001b[0;34m)\u001b[0m\u001b[0;34m\u001b[0m\u001b[0;34m\u001b[0m\u001b[0m\n\u001b[0m\u001b[1;32m     65\u001b[0m     \u001b[0;32mexcept\u001b[0m \u001b[0mException\u001b[0m \u001b[0;32mas\u001b[0m \u001b[0me\u001b[0m\u001b[0;34m:\u001b[0m  \u001b[0;31m# pylint: disable=broad-except\u001b[0m\u001b[0;34m\u001b[0m\u001b[0;34m\u001b[0m\u001b[0m\n\u001b[1;32m     66\u001b[0m       \u001b[0mfiltered_tb\u001b[0m \u001b[0;34m=\u001b[0m \u001b[0m_process_traceback_frames\u001b[0m\u001b[0;34m(\u001b[0m\u001b[0me\u001b[0m\u001b[0;34m.\u001b[0m\u001b[0m__traceback__\u001b[0m\u001b[0;34m)\u001b[0m\u001b[0;34m\u001b[0m\u001b[0;34m\u001b[0m\u001b[0m\n",
            "\u001b[0;32m/usr/local/lib/python3.7/dist-packages/keras/engine/training.py\u001b[0m in \u001b[0;36mfit\u001b[0;34m(self, x, y, batch_size, epochs, verbose, callbacks, validation_split, validation_data, shuffle, class_weight, sample_weight, initial_epoch, steps_per_epoch, validation_steps, validation_batch_size, validation_freq, max_queue_size, workers, use_multiprocessing)\u001b[0m\n\u001b[1;32m   1214\u001b[0m                 _r=1):\n\u001b[1;32m   1215\u001b[0m               \u001b[0mcallbacks\u001b[0m\u001b[0;34m.\u001b[0m\u001b[0mon_train_batch_begin\u001b[0m\u001b[0;34m(\u001b[0m\u001b[0mstep\u001b[0m\u001b[0;34m)\u001b[0m\u001b[0;34m\u001b[0m\u001b[0;34m\u001b[0m\u001b[0m\n\u001b[0;32m-> 1216\u001b[0;31m               \u001b[0mtmp_logs\u001b[0m \u001b[0;34m=\u001b[0m \u001b[0mself\u001b[0m\u001b[0;34m.\u001b[0m\u001b[0mtrain_function\u001b[0m\u001b[0;34m(\u001b[0m\u001b[0miterator\u001b[0m\u001b[0;34m)\u001b[0m\u001b[0;34m\u001b[0m\u001b[0;34m\u001b[0m\u001b[0m\n\u001b[0m\u001b[1;32m   1217\u001b[0m               \u001b[0;32mif\u001b[0m \u001b[0mdata_handler\u001b[0m\u001b[0;34m.\u001b[0m\u001b[0mshould_sync\u001b[0m\u001b[0;34m:\u001b[0m\u001b[0;34m\u001b[0m\u001b[0;34m\u001b[0m\u001b[0m\n\u001b[1;32m   1218\u001b[0m                 \u001b[0mcontext\u001b[0m\u001b[0;34m.\u001b[0m\u001b[0masync_wait\u001b[0m\u001b[0;34m(\u001b[0m\u001b[0;34m)\u001b[0m\u001b[0;34m\u001b[0m\u001b[0;34m\u001b[0m\u001b[0m\n",
            "\u001b[0;32m/usr/local/lib/python3.7/dist-packages/tensorflow/python/util/traceback_utils.py\u001b[0m in \u001b[0;36merror_handler\u001b[0;34m(*args, **kwargs)\u001b[0m\n\u001b[1;32m    148\u001b[0m     \u001b[0mfiltered_tb\u001b[0m \u001b[0;34m=\u001b[0m \u001b[0;32mNone\u001b[0m\u001b[0;34m\u001b[0m\u001b[0;34m\u001b[0m\u001b[0m\n\u001b[1;32m    149\u001b[0m     \u001b[0;32mtry\u001b[0m\u001b[0;34m:\u001b[0m\u001b[0;34m\u001b[0m\u001b[0;34m\u001b[0m\u001b[0m\n\u001b[0;32m--> 150\u001b[0;31m       \u001b[0;32mreturn\u001b[0m \u001b[0mfn\u001b[0m\u001b[0;34m(\u001b[0m\u001b[0;34m*\u001b[0m\u001b[0margs\u001b[0m\u001b[0;34m,\u001b[0m \u001b[0;34m**\u001b[0m\u001b[0mkwargs\u001b[0m\u001b[0;34m)\u001b[0m\u001b[0;34m\u001b[0m\u001b[0;34m\u001b[0m\u001b[0m\n\u001b[0m\u001b[1;32m    151\u001b[0m     \u001b[0;32mexcept\u001b[0m \u001b[0mException\u001b[0m \u001b[0;32mas\u001b[0m \u001b[0me\u001b[0m\u001b[0;34m:\u001b[0m\u001b[0;34m\u001b[0m\u001b[0;34m\u001b[0m\u001b[0m\n\u001b[1;32m    152\u001b[0m       \u001b[0mfiltered_tb\u001b[0m \u001b[0;34m=\u001b[0m \u001b[0m_process_traceback_frames\u001b[0m\u001b[0;34m(\u001b[0m\u001b[0me\u001b[0m\u001b[0;34m.\u001b[0m\u001b[0m__traceback__\u001b[0m\u001b[0;34m)\u001b[0m\u001b[0;34m\u001b[0m\u001b[0;34m\u001b[0m\u001b[0m\n",
            "\u001b[0;32m/usr/local/lib/python3.7/dist-packages/tensorflow/python/eager/def_function.py\u001b[0m in \u001b[0;36m__call__\u001b[0;34m(self, *args, **kwds)\u001b[0m\n\u001b[1;32m    908\u001b[0m \u001b[0;34m\u001b[0m\u001b[0m\n\u001b[1;32m    909\u001b[0m       \u001b[0;32mwith\u001b[0m \u001b[0mOptionalXlaContext\u001b[0m\u001b[0;34m(\u001b[0m\u001b[0mself\u001b[0m\u001b[0;34m.\u001b[0m\u001b[0m_jit_compile\u001b[0m\u001b[0;34m)\u001b[0m\u001b[0;34m:\u001b[0m\u001b[0;34m\u001b[0m\u001b[0;34m\u001b[0m\u001b[0m\n\u001b[0;32m--> 910\u001b[0;31m         \u001b[0mresult\u001b[0m \u001b[0;34m=\u001b[0m \u001b[0mself\u001b[0m\u001b[0;34m.\u001b[0m\u001b[0m_call\u001b[0m\u001b[0;34m(\u001b[0m\u001b[0;34m*\u001b[0m\u001b[0margs\u001b[0m\u001b[0;34m,\u001b[0m \u001b[0;34m**\u001b[0m\u001b[0mkwds\u001b[0m\u001b[0;34m)\u001b[0m\u001b[0;34m\u001b[0m\u001b[0;34m\u001b[0m\u001b[0m\n\u001b[0m\u001b[1;32m    911\u001b[0m \u001b[0;34m\u001b[0m\u001b[0m\n\u001b[1;32m    912\u001b[0m       \u001b[0mnew_tracing_count\u001b[0m \u001b[0;34m=\u001b[0m \u001b[0mself\u001b[0m\u001b[0;34m.\u001b[0m\u001b[0mexperimental_get_tracing_count\u001b[0m\u001b[0;34m(\u001b[0m\u001b[0;34m)\u001b[0m\u001b[0;34m\u001b[0m\u001b[0;34m\u001b[0m\u001b[0m\n",
            "\u001b[0;32m/usr/local/lib/python3.7/dist-packages/tensorflow/python/eager/def_function.py\u001b[0m in \u001b[0;36m_call\u001b[0;34m(self, *args, **kwds)\u001b[0m\n\u001b[1;32m    940\u001b[0m       \u001b[0;31m# In this case we have created variables on the first call, so we run the\u001b[0m\u001b[0;34m\u001b[0m\u001b[0;34m\u001b[0m\u001b[0;34m\u001b[0m\u001b[0m\n\u001b[1;32m    941\u001b[0m       \u001b[0;31m# defunned version which is guaranteed to never create variables.\u001b[0m\u001b[0;34m\u001b[0m\u001b[0;34m\u001b[0m\u001b[0;34m\u001b[0m\u001b[0m\n\u001b[0;32m--> 942\u001b[0;31m       \u001b[0;32mreturn\u001b[0m \u001b[0mself\u001b[0m\u001b[0;34m.\u001b[0m\u001b[0m_stateless_fn\u001b[0m\u001b[0;34m(\u001b[0m\u001b[0;34m*\u001b[0m\u001b[0margs\u001b[0m\u001b[0;34m,\u001b[0m \u001b[0;34m**\u001b[0m\u001b[0mkwds\u001b[0m\u001b[0;34m)\u001b[0m  \u001b[0;31m# pylint: disable=not-callable\u001b[0m\u001b[0;34m\u001b[0m\u001b[0;34m\u001b[0m\u001b[0m\n\u001b[0m\u001b[1;32m    943\u001b[0m     \u001b[0;32melif\u001b[0m \u001b[0mself\u001b[0m\u001b[0;34m.\u001b[0m\u001b[0m_stateful_fn\u001b[0m \u001b[0;32mis\u001b[0m \u001b[0;32mnot\u001b[0m \u001b[0;32mNone\u001b[0m\u001b[0;34m:\u001b[0m\u001b[0;34m\u001b[0m\u001b[0;34m\u001b[0m\u001b[0m\n\u001b[1;32m    944\u001b[0m       \u001b[0;31m# Release the lock early so that multiple threads can perform the call\u001b[0m\u001b[0;34m\u001b[0m\u001b[0;34m\u001b[0m\u001b[0;34m\u001b[0m\u001b[0m\n",
            "\u001b[0;32m/usr/local/lib/python3.7/dist-packages/tensorflow/python/eager/function.py\u001b[0m in \u001b[0;36m__call__\u001b[0;34m(self, *args, **kwargs)\u001b[0m\n\u001b[1;32m   3129\u001b[0m        filtered_flat_args) = self._maybe_define_function(args, kwargs)\n\u001b[1;32m   3130\u001b[0m     return graph_function._call_flat(\n\u001b[0;32m-> 3131\u001b[0;31m         filtered_flat_args, captured_inputs=graph_function.captured_inputs)  # pylint: disable=protected-access\n\u001b[0m\u001b[1;32m   3132\u001b[0m \u001b[0;34m\u001b[0m\u001b[0m\n\u001b[1;32m   3133\u001b[0m   \u001b[0;34m@\u001b[0m\u001b[0mproperty\u001b[0m\u001b[0;34m\u001b[0m\u001b[0;34m\u001b[0m\u001b[0m\n",
            "\u001b[0;32m/usr/local/lib/python3.7/dist-packages/tensorflow/python/eager/function.py\u001b[0m in \u001b[0;36m_call_flat\u001b[0;34m(self, args, captured_inputs, cancellation_manager)\u001b[0m\n\u001b[1;32m   1958\u001b[0m       \u001b[0;31m# No tape is watching; skip to running the function.\u001b[0m\u001b[0;34m\u001b[0m\u001b[0;34m\u001b[0m\u001b[0;34m\u001b[0m\u001b[0m\n\u001b[1;32m   1959\u001b[0m       return self._build_call_outputs(self._inference_function.call(\n\u001b[0;32m-> 1960\u001b[0;31m           ctx, args, cancellation_manager=cancellation_manager))\n\u001b[0m\u001b[1;32m   1961\u001b[0m     forward_backward = self._select_forward_and_backward_functions(\n\u001b[1;32m   1962\u001b[0m         \u001b[0margs\u001b[0m\u001b[0;34m,\u001b[0m\u001b[0;34m\u001b[0m\u001b[0;34m\u001b[0m\u001b[0m\n",
            "\u001b[0;32m/usr/local/lib/python3.7/dist-packages/tensorflow/python/eager/function.py\u001b[0m in \u001b[0;36mcall\u001b[0;34m(self, ctx, args, cancellation_manager)\u001b[0m\n\u001b[1;32m    601\u001b[0m               \u001b[0minputs\u001b[0m\u001b[0;34m=\u001b[0m\u001b[0margs\u001b[0m\u001b[0;34m,\u001b[0m\u001b[0;34m\u001b[0m\u001b[0;34m\u001b[0m\u001b[0m\n\u001b[1;32m    602\u001b[0m               \u001b[0mattrs\u001b[0m\u001b[0;34m=\u001b[0m\u001b[0mattrs\u001b[0m\u001b[0;34m,\u001b[0m\u001b[0;34m\u001b[0m\u001b[0;34m\u001b[0m\u001b[0m\n\u001b[0;32m--> 603\u001b[0;31m               ctx=ctx)\n\u001b[0m\u001b[1;32m    604\u001b[0m         \u001b[0;32melse\u001b[0m\u001b[0;34m:\u001b[0m\u001b[0;34m\u001b[0m\u001b[0;34m\u001b[0m\u001b[0m\n\u001b[1;32m    605\u001b[0m           outputs = execute.execute_with_cancellation(\n",
            "\u001b[0;32m/usr/local/lib/python3.7/dist-packages/tensorflow/python/eager/execute.py\u001b[0m in \u001b[0;36mquick_execute\u001b[0;34m(op_name, num_outputs, inputs, attrs, ctx, name)\u001b[0m\n\u001b[1;32m     57\u001b[0m     \u001b[0mctx\u001b[0m\u001b[0;34m.\u001b[0m\u001b[0mensure_initialized\u001b[0m\u001b[0;34m(\u001b[0m\u001b[0;34m)\u001b[0m\u001b[0;34m\u001b[0m\u001b[0;34m\u001b[0m\u001b[0m\n\u001b[1;32m     58\u001b[0m     tensors = pywrap_tfe.TFE_Py_Execute(ctx._handle, device_name, op_name,\n\u001b[0;32m---> 59\u001b[0;31m                                         inputs, attrs, num_outputs)\n\u001b[0m\u001b[1;32m     60\u001b[0m   \u001b[0;32mexcept\u001b[0m \u001b[0mcore\u001b[0m\u001b[0;34m.\u001b[0m\u001b[0m_NotOkStatusException\u001b[0m \u001b[0;32mas\u001b[0m \u001b[0me\u001b[0m\u001b[0;34m:\u001b[0m\u001b[0;34m\u001b[0m\u001b[0;34m\u001b[0m\u001b[0m\n\u001b[1;32m     61\u001b[0m     \u001b[0;32mif\u001b[0m \u001b[0mname\u001b[0m \u001b[0;32mis\u001b[0m \u001b[0;32mnot\u001b[0m \u001b[0;32mNone\u001b[0m\u001b[0;34m:\u001b[0m\u001b[0;34m\u001b[0m\u001b[0;34m\u001b[0m\u001b[0m\n",
            "\u001b[0;31mKeyboardInterrupt\u001b[0m: "
          ]
        }
      ]
    },
    {
      "cell_type": "markdown",
      "metadata": {
        "id": "CWiMGWZD64S8"
      },
      "source": [
        ""
      ]
    },
    {
      "cell_type": "markdown",
      "metadata": {
        "id": "4l_YMMBT64j4"
      },
      "source": [
        "## 3 Layers CNN model "
      ]
    },
    {
      "cell_type": "code",
      "metadata": {
        "id": "MqbjjJpm64j5"
      },
      "source": [
        "width,height,dimenstion = data.Xtrain[0].shape"
      ],
      "execution_count": null,
      "outputs": []
    },
    {
      "cell_type": "code",
      "metadata": {
        "id": "LWokwVkO64j5"
      },
      "source": [
        "# Defining the black box model\n",
        "class CNNModel:\n",
        "    def __init__(self):\n",
        "        self.model = None\n",
        "        #self.model_name = \"3layersCNN_ADAM_crossEn_chroma_stft_cqt_mel_ADAM_CrossEnt_ponderated_07_02_02\"\n",
        "        self.model_name = \"2layersCNN_trial\"\n",
        "        self.model_path = \"/content/drive/MyDrive/Mymodels_result/\" + self.model_name +\"/\"+ self.model_name + \".h5\"\n",
        "        self.model_weights_path = \"/content/drive/MyDrive/Mymodels_result/\" + self.model_name +\"/\"+  self.model_name + \"_weights.h5\"\n",
        "        self.model_history_path_acc = \"/content/drive/MyDrive/Mymodels_result/\" + self.model_name +\"/\"+ self.model_name + \"_history_acc.png\"\n",
        "        self.model_history_path_loss = \"/content/drive/MyDrive/Mymodels_result/\" + self.model_name +\"/\"+ self.model_name + \"_history_loss.png\"\n",
        "        \n",
        "        self.model_history = None\n",
        "    \n",
        "    def build_model(self):\n",
        "        \"\"\"\n",
        "        This function is used to create the black box model :\n",
        "        \"\"\"\n",
        "        # Defining the input layer\n",
        "        \n",
        "        model = Sequential()\n",
        "\n",
        "        #Adding the CNN layers along with some drop outs and maxpooling\n",
        "        \n",
        "        model.add(Conv2D(64, (3,3), activation ='relu', input_shape =(width,height,dimension)))\n",
        "        model.add(MaxPooling2D(pool_size = (2,2)))\n",
        "\n",
        "\n",
        "        model.add(Conv2D(32, (3,3), activation = 'relu'))\n",
        "        model.add(MaxPooling2D(pool_size = (2,2)))\n",
        "        \n",
        "        \n",
        "        model.add(Flatten())\n",
        "\n",
        "        \n",
        "        #Adding the dense layers\n",
        "        \n",
        "        model.add(Dense(256, activation = 'relu'))\n",
        "        model.add(Dropout(0.5))\n",
        "        \n",
        "        model.add(Dense(124, activation = 'relu'))\n",
        "        #final output layer with 10 predictions to be made\n",
        "        model.add(Dense(10, activation = 'softmax'))\n",
        "    \n",
        "        \n",
        "        \n",
        "        # Compiling the model\n",
        "        self.model = model\n",
        "        self.model.compile(optimizer=tf.keras.optimizers.Adam(learning_rate=0.001), loss='categorical_crossentropy', metrics=['accuracy'])\n",
        "\n",
        "    def train_model(self,data, epochs=10):\n",
        "        \"\"\"\n",
        "        This function is used to train the black box model :\n",
        "        \"\"\"\n",
        "        # Training the model\n",
        "        self.model_history = self.model.fit(data.Xtrain,data.ytrain, epochs=epochs,validation_data=(data.Xval,data.yval), shuffle=True)\n",
        "        \n",
        "    def save_model(self):\n",
        "        \"\"\"\n",
        "        This function is used to save the black box model :\n",
        "        \"\"\"\n",
        "        # Save the model\n",
        "        self.model.save(self.model_path)\n",
        "        \n",
        "    def load_model(self):\n",
        "        \"\"\"\n",
        "        This function is used to load the black box model :\n",
        "        \"\"\"\n",
        "        # Load the model\n",
        "        self.model = tf.keras.models.load_model(self.model_path)\n",
        "        \n",
        "    def save_model_weights(self):\n",
        "        \"\"\"\n",
        "        This function is used to save the weights of the black box model :\n",
        "        \"\"\"\n",
        "        # Save the weights\n",
        "        self.model.save_weights(self.model_weights_path)\n",
        "    \n",
        "\n",
        "    def evaluate_model(self, Xtest,ytest):\n",
        "        \"\"\"\n",
        "        This function is used to evaluate the black box model :\n",
        "        \"\"\"\n",
        "        # Evaluate the model\n",
        "        test_loss, test_acc = self.model.evaluate(Xtest,ytest)\n",
        "        print(\"Test loss: \", test_loss)\n",
        "        print(\"Test accuracy: \", test_acc)\n",
        "    \n",
        "    def plot_model_history(self):\n",
        "        \"\"\"\n",
        "        This function is used to plot the model history :\n",
        "        \"\"\"\n",
        "        #define variables\n",
        "        loss = self.model_history.history['loss']\n",
        "        val_loss = self.model_history.history['val_loss']\n",
        "        accuracy = self.model_history.history['accuracy']\n",
        "        val_accuracy = self.model_history.history['val_accuracy']\n",
        "        epochs = range(1, len(loss) + 1)\n",
        "        # Plot the model history\n",
        "        plt.figure()\n",
        "        plt.plot(epochs, accuracy, label='Training accuracy')\n",
        "        plt.plot(epochs, val_accuracy, label='Validation accuracy')\n",
        "        plt.title('Training and validation accuracy')\n",
        "        plt.legend()\n",
        "        plt.savefig(self.model_history_path_acc)\n",
        "        plt.show()\n",
        "\n",
        "        plt.figure()\n",
        "        plt.plot(epochs, loss, label='Training loss')\n",
        "        plt.plot(epochs, val_loss, label='Validation loss')\n",
        "        plt.title('Training and validation loss')\n",
        "        plt.legend()\n",
        "        plt.savefig(self.model_history_path_loss)\n",
        "        plt.show()\n",
        "        \n",
        "    def predict_class(self, spectrogram_image):\n",
        "        \"\"\"\n",
        "        This function is used to predict the class of the spectrogram image :\n",
        "        \"\"\"\n",
        "        # Predict the class\n",
        "        prediction = self.model.predict(spectrogram_image)\n",
        "        return np.argmax(prediction)\n",
        "\n",
        "    def predict_classes(self, spectrogram_images):\n",
        "        \"\"\"\n",
        "        This function is used to predict the classes of the spectrogram images :\n",
        "        \"\"\"\n",
        "        # Predict the classes\n",
        "        predictions = self.model.predict(spectrogram_images)\n",
        "        return np.argmax(predictions, axis=1)\n",
        "\n",
        "    \n",
        "    def plot_confusion_matrix(self, Xtest,ytest, classes=None):\n",
        "        \"\"\"\n",
        "        This function is used to plot the confusion matrix :\n",
        "        \"\"\"\n",
        "        # Predict the classes\n",
        "        predictions = self.predict_classes(Xtest)\n",
        "        # Plot the confusion matrix\n",
        "        y_parse = np.argmax(ytest, axis=1)\n",
        "        cm = confusion_matrix(y_parse, predictions)\n",
        "        #if classes is None:\n",
        "        #    classes = test_generator.class_indices.keys()\n",
        "        plt.figure()\n",
        "        plt.imshow(cm, interpolation='nearest', cmap=plt.cm.Blues)\n",
        "        plt.title(\"Confusion matrix\")\n",
        "        plt.colorbar()\n",
        "        tick_marks = np.arange(10)\n",
        "        plt.xticks(tick_marks,classes,  rotation=45)\n",
        "        plt.yticks(tick_marks,classes)\n",
        "        fmt = 'd'\n",
        "        thresh = cm.max() / 2.\n",
        "        for i, j in itertools.product(range(cm.shape[0]), range(cm.shape[1])):\n",
        "            plt.text(j, i, format(cm[i, j], fmt), horizontalalignment=\"center\", color=\"white\" if cm[i, j] > thresh else \"black\")\n",
        "        plt.ylabel('True label')\n",
        "        plt.xlabel('Predicted label')\n",
        "        plt.tight_layout()\n",
        "        plt.savefig(\"/content/drive/MyDrive/Mymodels_result/\"+ self.model_name +\"/\"+\"confusion_matrix.png\")\n",
        "        plt.show()\n",
        "        acc = np.diag(cm).sum() /cm.sum()\n",
        "        print(\"acc\",acc)"
      ],
      "execution_count": null,
      "outputs": []
    },
    {
      "cell_type": "code",
      "metadata": {
        "colab": {
          "base_uri": "https://localhost:8080/"
        },
        "id": "YrBNZzVq64j6",
        "outputId": "917e3662-6397-47d8-ce9f-5dcf879e4f12"
      },
      "source": [
        "for i in range(1):\n",
        "    \n",
        "    # Fetch the training and test dataset\n",
        "    \n",
        "    # Create the  model\n",
        "    model = CNNModel()\n",
        "    \n",
        "    # Build the  model\n",
        "    model.build_model()\n",
        "    # Train the  model\n",
        "    model.train_model(data, epochs=40)\n",
        "    \n",
        "    # Save the  model\n",
        "    model.save_model()\n",
        "\n",
        "    # Evaluate  model\n",
        "    model.evaluate_model(data.Xtest,data.ytest)\n",
        "\n",
        "    # Plot the model history\n",
        "    model.plot_model_history()\n",
        "    \n",
        "    # Plot the confusion matrix\n",
        "    model.plot_confusion_matrix(data.Xtest,data.ytest)\n"
      ],
      "execution_count": null,
      "outputs": [
        {
          "output_type": "stream",
          "name": "stdout",
          "text": [
            "Epoch 1/40\n",
            "22/22 [==============================] - 5s 165ms/step - loss: 2.3864 - accuracy: 0.0971 - val_loss: 2.1783 - val_accuracy: 0.2200\n",
            "Epoch 2/40\n",
            "22/22 [==============================] - 3s 114ms/step - loss: 2.1411 - accuracy: 0.2100 - val_loss: 2.0459 - val_accuracy: 0.2300\n",
            "Epoch 3/40\n",
            "22/22 [==============================] - 2s 114ms/step - loss: 2.0810 - accuracy: 0.2600 - val_loss: 2.0291 - val_accuracy: 0.3200\n",
            "Epoch 4/40\n",
            "22/22 [==============================] - 2s 114ms/step - loss: 1.9950 - accuracy: 0.2929 - val_loss: 2.0049 - val_accuracy: 0.3000\n",
            "Epoch 5/40\n",
            "22/22 [==============================] - 2s 114ms/step - loss: 1.9742 - accuracy: 0.2986 - val_loss: 1.9751 - val_accuracy: 0.3100\n",
            "Epoch 6/40\n",
            "22/22 [==============================] - 2s 113ms/step - loss: 1.8666 - accuracy: 0.3271 - val_loss: 1.9821 - val_accuracy: 0.3000\n",
            "Epoch 7/40\n",
            "22/22 [==============================] - 3s 114ms/step - loss: 1.8092 - accuracy: 0.3500 - val_loss: 1.9718 - val_accuracy: 0.3200\n",
            "Epoch 8/40\n",
            "22/22 [==============================] - 2s 114ms/step - loss: 1.7349 - accuracy: 0.3800 - val_loss: 1.9860 - val_accuracy: 0.3200\n",
            "Epoch 9/40\n",
            "22/22 [==============================] - 2s 113ms/step - loss: 1.6548 - accuracy: 0.3929 - val_loss: 1.9170 - val_accuracy: 0.3100\n",
            "Epoch 10/40\n",
            "22/22 [==============================] - 3s 114ms/step - loss: 1.6407 - accuracy: 0.4071 - val_loss: 1.9211 - val_accuracy: 0.3500\n",
            "Epoch 11/40\n",
            "22/22 [==============================] - 3s 116ms/step - loss: 1.5122 - accuracy: 0.4571 - val_loss: 1.8788 - val_accuracy: 0.2900\n",
            "Epoch 12/40\n",
            "22/22 [==============================] - 3s 116ms/step - loss: 1.4058 - accuracy: 0.4943 - val_loss: 1.8225 - val_accuracy: 0.3600\n",
            "Epoch 13/40\n",
            "22/22 [==============================] - 3s 114ms/step - loss: 1.3004 - accuracy: 0.5386 - val_loss: 1.8813 - val_accuracy: 0.3800\n",
            "Epoch 14/40\n",
            "22/22 [==============================] - 2s 113ms/step - loss: 1.2593 - accuracy: 0.5214 - val_loss: 1.7829 - val_accuracy: 0.3600\n",
            "Epoch 15/40\n",
            "22/22 [==============================] - 3s 115ms/step - loss: 1.1578 - accuracy: 0.5843 - val_loss: 1.7875 - val_accuracy: 0.3500\n",
            "Epoch 16/40\n",
            "22/22 [==============================] - 2s 114ms/step - loss: 1.1297 - accuracy: 0.6186 - val_loss: 1.7079 - val_accuracy: 0.4100\n",
            "Epoch 17/40\n",
            "22/22 [==============================] - 3s 115ms/step - loss: 1.0493 - accuracy: 0.6314 - val_loss: 1.8683 - val_accuracy: 0.3500\n",
            "Epoch 18/40\n",
            "22/22 [==============================] - 3s 115ms/step - loss: 0.9507 - accuracy: 0.6600 - val_loss: 2.0719 - val_accuracy: 0.3600\n",
            "Epoch 19/40\n",
            "22/22 [==============================] - 3s 115ms/step - loss: 0.9069 - accuracy: 0.6829 - val_loss: 1.9681 - val_accuracy: 0.3400\n",
            "Epoch 20/40\n",
            "22/22 [==============================] - 2s 114ms/step - loss: 0.8228 - accuracy: 0.7000 - val_loss: 1.8482 - val_accuracy: 0.3700\n",
            "Epoch 21/40\n",
            "22/22 [==============================] - 3s 115ms/step - loss: 0.7447 - accuracy: 0.7329 - val_loss: 1.8402 - val_accuracy: 0.3000\n",
            "Epoch 22/40\n",
            "22/22 [==============================] - 2s 114ms/step - loss: 0.6571 - accuracy: 0.7643 - val_loss: 1.9411 - val_accuracy: 0.3500\n",
            "Epoch 23/40\n",
            "22/22 [==============================] - 3s 114ms/step - loss: 0.6004 - accuracy: 0.7900 - val_loss: 2.1270 - val_accuracy: 0.3900\n",
            "Epoch 24/40\n",
            "22/22 [==============================] - 3s 114ms/step - loss: 0.6398 - accuracy: 0.7871 - val_loss: 1.9242 - val_accuracy: 0.3500\n",
            "Epoch 25/40\n",
            "22/22 [==============================] - 3s 115ms/step - loss: 0.5121 - accuracy: 0.8257 - val_loss: 2.0259 - val_accuracy: 0.3900\n",
            "Epoch 26/40\n",
            "22/22 [==============================] - 3s 114ms/step - loss: 0.5113 - accuracy: 0.8200 - val_loss: 2.1268 - val_accuracy: 0.3500\n",
            "Epoch 27/40\n",
            "22/22 [==============================] - 3s 115ms/step - loss: 0.4262 - accuracy: 0.8471 - val_loss: 1.9234 - val_accuracy: 0.4200\n",
            "Epoch 28/40\n",
            "22/22 [==============================] - 2s 114ms/step - loss: 0.3800 - accuracy: 0.8686 - val_loss: 2.2895 - val_accuracy: 0.4000\n",
            "Epoch 29/40\n",
            "22/22 [==============================] - 3s 115ms/step - loss: 0.3819 - accuracy: 0.8671 - val_loss: 2.0405 - val_accuracy: 0.3700\n",
            "Epoch 30/40\n",
            "22/22 [==============================] - 2s 113ms/step - loss: 0.3527 - accuracy: 0.8800 - val_loss: 2.1562 - val_accuracy: 0.3800\n",
            "Epoch 31/40\n",
            "22/22 [==============================] - 3s 115ms/step - loss: 0.3179 - accuracy: 0.8900 - val_loss: 2.7077 - val_accuracy: 0.4000\n",
            "Epoch 32/40\n",
            "22/22 [==============================] - 3s 116ms/step - loss: 0.3065 - accuracy: 0.8800 - val_loss: 2.7425 - val_accuracy: 0.3900\n",
            "Epoch 33/40\n",
            "22/22 [==============================] - 3s 119ms/step - loss: 0.2971 - accuracy: 0.8929 - val_loss: 2.3610 - val_accuracy: 0.4000\n",
            "Epoch 34/40\n",
            "22/22 [==============================] - 3s 118ms/step - loss: 0.2530 - accuracy: 0.9271 - val_loss: 2.5853 - val_accuracy: 0.3900\n",
            "Epoch 35/40\n",
            "22/22 [==============================] - 3s 118ms/step - loss: 0.2377 - accuracy: 0.9286 - val_loss: 2.6225 - val_accuracy: 0.3400\n",
            "Epoch 36/40\n",
            "22/22 [==============================] - 3s 116ms/step - loss: 0.2305 - accuracy: 0.9371 - val_loss: 2.4803 - val_accuracy: 0.4000\n",
            "Epoch 37/40\n",
            "22/22 [==============================] - 3s 116ms/step - loss: 0.1858 - accuracy: 0.9486 - val_loss: 2.9413 - val_accuracy: 0.4100\n",
            "Epoch 38/40\n",
            "22/22 [==============================] - 3s 116ms/step - loss: 0.1942 - accuracy: 0.9286 - val_loss: 2.6876 - val_accuracy: 0.4100\n",
            "Epoch 39/40\n",
            "22/22 [==============================] - 3s 119ms/step - loss: 0.1703 - accuracy: 0.9443 - val_loss: 3.1151 - val_accuracy: 0.3800\n",
            "Epoch 40/40\n",
            "22/22 [==============================] - 3s 118ms/step - loss: 0.1500 - accuracy: 0.9614 - val_loss: 2.7445 - val_accuracy: 0.4000\n"
          ]
        }
      ]
    },
    {
      "cell_type": "code",
      "metadata": {
        "colab": {
          "base_uri": "https://localhost:8080/"
        },
        "id": "j3kvU3YL63UD",
        "outputId": "0a365f00-6aae-46cd-83d0-91bbd4575048"
      },
      "source": [
        "model.model.summary()"
      ],
      "execution_count": null,
      "outputs": [
        {
          "output_type": "stream",
          "name": "stdout",
          "text": [
            "Model: \"sequential_1\"\n",
            "_________________________________________________________________\n",
            " Layer (type)                Output Shape              Param #   \n",
            "=================================================================\n",
            " conv2d_2 (Conv2D)           (None, 222, 222, 64)      1792      \n",
            "                                                                 \n",
            " max_pooling2d_2 (MaxPooling  (None, 111, 111, 64)     0         \n",
            " 2D)                                                             \n",
            "                                                                 \n",
            " conv2d_3 (Conv2D)           (None, 109, 109, 32)      18464     \n",
            "                                                                 \n",
            " max_pooling2d_3 (MaxPooling  (None, 54, 54, 32)       0         \n",
            " 2D)                                                             \n",
            "                                                                 \n",
            " flatten_1 (Flatten)         (None, 93312)             0         \n",
            "                                                                 \n",
            " dense_3 (Dense)             (None, 256)               23888128  \n",
            "                                                                 \n",
            " dropout_1 (Dropout)         (None, 256)               0         \n",
            "                                                                 \n",
            " dense_4 (Dense)             (None, 124)               31868     \n",
            "                                                                 \n",
            " dense_5 (Dense)             (None, 10)                1250      \n",
            "                                                                 \n",
            "=================================================================\n",
            "Total params: 23,941,502\n",
            "Trainable params: 23,941,502\n",
            "Non-trainable params: 0\n",
            "_________________________________________________________________\n"
          ]
        }
      ]
    },
    {
      "cell_type": "code",
      "metadata": {
        "colab": {
          "base_uri": "https://localhost:8080/"
        },
        "id": "KOzoXS-3MRno",
        "outputId": "db921ad7-8e01-4fcd-8519-28a7e351cf4e"
      },
      "source": [
        "!pip install visualkeras"
      ],
      "execution_count": null,
      "outputs": [
        {
          "output_type": "stream",
          "name": "stdout",
          "text": [
            "Collecting visualkeras\n",
            "  Downloading visualkeras-0.0.2-py3-none-any.whl (12 kB)\n",
            "Requirement already satisfied: numpy>=1.18.1 in /usr/local/lib/python3.7/dist-packages (from visualkeras) (1.19.5)\n",
            "Collecting aggdraw>=1.3.11\n",
            "  Downloading aggdraw-1.3.12-cp37-cp37m-manylinux2010_x86_64.whl (795 kB)\n",
            "\u001b[K     |████████████████████████████████| 795 kB 7.3 MB/s \n",
            "\u001b[?25hRequirement already satisfied: pillow>=6.2.0 in /usr/local/lib/python3.7/dist-packages (from visualkeras) (7.1.2)\n",
            "Installing collected packages: aggdraw, visualkeras\n",
            "Successfully installed aggdraw-1.3.12 visualkeras-0.0.2\n"
          ]
        }
      ]
    },
    {
      "cell_type": "code",
      "metadata": {
        "id": "CmkIvUu2MXaB"
      },
      "source": [
        "import visualkeras"
      ],
      "execution_count": null,
      "outputs": []
    },
    {
      "cell_type": "code",
      "metadata": {
        "colab": {
          "base_uri": "https://localhost:8080/",
          "height": 1000
        },
        "id": "mH4PBipDMaGx",
        "outputId": "8dd8168a-abc8-4e5c-c1e1-d8dbbafa86b4"
      },
      "source": [
        "#visualkeras.layered_view(model.model).show() # display using your system viewer\n",
        "visualkeras.layered_view(model.model, to_file='output.png') # write to disk"
      ],
      "execution_count": null,
      "outputs": [
        {
          "output_type": "execute_result",
          "data": {
            "image/png": "[encoded data removed]",
            "text/plain": [
              "<PIL.Image.Image image mode=RGBA size=823x1184 at 0x7FA2D46CAE90>"
            ]
          },
          "metadata": {},
          "execution_count": 14
        }
      ]
    }
  ]
}