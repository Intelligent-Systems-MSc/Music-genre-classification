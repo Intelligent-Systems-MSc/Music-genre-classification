{
  "nbformat": 4,
  "nbformat_minor": 0,
  "metadata": {
    "colab": {
      "name": "CNN_3_spectrograms.ipynb",
      "provenance": [],
      "collapsed_sections": [
        "lmP4GM50_m2i"
      ]
    },
    "kernelspec": {
      "name": "python3",
      "display_name": "Python 3"
    },
    "language_info": {
      "name": "python"
    },
    "accelerator": "GPU"
  },
  "cells": [
    {
      "cell_type": "code",
      "metadata": {
        "id": "bk1OhpRHPU0T",
        "colab": {
          "base_uri": "https://localhost:8080/"
        },
        "outputId": "ff6cbcad-8dd6-4d2c-ab82-b38230b2c000"
      },
      "source": [
        "from google.colab import drive\n",
        "drive.mount('/content/drive')"
      ],
      "execution_count": 1,
      "outputs": [
        {
          "output_type": "stream",
          "name": "stdout",
          "text": [
            "Mounted at /content/drive\n"
          ]
        }
      ]
    },
    {
      "cell_type": "code",
      "metadata": {
        "colab": {
          "base_uri": "https://localhost:8080/"
        },
        "id": "Tik6-qLMPfW9",
        "outputId": "cc80d302-d836-48c8-decd-6e6a265f35fe"
      },
      "source": [
        "pip install patool"
      ],
      "execution_count": 2,
      "outputs": [
        {
          "output_type": "stream",
          "name": "stdout",
          "text": [
            "Collecting patool\n",
            "  Downloading patool-1.12-py2.py3-none-any.whl (77 kB)\n",
            "\u001b[?25l\r\u001b[K     |████▎                           | 10 kB 18.1 MB/s eta 0:00:01\r\u001b[K     |████████▌                       | 20 kB 23.3 MB/s eta 0:00:01\r\u001b[K     |████████████▊                   | 30 kB 13.2 MB/s eta 0:00:01\r\u001b[K     |█████████████████               | 40 kB 10.1 MB/s eta 0:00:01\r\u001b[K     |█████████████████████▏          | 51 kB 5.5 MB/s eta 0:00:01\r\u001b[K     |█████████████████████████▍      | 61 kB 6.1 MB/s eta 0:00:01\r\u001b[K     |█████████████████████████████▋  | 71 kB 6.0 MB/s eta 0:00:01\r\u001b[K     |████████████████████████████████| 77 kB 3.3 MB/s \n",
            "\u001b[?25hInstalling collected packages: patool\n",
            "Successfully installed patool-1.12\n"
          ]
        }
      ]
    },
    {
      "cell_type": "markdown",
      "metadata": {
        "id": "lmP4GM50_m2i"
      },
      "source": [
        "#Generation Mode"
      ]
    },
    {
      "cell_type": "code",
      "metadata": {
        "colab": {
          "base_uri": "https://localhost:8080/",
          "height": 105
        },
        "id": "FPO2aKU_Pi_D",
        "outputId": "a67523a9-fdc8-4f98-9464-98aa93929323"
      },
      "source": [
        "import patoolib\n",
        "patoolib.extract_archive(\"/content/drive/MyDrive/mfcc_split.rar\", outdir=\"/content\")"
      ],
      "execution_count": null,
      "outputs": [
        {
          "output_type": "stream",
          "name": "stdout",
          "text": [
            "patool: Extracting /content/drive/MyDrive/mfcc.rar ...\n",
            "patool: running /usr/bin/unrar x -- /content/drive/MyDrive/mfcc.rar\n",
            "patool:     with cwd='/content'\n",
            "patool: ... /content/drive/MyDrive/mfcc.rar extracted to `/content'.\n"
          ]
        },
        {
          "output_type": "execute_result",
          "data": {
            "application/vnd.google.colaboratory.intrinsic+json": {
              "type": "string"
            },
            "text/plain": [
              "'/content'"
            ]
          },
          "metadata": {},
          "execution_count": 3
        }
      ]
    },
    {
      "cell_type": "code",
      "metadata": {
        "colab": {
          "base_uri": "https://localhost:8080/",
          "height": 1000
        },
        "id": "ZiIv_vdaPpMM",
        "outputId": "89531f72-d3b6-48f0-89e7-44dd0dfd8cf6"
      },
      "source": [
        "\"\"\"\n",
        "Authors : Rayane KADEM\n",
        "This programm is used to create a class that represents a black box model using tensorflox framework. :\n",
        "    - The model conssists of  CNN layer, Fully connected layers and a softmax layer :\n",
        "    - The CNN is used to extract features from spectrogram images and it contains :\n",
        "        - \n",
        "        -\n",
        "\n",
        "    - The output of CNN is flattened and fed into a fully connected layer with .. neurons\n",
        "    - The output of fully connected layer is fed into a softmax layer with 10 neurons\n",
        "\"\"\"\n",
        "\n",
        "# Importing the required libraries\n",
        "import tensorflow as tf\n",
        "import numpy as np\n",
        "from tensorflow.keras.models import Model\n",
        "from fetch_training_dataset_gen import fetch_spectogram_dataset\n",
        "from sklearn.metrics import confusion_matrix\n",
        "import matplotlib.pyplot as plt\n",
        "import itertools\n",
        "#import argparse\n",
        "import keras\n",
        "from keras.layers import Flatten, Dense, Dropout, Conv2D, Activation ,MaxPooling2D, Flatten\n",
        "from tensorflow.keras.models import Sequential\n",
        "from keras.layers import LeakyReLU\n",
        "\n",
        "# Defining the black box model\n",
        "class CNNModel:\n",
        "    def __init__(self):\n",
        "        self.model = None\n",
        "        self.model_name = \"2layers_CNN_model2_mfcc_trial\"\n",
        "        self.model_path = \"/content/drive/MyDrive/Mymodels_result/\" + self.model_name +\"/\"+ self.model_name + \".h5\"\n",
        "        self.model_weights_path = \"/content/drive/MyDrive/Mymodels_result/\" + self.model_name +\"/\"+  self.model_name + \"_weights.h5\"\n",
        "        self.model_history_path_acc = \"/content/drive/MyDrive/Mymodels_result/\" + self.model_name +\"/\"+ self.model_name + \"_history_acc.png\"\n",
        "        self.model_history_path_loss = \"/content/drive/MyDrive/Mymodels_result/\" + self.model_name +\"/\"+ self.model_name + \"_history_loss.png\"\n",
        "        \n",
        "        self.model_history = None\n",
        "    \n",
        "    def build_model(self):\n",
        "        \"\"\"\n",
        "        This function is used to create the black box model :\n",
        "        \"\"\"\n",
        "        # Defining the input layer\n",
        "        \n",
        "        model = Sequential()\n",
        "\n",
        "        #Adding the CNN layers along with some drop outs and maxpooling\n",
        "        model.add(Conv2D(64, (3,3), activation ='relu', input_shape = (288,432 , 3)))\n",
        "        model.add(MaxPooling2D(pool_size = (2,2)))\n",
        "\n",
        "\n",
        "        model.add(Conv2D(32, (3,3),strides=(1,1) , activation = 'relu'))\n",
        "        model.add(MaxPooling2D(pool_size = (2,2)))\n",
        "        \n",
        "        model.add(Flatten())\n",
        "\n",
        "        \n",
        "        #Adding the dense layers\n",
        "        model.add(Dense(256, activation = 'relu'))\n",
        "        model.add(Dropout(0.5))\n",
        "        model.add(Dense(124, activation = 'relu'))\n",
        "        #final output layer with 10 predictions to be made\n",
        "        model.add(Dense(10, activation = 'softmax'))\n",
        "    \n",
        "        \n",
        "        \n",
        "        # Compiling the model\n",
        "        self.model = model\n",
        "        self.model.compile(optimizer=tf.keras.optimizers.Adam(learning_rate=0.000005), loss='categorical_crossentropy', metrics=['accuracy'])\n",
        "\n",
        "        \n",
        "    def train_model(self, train_generator,validation_generator, epochs=10):\n",
        "        \"\"\"\n",
        "        This function is used to train the black box model :\n",
        "        \"\"\"\n",
        "        # Training the model\n",
        "        self.model_history = self.model.fit(train_generator, epochs=epochs,validation_data=validation_generator, shuffle=True)\n",
        "\n",
        "        \n",
        "    def save_model(self):\n",
        "        \"\"\"\n",
        "        This function is used to save the black box model :\n",
        "        \"\"\"\n",
        "        # Save the model\n",
        "        self.model.save(self.model_path)\n",
        "        \n",
        "    def load_model(self):\n",
        "        \"\"\"\n",
        "        This function is used to load the black box model :\n",
        "        \"\"\"\n",
        "        # Load the model\n",
        "        self.model = tf.keras.models.load_model(self.model_path)\n",
        "        \n",
        "    def save_model_weights(self):\n",
        "        \"\"\"\n",
        "        This function is used to save the weights of the black box model :\n",
        "        \"\"\"\n",
        "        # Save the weights\n",
        "        self.model.save_weights(self.model_weights_path)\n",
        "    \n",
        "\n",
        "    def evaluate_model(self, test_generator):\n",
        "        \"\"\"\n",
        "        This function is used to evaluate the black box model :\n",
        "        \"\"\"\n",
        "        # Evaluate the model\n",
        "        test_loss, test_acc = self.model.evaluate(test_generator)\n",
        "        print(\"Test loss: \", test_loss)\n",
        "        print(\"Test accuracy: \", test_acc)\n",
        "    \n",
        "    def plot_model_history(self):\n",
        "        \"\"\"\n",
        "        This function is used to plot the model history :\n",
        "        \"\"\"\n",
        "        #define variables\n",
        "        loss = self.model_history.history['loss']\n",
        "        val_loss = self.model_history.history['val_loss']\n",
        "        accuracy = self.model_history.history['accuracy']\n",
        "        val_accuracy = self.model_history.history['val_accuracy']\n",
        "        epochs = range(1, len(loss) + 1)\n",
        "        # Plot the model history\n",
        "        plt.figure()\n",
        "        plt.plot(epochs, accuracy, label='Training accuracy')\n",
        "        plt.plot(epochs, val_accuracy, label='Validation accuracy')\n",
        "        plt.title('Training and validation accuracy')\n",
        "        plt.legend()\n",
        "        plt.savefig(self.model_history_path_acc)\n",
        "        plt.show()\n",
        "\n",
        "        plt.figure()\n",
        "        plt.plot(epochs, loss, label='Training loss')\n",
        "        plt.plot(epochs, val_loss, label='Validation loss')\n",
        "        plt.title('Training and validation loss')\n",
        "        plt.legend()\n",
        "        plt.savefig(self.model_history_path_loss)\n",
        "        plt.show()\n",
        "        \n",
        "    def predict_class(self, spectrogram_image):\n",
        "        \"\"\"\n",
        "        This function is used to predict the class of the spectrogram image :\n",
        "        \"\"\"\n",
        "        # Predict the class\n",
        "        prediction = self.model.predict(spectrogram_image)\n",
        "        return np.argmax(prediction)\n",
        "\n",
        "    def predict_classes(self, spectrogram_images):\n",
        "        \"\"\"\n",
        "        This function is used to predict the classes of the spectrogram images :\n",
        "        \"\"\"\n",
        "        # Predict the classes\n",
        "        predictions = self.model.predict(spectrogram_images,10 // 10 + 1, verbose = 1)\n",
        "        return np.argmax(predictions, axis=1)\n",
        "\n",
        "    \n",
        "    def plot_confusion_matrix(self, test_generator, classes=None):\n",
        "        \"\"\"\n",
        "        This function is used to plot the confusion matrix :\n",
        "        \"\"\"\n",
        "        # Predict the classes\n",
        "        predictions = self.predict_classes(test_generator)\n",
        "        # Plot the confusion matrix\n",
        "        cm = confusion_matrix(test_generator.classes, predictions)\n",
        "        if classes is None:\n",
        "            classes = test_generator.class_indices.keys()\n",
        "        plt.figure()\n",
        "        plt.imshow(cm, interpolation='nearest', cmap=plt.cm.Blues)\n",
        "        plt.title(\"Confusion matrix\")\n",
        "        plt.colorbar()\n",
        "        tick_marks = np.arange(len(classes))\n",
        "        plt.xticks(tick_marks, classes, rotation=45)\n",
        "        plt.yticks(tick_marks, classes)\n",
        "        fmt = 'd'\n",
        "        thresh = cm.max() / 2.\n",
        "        for i, j in itertools.product(range(cm.shape[0]), range(cm.shape[1])):\n",
        "            plt.text(j, i, format(cm[i, j], fmt), horizontalalignment=\"center\", color=\"white\" if cm[i, j] > thresh else \"black\")\n",
        "        plt.ylabel('True label')\n",
        "        plt.xlabel('Predicted label')\n",
        "        plt.tight_layout()\n",
        "        plt.savefig(\"/content/drive/MyDrive/Mymodels_result/\"+ self.model_name +\"/\"+\"confusion_matrix.png\")\n",
        "        plt.show()\n",
        "\n",
        "def main():\n",
        "    \n",
        "    # Fetch the training and test dataset\n",
        "    train_generator = fetch_spectogram_dataset(\"/content/mfcc/train\")\n",
        "    test_generator =  fetch_spectogram_dataset(\"/content/mfcc/test\")\n",
        "    validation_generator =  fetch_spectogram_dataset(\"/content/mfcc/validation\")\n",
        "    # Create the black box model\n",
        "    black_box_model = CNNModel()\n",
        "    \n",
        "    # Build the black box model\n",
        "    black_box_model.build_model()\n",
        "    \n",
        "    # Train the black box model\n",
        "    black_box_model.train_model(train_generator,validation_generator, epochs=50)\n",
        "\n",
        "    # Save the black box model\n",
        "    black_box_model.save_model()\n",
        "\n",
        "    # Evaluate the black box model\n",
        "    black_box_model.evaluate_model(test_generator)\n",
        "\n",
        "    # Plot the model history\n",
        "    black_box_model.plot_model_history()\n",
        "    \n",
        "    # Plot the confusion matrix\n",
        "    black_box_model.plot_confusion_matrix(test_generator)\n",
        "\n",
        "if __name__ == \"__main__\":\n",
        "    main()\n",
        "        \n",
        "\n"
      ],
      "execution_count": null,
      "outputs": [
        {
          "output_type": "stream",
          "name": "stdout",
          "text": [
            "Found 700 images belonging to 10 classes.\n",
            "Found 200 images belonging to 10 classes.\n",
            "Found 100 images belonging to 10 classes.\n",
            "Epoch 1/50\n",
            "70/70 [==============================] - 9s 122ms/step - loss: 2.4013 - accuracy: 0.0800 - val_loss: 2.2656 - val_accuracy: 0.1700\n",
            "Epoch 2/50\n",
            "70/70 [==============================] - 8s 118ms/step - loss: 2.3086 - accuracy: 0.1343 - val_loss: 2.2345 - val_accuracy: 0.2400\n",
            "Epoch 3/50\n",
            "70/70 [==============================] - 8s 119ms/step - loss: 2.2687 - accuracy: 0.1614 - val_loss: 2.2093 - val_accuracy: 0.2500\n",
            "Epoch 4/50\n",
            "70/70 [==============================] - 8s 117ms/step - loss: 2.2388 - accuracy: 0.2014 - val_loss: 2.1711 - val_accuracy: 0.1600\n",
            "Epoch 5/50\n",
            "70/70 [==============================] - 8s 119ms/step - loss: 2.1986 - accuracy: 0.1943 - val_loss: 2.1756 - val_accuracy: 0.1800\n",
            "Epoch 6/50\n",
            "70/70 [==============================] - 8s 117ms/step - loss: 2.1809 - accuracy: 0.2229 - val_loss: 2.1140 - val_accuracy: 0.2200\n",
            "Epoch 7/50\n",
            "70/70 [==============================] - 8s 119ms/step - loss: 2.1467 - accuracy: 0.2543 - val_loss: 2.0989 - val_accuracy: 0.2300\n",
            "Epoch 8/50\n",
            "70/70 [==============================] - 8s 119ms/step - loss: 2.1443 - accuracy: 0.2586 - val_loss: 2.1063 - val_accuracy: 0.2700\n",
            "Epoch 9/50\n",
            "70/70 [==============================] - 8s 119ms/step - loss: 2.1072 - accuracy: 0.2671 - val_loss: 2.0614 - val_accuracy: 0.3100\n",
            "Epoch 10/50\n",
            "70/70 [==============================] - 8s 118ms/step - loss: 2.0791 - accuracy: 0.2943 - val_loss: 2.0653 - val_accuracy: 0.3200\n",
            "Epoch 11/50\n",
            "70/70 [==============================] - 8s 119ms/step - loss: 2.0654 - accuracy: 0.3257 - val_loss: 2.0531 - val_accuracy: 0.2500\n",
            "Epoch 12/50\n",
            "70/70 [==============================] - 8s 118ms/step - loss: 2.0333 - accuracy: 0.2957 - val_loss: 2.0486 - val_accuracy: 0.2900\n",
            "Epoch 13/50\n",
            "70/70 [==============================] - 8s 119ms/step - loss: 2.0215 - accuracy: 0.3171 - val_loss: 2.0052 - val_accuracy: 0.3400\n",
            "Epoch 14/50\n",
            "70/70 [==============================] - 8s 119ms/step - loss: 1.9680 - accuracy: 0.3257 - val_loss: 2.0068 - val_accuracy: 0.3000\n",
            "Epoch 15/50\n",
            "70/70 [==============================] - 8s 119ms/step - loss: 1.9310 - accuracy: 0.3371 - val_loss: 1.9408 - val_accuracy: 0.3900\n",
            "Epoch 16/50\n",
            "70/70 [==============================] - 8s 118ms/step - loss: 1.9382 - accuracy: 0.3529 - val_loss: 1.9715 - val_accuracy: 0.3800\n",
            "Epoch 17/50\n",
            "70/70 [==============================] - 8s 119ms/step - loss: 1.9322 - accuracy: 0.3529 - val_loss: 1.9202 - val_accuracy: 0.3700\n",
            "Epoch 18/50\n",
            "70/70 [==============================] - 8s 119ms/step - loss: 1.8866 - accuracy: 0.3671 - val_loss: 1.9000 - val_accuracy: 0.3700\n",
            "Epoch 19/50\n",
            "70/70 [==============================] - 8s 119ms/step - loss: 1.8476 - accuracy: 0.3843 - val_loss: 1.9235 - val_accuracy: 0.3700\n",
            "Epoch 20/50\n",
            "70/70 [==============================] - 8s 118ms/step - loss: 1.8139 - accuracy: 0.3943 - val_loss: 1.9040 - val_accuracy: 0.3600\n",
            "Epoch 21/50\n",
            "70/70 [==============================] - 8s 119ms/step - loss: 1.8016 - accuracy: 0.4014 - val_loss: 1.8810 - val_accuracy: 0.4300\n",
            "Epoch 22/50\n",
            "70/70 [==============================] - 8s 119ms/step - loss: 1.8106 - accuracy: 0.3986 - val_loss: 1.8869 - val_accuracy: 0.4000\n",
            "Epoch 23/50\n",
            "70/70 [==============================] - 8s 119ms/step - loss: 1.7653 - accuracy: 0.4086 - val_loss: 1.8819 - val_accuracy: 0.3500\n",
            "Epoch 24/50\n",
            "70/70 [==============================] - 8s 118ms/step - loss: 1.7700 - accuracy: 0.3914 - val_loss: 1.8960 - val_accuracy: 0.3900\n",
            "Epoch 25/50\n",
            "70/70 [==============================] - 8s 119ms/step - loss: 1.7669 - accuracy: 0.4029 - val_loss: 1.8604 - val_accuracy: 0.4500\n",
            "Epoch 26/50\n",
            "70/70 [==============================] - 8s 118ms/step - loss: 1.6967 - accuracy: 0.4500 - val_loss: 1.8916 - val_accuracy: 0.3500\n",
            "Epoch 27/50\n",
            "70/70 [==============================] - 8s 119ms/step - loss: 1.6856 - accuracy: 0.4629 - val_loss: 1.8760 - val_accuracy: 0.3700\n",
            "Epoch 28/50\n",
            "70/70 [==============================] - 8s 118ms/step - loss: 1.6618 - accuracy: 0.4643 - val_loss: 1.8511 - val_accuracy: 0.4200\n",
            "Epoch 29/50\n",
            "70/70 [==============================] - 8s 119ms/step - loss: 1.6251 - accuracy: 0.4800 - val_loss: 1.8344 - val_accuracy: 0.4000\n",
            "Epoch 30/50\n",
            "70/70 [==============================] - 8s 117ms/step - loss: 1.6335 - accuracy: 0.4586 - val_loss: 1.8309 - val_accuracy: 0.3900\n",
            "Epoch 31/50\n",
            "70/70 [==============================] - 8s 118ms/step - loss: 1.6228 - accuracy: 0.4600 - val_loss: 1.8146 - val_accuracy: 0.3700\n",
            "Epoch 32/50\n",
            "70/70 [==============================] - 8s 118ms/step - loss: 1.5649 - accuracy: 0.4814 - val_loss: 1.8193 - val_accuracy: 0.3900\n",
            "Epoch 33/50\n",
            "70/70 [==============================] - 8s 119ms/step - loss: 1.5631 - accuracy: 0.4957 - val_loss: 1.8007 - val_accuracy: 0.3900\n",
            "Epoch 34/50\n",
            "70/70 [==============================] - 8s 119ms/step - loss: 1.5520 - accuracy: 0.4743 - val_loss: 1.8227 - val_accuracy: 0.3900\n",
            "Epoch 35/50\n",
            "70/70 [==============================] - 8s 118ms/step - loss: 1.5222 - accuracy: 0.5000 - val_loss: 1.8646 - val_accuracy: 0.3800\n",
            "Epoch 36/50\n",
            "70/70 [==============================] - 8s 118ms/step - loss: 1.5174 - accuracy: 0.5157 - val_loss: 1.8176 - val_accuracy: 0.3800\n",
            "Epoch 37/50\n",
            "70/70 [==============================] - 8s 119ms/step - loss: 1.5019 - accuracy: 0.4986 - val_loss: 1.8138 - val_accuracy: 0.4100\n",
            "Epoch 38/50\n",
            "70/70 [==============================] - 8s 118ms/step - loss: 1.4912 - accuracy: 0.5257 - val_loss: 1.7943 - val_accuracy: 0.3800\n",
            "Epoch 39/50\n",
            "70/70 [==============================] - 8s 119ms/step - loss: 1.4561 - accuracy: 0.5514 - val_loss: 1.7436 - val_accuracy: 0.3800\n",
            "Epoch 40/50\n",
            "70/70 [==============================] - 8s 119ms/step - loss: 1.4891 - accuracy: 0.4957 - val_loss: 1.7538 - val_accuracy: 0.3900\n",
            "Epoch 41/50\n",
            "70/70 [==============================] - 8s 119ms/step - loss: 1.4079 - accuracy: 0.5529 - val_loss: 1.8012 - val_accuracy: 0.3800\n",
            "Epoch 42/50\n",
            "70/70 [==============================] - 8s 118ms/step - loss: 1.4102 - accuracy: 0.5429 - val_loss: 1.8091 - val_accuracy: 0.4100\n",
            "Epoch 43/50\n",
            "70/70 [==============================] - 8s 119ms/step - loss: 1.3667 - accuracy: 0.5614 - val_loss: 1.6958 - val_accuracy: 0.3800\n",
            "Epoch 44/50\n",
            "70/70 [==============================] - 8s 119ms/step - loss: 1.3940 - accuracy: 0.5357 - val_loss: 1.7243 - val_accuracy: 0.3900\n",
            "Epoch 45/50\n",
            "70/70 [==============================] - 8s 118ms/step - loss: 1.3545 - accuracy: 0.5657 - val_loss: 1.7357 - val_accuracy: 0.4000\n",
            "Epoch 46/50\n",
            "70/70 [==============================] - 8s 119ms/step - loss: 1.3588 - accuracy: 0.5686 - val_loss: 1.7524 - val_accuracy: 0.3900\n",
            "Epoch 47/50\n",
            "70/70 [==============================] - 8s 120ms/step - loss: 1.3070 - accuracy: 0.5957 - val_loss: 1.7617 - val_accuracy: 0.3700\n",
            "Epoch 48/50\n",
            "70/70 [==============================] - 8s 119ms/step - loss: 1.2851 - accuracy: 0.5929 - val_loss: 1.7560 - val_accuracy: 0.3700\n",
            "Epoch 49/50\n",
            "70/70 [==============================] - 8s 118ms/step - loss: 1.2777 - accuracy: 0.6086 - val_loss: 1.7217 - val_accuracy: 0.3800\n",
            "Epoch 50/50\n",
            "70/70 [==============================] - 8s 118ms/step - loss: 1.2516 - accuracy: 0.5914 - val_loss: 1.7521 - val_accuracy: 0.3900\n",
            "20/20 [==============================] - 1s 54ms/step - loss: 1.8322 - accuracy: 0.3400\n",
            "Test loss:  1.8321548700332642\n",
            "Test accuracy:  0.3400000035762787\n"
          ]
        },
        {
          "output_type": "display_data",
          "data": {
            "image/png": "[encoded data removed]",
            "text/plain": [
              "<Figure size 432x288 with 1 Axes>"
            ]
          },
          "metadata": {
            "needs_background": "light"
          }
        },
        {
          "output_type": "display_data",
          "data": {
            "image/png": "[encoded data removed]",
            "text/plain": [
              "<Figure size 432x288 with 1 Axes>"
            ]
          },
          "metadata": {
            "needs_background": "light"
          }
        },
        {
          "output_type": "stream",
          "name": "stdout",
          "text": [
            "20/20 [==============================] - 1s 49ms/step\n"
          ]
        },
        {
          "output_type": "display_data",
          "data": {
            "image/png": "[encoded data removed]",
            "text/plain": [
              "<Figure size 432x288 with 2 Axes>"
            ]
          },
          "metadata": {
            "needs_background": "light"
          }
        }
      ]
    },
    {
      "cell_type": "code",
      "metadata": {
        "colab": {
          "base_uri": "https://localhost:8080/"
        },
        "id": "lAAJHmjFILRA",
        "outputId": "7d2d8934-cdc1-40c6-ef3f-cf2c97e4d823"
      },
      "source": [
        "(6+13+2+1+18+18+10)/200\n"
      ],
      "execution_count": null,
      "outputs": [
        {
          "output_type": "execute_result",
          "data": {
            "text/plain": [
              "0.34"
            ]
          },
          "metadata": {},
          "execution_count": 9
        }
      ]
    },
    {
      "cell_type": "markdown",
      "metadata": {
        "id": "wFwAJFjh_rjb"
      },
      "source": [
        "#TQDM Mode\n"
      ]
    },
    {
      "cell_type": "code",
      "metadata": {
        "colab": {
          "base_uri": "https://localhost:8080/",
          "height": 105
        },
        "id": "Y-Uor6A2_wUP",
        "outputId": "33ad6a87-bfd0-4911-fbf8-9e42abae3e55"
      },
      "source": [
        "import patoolib\n",
        "patoolib.extract_archive(\"/content/drive/MyDrive/images_cqt_mel_mfcc.rar\", outdir=\"/content\")"
      ],
      "execution_count": 3,
      "outputs": [
        {
          "output_type": "stream",
          "name": "stdout",
          "text": [
            "patool: Extracting /content/drive/MyDrive/images_cqt_mel_mfcc.rar ...\n",
            "patool: running /usr/bin/unrar x -- /content/drive/MyDrive/images_cqt_mel_mfcc.rar\n",
            "patool:     with cwd='/content'\n",
            "patool: ... /content/drive/MyDrive/images_cqt_mel_mfcc.rar extracted to `/content'.\n"
          ]
        },
        {
          "output_type": "execute_result",
          "data": {
            "application/vnd.google.colaboratory.intrinsic+json": {
              "type": "string"
            },
            "text/plain": [
              "'/content'"
            ]
          },
          "metadata": {},
          "execution_count": 3
        }
      ]
    },
    {
      "cell_type": "code",
      "metadata": {
        "id": "oX_FwBoo_-oy"
      },
      "source": [
        "\n",
        "\"\"\"\n",
        "Authors : Rayane KADEM\n",
        "In This program we use transfer learning with a pretrained vgg16model CNN model. We set the last 4\n",
        "layers of the convolutional block to be re-trained, and we add 3 fully connected layers for the \n",
        "classifciation block. Vgg16 was trained previously on the well known ImageNet dataset. \n",
        "The presented architecture is inspired from a work of transfer learning for the task of writer \n",
        "identification with handwritten documents and yielded very promessing results. Which led us to test it\n",
        "on the matter at hand.\n",
        "\"\"\"\n",
        "\n",
        "# Importing the required libraries\n",
        "import tensorflow as tf\n",
        "import numpy as np\n",
        "from tensorflow.keras.models import Model\n",
        "from sklearn.metrics import confusion_matrix\n",
        "import matplotlib.pyplot as plt\n",
        "import itertools\n",
        "import keras\n",
        "from keras.layers import Flatten, Dense, Dropout, Conv2D, Activation ,MaxPooling2D, Flatten\n",
        "from tensorflow.keras.models import Sequential\n",
        "from tensorflow.keras.applications.vgg16 import VGG16\n",
        "from keras.callbacks import EarlyStopping\n",
        "from fetch_multi_spec_dataset import prep_data_images\n"
      ],
      "execution_count": 3,
      "outputs": []
    },
    {
      "cell_type": "code",
      "metadata": {
        "colab": {
          "base_uri": "https://localhost:8080/"
        },
        "id": "56qq0FYKAUGj",
        "outputId": "b1144709-bcc1-430a-84ff-51cb35836023"
      },
      "source": [
        "data = prep_data_images()\n",
        "#data.prep_data(\"/content/mfcc\",(224,124))\n",
        "data.prep_data(\"/content/data\",None,\"cqt\",\"mfcc\",\"melspectrogram\")"
      ],
      "execution_count": 4,
      "outputs": [
        {
          "output_type": "stream",
          "name": "stderr",
          "text": [
            "\r  0%|          | 0/10 [00:00<?, ?it/s]"
          ]
        },
        {
          "output_type": "stream",
          "name": "stdout",
          "text": [
            "country\n"
          ]
        },
        {
          "output_type": "stream",
          "name": "stderr",
          "text": [
            "\n",
            "  0%|          | 0/100 [00:00<?, ?it/s]\u001b[A\n",
            "  8%|▊         | 8/100 [00:00<00:01, 72.73it/s]\u001b[A\n",
            " 16%|█▌        | 16/100 [00:00<00:01, 73.30it/s]\u001b[A\n",
            " 24%|██▍       | 24/100 [00:00<00:01, 74.45it/s]\u001b[A\n",
            " 32%|███▏      | 32/100 [00:00<00:00, 74.83it/s]\u001b[A\n",
            " 40%|████      | 40/100 [00:00<00:00, 71.07it/s]\u001b[A\n",
            " 48%|████▊     | 48/100 [00:00<00:00, 71.06it/s]\u001b[A\n",
            " 56%|█████▌    | 56/100 [00:00<00:00, 72.06it/s]\u001b[A\n",
            " 64%|██████▍   | 64/100 [00:00<00:00, 71.99it/s]\u001b[A\n",
            " 72%|███████▏  | 72/100 [00:01<00:00, 71.33it/s]\u001b[A\n",
            " 80%|████████  | 80/100 [00:01<00:00, 70.86it/s]\u001b[A\n",
            " 88%|████████▊ | 88/100 [00:01<00:00, 70.39it/s]\u001b[A\n",
            "100%|██████████| 100/100 [00:01<00:00, 71.33it/s]\n",
            " 10%|█         | 1/10 [00:01<00:12,  1.41s/it]"
          ]
        },
        {
          "output_type": "stream",
          "name": "stdout",
          "text": [
            "disco\n"
          ]
        },
        {
          "output_type": "stream",
          "name": "stderr",
          "text": [
            "\n",
            "  0%|          | 0/100 [00:00<?, ?it/s]\u001b[A\n",
            "  7%|▋         | 7/100 [00:00<00:01, 67.25it/s]\u001b[A\n",
            " 14%|█▍        | 14/100 [00:00<00:01, 66.56it/s]\u001b[A\n",
            " 21%|██        | 21/100 [00:00<00:01, 66.75it/s]\u001b[A\n",
            " 28%|██▊       | 28/100 [00:00<00:01, 66.59it/s]\u001b[A\n",
            " 35%|███▌      | 35/100 [00:00<00:00, 67.46it/s]\u001b[A\n",
            " 42%|████▏     | 42/100 [00:00<00:00, 66.70it/s]\u001b[A\n",
            " 49%|████▉     | 49/100 [00:00<00:00, 67.55it/s]\u001b[A\n",
            " 56%|█████▌    | 56/100 [00:00<00:00, 68.02it/s]\u001b[A\n",
            " 64%|██████▍   | 64/100 [00:00<00:00, 69.20it/s]\u001b[A\n",
            " 71%|███████   | 71/100 [00:01<00:00, 68.84it/s]\u001b[A\n",
            " 79%|███████▉  | 79/100 [00:01<00:00, 69.68it/s]\u001b[A\n",
            " 86%|████████▌ | 86/100 [00:01<00:00, 69.03it/s]\u001b[A\n",
            " 93%|█████████▎| 93/100 [00:01<00:00, 68.50it/s]\u001b[A\n",
            "100%|██████████| 100/100 [00:01<00:00, 67.83it/s]\n",
            " 20%|██        | 2/10 [00:02<00:11,  1.46s/it]"
          ]
        },
        {
          "output_type": "stream",
          "name": "stdout",
          "text": [
            "hiphop\n"
          ]
        },
        {
          "output_type": "stream",
          "name": "stderr",
          "text": [
            "\n",
            "  0%|          | 0/100 [00:00<?, ?it/s]\u001b[A\n",
            "  7%|▋         | 7/100 [00:00<00:01, 69.99it/s]\u001b[A\n",
            " 15%|█▌        | 15/100 [00:00<00:01, 72.66it/s]\u001b[A\n",
            " 23%|██▎       | 23/100 [00:00<00:01, 71.60it/s]\u001b[A\n",
            " 31%|███       | 31/100 [00:00<00:00, 71.00it/s]\u001b[A\n",
            " 39%|███▉      | 39/100 [00:00<00:00, 70.91it/s]\u001b[A\n",
            " 47%|████▋     | 47/100 [00:00<00:00, 71.54it/s]\u001b[A\n",
            " 55%|█████▌    | 55/100 [00:00<00:00, 71.83it/s]\u001b[A\n",
            " 63%|██████▎   | 63/100 [00:00<00:00, 70.32it/s]\u001b[A\n",
            " 71%|███████   | 71/100 [00:01<00:00, 69.73it/s]\u001b[A\n",
            " 78%|███████▊  | 78/100 [00:01<00:00, 67.76it/s]\u001b[A\n",
            " 85%|████████▌ | 85/100 [00:01<00:00, 68.04it/s]\u001b[A\n",
            " 92%|█████████▏| 92/100 [00:01<00:00, 67.24it/s]\u001b[A\n",
            "100%|██████████| 100/100 [00:01<00:00, 68.88it/s]\n",
            " 30%|███       | 3/10 [00:04<00:10,  1.47s/it]"
          ]
        },
        {
          "output_type": "stream",
          "name": "stdout",
          "text": [
            "blues\n"
          ]
        },
        {
          "output_type": "stream",
          "name": "stderr",
          "text": [
            "\n",
            "  0%|          | 0/100 [00:00<?, ?it/s]\u001b[A\n",
            "  7%|▋         | 7/100 [00:00<00:01, 68.23it/s]\u001b[A\n",
            " 14%|█▍        | 14/100 [00:00<00:01, 67.54it/s]\u001b[A\n",
            " 21%|██        | 21/100 [00:00<00:01, 67.76it/s]\u001b[A\n",
            " 28%|██▊       | 28/100 [00:00<00:01, 67.18it/s]\u001b[A\n",
            " 35%|███▌      | 35/100 [00:00<00:00, 66.38it/s]\u001b[A\n",
            " 42%|████▏     | 42/100 [00:00<00:00, 64.43it/s]\u001b[A\n",
            " 50%|█████     | 50/100 [00:00<00:00, 67.29it/s]\u001b[A\n",
            " 57%|█████▋    | 57/100 [00:00<00:00, 67.41it/s]\u001b[A\n",
            " 65%|██████▌   | 65/100 [00:00<00:00, 69.47it/s]\u001b[A\n",
            " 73%|███████▎  | 73/100 [00:01<00:00, 70.11it/s]\u001b[A\n",
            " 81%|████████  | 81/100 [00:01<00:00, 68.93it/s]\u001b[A\n",
            " 89%|████████▉ | 89/100 [00:01<00:00, 69.25it/s]\u001b[A\n",
            "100%|██████████| 100/100 [00:01<00:00, 67.78it/s]\n",
            " 40%|████      | 4/10 [00:05<00:08,  1.48s/it]"
          ]
        },
        {
          "output_type": "stream",
          "name": "stdout",
          "text": [
            "classical\n"
          ]
        },
        {
          "output_type": "stream",
          "name": "stderr",
          "text": [
            "\n",
            "  0%|          | 0/100 [00:00<?, ?it/s]\u001b[A\n",
            "  8%|▊         | 8/100 [00:00<00:01, 75.67it/s]\u001b[A\n",
            " 16%|█▌        | 16/100 [00:00<00:01, 71.74it/s]\u001b[A\n",
            " 24%|██▍       | 24/100 [00:00<00:01, 69.18it/s]\u001b[A\n",
            " 31%|███       | 31/100 [00:00<00:01, 68.36it/s]\u001b[A\n",
            " 38%|███▊      | 38/100 [00:00<00:00, 66.90it/s]\u001b[A\n",
            " 45%|████▌     | 45/100 [00:00<00:00, 65.94it/s]\u001b[A\n",
            " 52%|█████▏    | 52/100 [00:00<00:00, 67.10it/s]\u001b[A\n",
            " 59%|█████▉    | 59/100 [00:00<00:00, 67.83it/s]\u001b[A\n",
            " 66%|██████▌   | 66/100 [00:00<00:00, 67.16it/s]\u001b[A\n",
            " 73%|███████▎  | 73/100 [00:01<00:00, 67.65it/s]\u001b[A\n",
            " 80%|████████  | 80/100 [00:01<00:00, 66.66it/s]\u001b[A\n",
            " 87%|████████▋ | 87/100 [00:01<00:00, 65.96it/s]\u001b[A\n",
            "100%|██████████| 100/100 [00:01<00:00, 67.84it/s]\n",
            " 50%|█████     | 5/10 [00:07<00:07,  1.48s/it]"
          ]
        },
        {
          "output_type": "stream",
          "name": "stdout",
          "text": [
            "pop\n"
          ]
        },
        {
          "output_type": "stream",
          "name": "stderr",
          "text": [
            "\n",
            "  0%|          | 0/100 [00:00<?, ?it/s]\u001b[A\n",
            "  8%|▊         | 8/100 [00:00<00:01, 74.01it/s]\u001b[A\n",
            " 16%|█▌        | 16/100 [00:00<00:01, 73.39it/s]\u001b[A\n",
            " 24%|██▍       | 24/100 [00:00<00:01, 70.11it/s]\u001b[A\n",
            " 32%|███▏      | 32/100 [00:00<00:00, 68.60it/s]\u001b[A\n",
            " 40%|████      | 40/100 [00:00<00:00, 69.71it/s]\u001b[A\n",
            " 47%|████▋     | 47/100 [00:00<00:00, 69.77it/s]\u001b[A\n",
            " 54%|█████▍    | 54/100 [00:00<00:00, 69.36it/s]\u001b[A\n",
            " 62%|██████▏   | 62/100 [00:00<00:00, 70.76it/s]\u001b[A\n",
            " 70%|███████   | 70/100 [00:00<00:00, 71.27it/s]\u001b[A\n",
            " 78%|███████▊  | 78/100 [00:01<00:00, 70.81it/s]\u001b[A\n",
            " 86%|████████▌ | 86/100 [00:01<00:00, 70.16it/s]\u001b[A\n",
            "100%|██████████| 100/100 [00:01<00:00, 70.17it/s]\n",
            " 60%|██████    | 6/10 [00:08<00:05,  1.47s/it]"
          ]
        },
        {
          "output_type": "stream",
          "name": "stdout",
          "text": [
            "rock\n"
          ]
        },
        {
          "output_type": "stream",
          "name": "stderr",
          "text": [
            "\n",
            "  0%|          | 0/100 [00:00<?, ?it/s]\u001b[A\n",
            "  8%|▊         | 8/100 [00:00<00:01, 78.46it/s]\u001b[A\n",
            " 16%|█▌        | 16/100 [00:00<00:01, 73.38it/s]\u001b[A\n",
            " 24%|██▍       | 24/100 [00:00<00:01, 71.34it/s]\u001b[A\n",
            " 32%|███▏      | 32/100 [00:00<00:00, 71.49it/s]\u001b[A\n",
            " 40%|████      | 40/100 [00:00<00:00, 70.92it/s]\u001b[A\n",
            " 48%|████▊     | 48/100 [00:00<00:00, 70.36it/s]\u001b[A\n",
            " 56%|█████▌    | 56/100 [00:00<00:00, 70.01it/s]\u001b[A\n",
            " 64%|██████▍   | 64/100 [00:00<00:00, 70.89it/s]\u001b[A\n",
            " 72%|███████▏  | 72/100 [00:01<00:00, 70.72it/s]\u001b[A\n",
            " 80%|████████  | 80/100 [00:01<00:00, 71.09it/s]\u001b[A\n",
            " 88%|████████▊ | 88/100 [00:01<00:00, 71.85it/s]\u001b[A\n",
            "100%|██████████| 100/100 [00:01<00:00, 70.97it/s]\n",
            " 70%|███████   | 7/10 [00:10<00:04,  1.46s/it]"
          ]
        },
        {
          "output_type": "stream",
          "name": "stdout",
          "text": [
            "reggae\n"
          ]
        },
        {
          "output_type": "stream",
          "name": "stderr",
          "text": [
            "\n",
            "  0%|          | 0/100 [00:00<?, ?it/s]\u001b[A\n",
            "  8%|▊         | 8/100 [00:00<00:01, 77.11it/s]\u001b[A\n",
            " 16%|█▌        | 16/100 [00:00<00:01, 71.79it/s]\u001b[A\n",
            " 24%|██▍       | 24/100 [00:00<00:01, 70.97it/s]\u001b[A\n",
            " 32%|███▏      | 32/100 [00:00<00:00, 73.08it/s]\u001b[A\n",
            " 40%|████      | 40/100 [00:00<00:00, 72.81it/s]\u001b[A\n",
            " 48%|████▊     | 48/100 [00:00<00:00, 71.20it/s]\u001b[A\n",
            " 56%|█████▌    | 56/100 [00:00<00:00, 71.18it/s]\u001b[A\n",
            " 64%|██████▍   | 64/100 [00:00<00:00, 69.78it/s]\u001b[A\n",
            " 71%|███████   | 71/100 [00:01<00:00, 69.46it/s]\u001b[A\n",
            " 79%|███████▉  | 79/100 [00:01<00:00, 70.47it/s]\u001b[A\n",
            " 87%|████████▋ | 87/100 [00:01<00:00, 71.48it/s]\u001b[A\n",
            "100%|██████████| 100/100 [00:01<00:00, 71.06it/s]\n",
            " 80%|████████  | 8/10 [00:11<00:02,  1.45s/it]"
          ]
        },
        {
          "output_type": "stream",
          "name": "stdout",
          "text": [
            "jazz\n"
          ]
        },
        {
          "output_type": "stream",
          "name": "stderr",
          "text": [
            "\n",
            "  0%|          | 0/100 [00:00<?, ?it/s]\u001b[A\n",
            "  8%|▊         | 8/100 [00:00<00:01, 72.28it/s]\u001b[A\n",
            " 16%|█▌        | 16/100 [00:00<00:01, 68.29it/s]\u001b[A\n",
            " 23%|██▎       | 23/100 [00:00<00:01, 68.03it/s]\u001b[A\n",
            " 30%|███       | 30/100 [00:00<00:01, 67.42it/s]\u001b[A\n",
            " 37%|███▋      | 37/100 [00:00<00:00, 64.32it/s]\u001b[A\n",
            " 44%|████▍     | 44/100 [00:00<00:00, 64.98it/s]\u001b[A\n",
            " 51%|█████     | 51/100 [00:00<00:00, 64.69it/s]\u001b[A\n",
            " 58%|█████▊    | 58/100 [00:00<00:00, 63.42it/s]\u001b[A\n",
            " 65%|██████▌   | 65/100 [00:01<00:00, 63.17it/s]\u001b[A\n",
            " 72%|███████▏  | 72/100 [00:01<00:00, 62.86it/s]\u001b[A\n",
            " 79%|███████▉  | 79/100 [00:01<00:00, 63.80it/s]\u001b[A\n",
            " 86%|████████▌ | 86/100 [00:01<00:00, 63.80it/s]\u001b[A\n",
            " 93%|█████████▎| 93/100 [00:01<00:00, 64.41it/s]\u001b[A\n",
            "100%|██████████| 100/100 [00:01<00:00, 64.09it/s]\n",
            " 90%|█████████ | 9/10 [00:13<00:01,  1.49s/it]"
          ]
        },
        {
          "output_type": "stream",
          "name": "stdout",
          "text": [
            "metal\n"
          ]
        },
        {
          "output_type": "stream",
          "name": "stderr",
          "text": [
            "\n",
            "  0%|          | 0/100 [00:00<?, ?it/s]\u001b[A\n",
            "  7%|▋         | 7/100 [00:00<00:01, 68.31it/s]\u001b[A\n",
            " 14%|█▍        | 14/100 [00:00<00:01, 69.01it/s]\u001b[A\n",
            " 21%|██        | 21/100 [00:00<00:01, 67.29it/s]\u001b[A\n",
            " 28%|██▊       | 28/100 [00:00<00:01, 67.87it/s]\u001b[A\n",
            " 35%|███▌      | 35/100 [00:00<00:00, 68.00it/s]\u001b[A\n",
            " 42%|████▏     | 42/100 [00:00<00:00, 68.31it/s]\u001b[A\n",
            " 49%|████▉     | 49/100 [00:00<00:00, 67.63it/s]\u001b[A\n",
            " 56%|█████▌    | 56/100 [00:00<00:00, 68.35it/s]\u001b[A\n",
            " 63%|██████▎   | 63/100 [00:00<00:00, 67.16it/s]\u001b[A\n",
            " 70%|███████   | 70/100 [00:01<00:00, 67.18it/s]\u001b[A\n",
            " 77%|███████▋  | 77/100 [00:01<00:00, 67.36it/s]\u001b[A\n",
            " 84%|████████▍ | 84/100 [00:01<00:00, 66.59it/s]\u001b[A\n",
            " 91%|█████████ | 91/100 [00:01<00:00, 66.52it/s]\u001b[A\n",
            "100%|██████████| 100/100 [00:01<00:00, 67.11it/s]\n",
            "100%|██████████| 10/10 [00:14<00:00,  1.48s/it]\n"
          ]
        }
      ]
    },
    {
      "cell_type": "code",
      "metadata": {
        "id": "R2DS6izKU8Pl"
      },
      "source": [
        "width,height,dimension = data.Xtest[0].shape"
      ],
      "execution_count": 5,
      "outputs": []
    },
    {
      "cell_type": "code",
      "metadata": {
        "colab": {
          "base_uri": "https://localhost:8080/"
        },
        "id": "ITiFgpV9VD0G",
        "outputId": "763cc15e-306b-41fb-dc4c-dbd0de807549"
      },
      "source": [
        "width,height,dimension"
      ],
      "execution_count": 6,
      "outputs": [
        {
          "output_type": "execute_result",
          "data": {
            "text/plain": [
              "(288, 432, 3)"
            ]
          },
          "metadata": {},
          "execution_count": 6
        }
      ]
    },
    {
      "cell_type": "markdown",
      "metadata": {
        "id": "4g76KV8rAuNz"
      },
      "source": [
        "## Transfer learning Vgg16"
      ]
    },
    {
      "cell_type": "code",
      "metadata": {
        "id": "M_CT3LzFAriw"
      },
      "source": [
        "# Defining the black box model\n",
        "class CNNModel:\n",
        "    def __init__(self):\n",
        "        self.model = None\n",
        "        self.model_name = \"transfer_learning_vgg16_model_cqt_mel_mfcc_SGD_without_MLP\"\n",
        "        self.model_path = \"/content/drive/MyDrive/Mymodels_result/\" + self.model_name +\"/\"+ self.model_name + \".h5\"\n",
        "        self.model_weights_path = \"/content/drive/MyDrive/Mymodels_result/\" + self.model_name +\"/\"+  self.model_name + \"_weights.h5\"\n",
        "        self.model_history_path_acc = \"/content/drive/MyDrive/Mymodels_result/\" + self.model_name +\"/\"+ self.model_name + \"_history_acc.png\"\n",
        "        self.model_history_path_loss = \"/content/drive/MyDrive/Mymodels_result/\" + self.model_name +\"/\"+ self.model_name + \"_history_loss.png\"\n",
        "        \n",
        "        self.model_history = None\n",
        "    \n",
        "    def build_model(self):\n",
        "        \"\"\"\n",
        "        This function is used to create the black box model :\n",
        "        \"\"\"\n",
        "        # Defining the input layer\n",
        "        \n",
        "        model = Sequential()\n",
        "\n",
        "        vggmodel=VGG16(include_top=False, weights='imagenet', input_tensor=None, input_shape=(width,height,dimension), pooling=None)\n",
        "        \n",
        "        # Take all weights of imagenet dataset except for last four layers\n",
        "        for layer in vggmodel.layers[:-8]: \n",
        "            layer.trainable = False \n",
        "\n",
        "        x = vggmodel.output\n",
        "        x = Flatten()(x)\n",
        "        \n",
        "        x = Dense(512, activation=\"relu\")(x)\n",
        "        x = Dropout(0.2)(x)\n",
        "        x = Dense(128, activation=\"elu\")(x)\n",
        "        \n",
        "        predictions = Dense(10, activation=\"softmax\")(x)\n",
        "\n",
        "        # creating the final model \n",
        "        model = Model( vggmodel.input, predictions)\n",
        "\n",
        "        # Compiling the model\n",
        "        self.model = model\n",
        "        \n",
        "        self.model.compile(optimizer=tf.keras.optimizers.SGD(learning_rate=0.001), loss = \"categorical_crossentropy\", metrics=['accuracy'])\n",
        "        \n",
        "    def train_model(self,data, epochs=10):\n",
        "        \"\"\"\n",
        "        This function is used to train the black box model :\n",
        "        \"\"\"\n",
        "        # Training the model\n",
        "        self.model_history = self.model.fit(data.Xtrain,data.ytrain, epochs=epochs,validation_data=(data.Xval,data.yval), shuffle=True)\n",
        "        \n",
        "    def save_model(self):\n",
        "        \"\"\"\n",
        "        This function is used to save the black box model :\n",
        "        \"\"\"\n",
        "        # Save the model\n",
        "        self.model.save(self.model_path)\n",
        "        \n",
        "    def load_model(self):\n",
        "        \"\"\"\n",
        "        This function is used to load the black box model :\n",
        "        \"\"\"\n",
        "        # Load the model\n",
        "        self.model = tf.keras.models.load_model(self.model_path)\n",
        "        \n",
        "    def save_model_weights(self):\n",
        "        \"\"\"\n",
        "        This function is used to save the weights of the black box model :\n",
        "        \"\"\"\n",
        "        # Save the weights\n",
        "        self.model.save_weights(self.model_weights_path)\n",
        "    \n",
        "\n",
        "    def evaluate_model(self, Xtest,ytest):\n",
        "        \"\"\"\n",
        "        This function is used to evaluate the black box model :\n",
        "        \"\"\"\n",
        "        # Evaluate the model\n",
        "        test_loss, test_acc = self.model.evaluate(Xtest,ytest)\n",
        "        print(\"Test loss: \", test_loss)\n",
        "        print(\"Test accuracy: \", test_acc)\n",
        "    \n",
        "    def plot_model_history(self):\n",
        "        \"\"\"\n",
        "        This function is used to plot the model history :\n",
        "        \"\"\"\n",
        "        #define variables\n",
        "        loss = self.model_history.history['loss']\n",
        "        val_loss = self.model_history.history['val_loss']\n",
        "        accuracy = self.model_history.history['accuracy']\n",
        "        val_accuracy = self.model_history.history['val_accuracy']\n",
        "        epochs = range(1, len(loss) + 1)\n",
        "        # Plot the model history\n",
        "        plt.figure()\n",
        "        plt.plot(epochs, accuracy, label='Training accuracy')\n",
        "        plt.plot(epochs, val_accuracy, label='Validation accuracy')\n",
        "        plt.title('Training and validation accuracy')\n",
        "        plt.legend()\n",
        "        plt.savefig(self.model_history_path_acc)\n",
        "        plt.show()\n",
        "\n",
        "        plt.figure()\n",
        "        plt.plot(epochs, loss, label='Training loss')\n",
        "        plt.plot(epochs, val_loss, label='Validation loss')\n",
        "        plt.title('Training and validation loss')\n",
        "        plt.legend()\n",
        "        plt.savefig(self.model_history_path_loss)\n",
        "        plt.show()\n",
        "        \n",
        "    def predict_class(self, spectrogram_image):\n",
        "        \"\"\"\n",
        "        This function is used to predict the class of the spectrogram image :\n",
        "        \"\"\"\n",
        "        # Predict the class\n",
        "        prediction = self.model.predict(spectrogram_image)\n",
        "        return np.argmax(prediction)\n",
        "\n",
        "    def predict_classes(self, spectrogram_images):\n",
        "        \"\"\"\n",
        "        This function is used to predict the classes of the spectrogram images :\n",
        "        \"\"\"\n",
        "        # Predict the classes\n",
        "        predictions = self.model.predict(spectrogram_images)\n",
        "        return np.argmax(predictions, axis=1)\n",
        "\n",
        "    \n",
        "    def plot_confusion_matrix(self, Xtest,ytest, classes=None):\n",
        "        \"\"\"\n",
        "        This function is used to plot the confusion matrix :\n",
        "        \"\"\"\n",
        "        # Predict the classes\n",
        "        predictions = self.predict_classes(Xtest)\n",
        "        # Plot the confusion matrix\n",
        "        y_parse = np.argmax(ytest, axis=1)\n",
        "        cm = confusion_matrix(y_parse, predictions)\n",
        "        #if classes is None:\n",
        "        #    classes = test_generator.class_indices.keys()\n",
        "        plt.figure()\n",
        "        plt.imshow(cm, interpolation='nearest', cmap=plt.cm.Blues)\n",
        "        plt.title(\"Confusion matrix\")\n",
        "        plt.colorbar()\n",
        "        tick_marks = np.arange(10)\n",
        "        plt.xticks(tick_marks,classes,  rotation=45)\n",
        "        plt.yticks(tick_marks,classes)\n",
        "        fmt = 'd'\n",
        "        thresh = cm.max() / 2.\n",
        "        for i, j in itertools.product(range(cm.shape[0]), range(cm.shape[1])):\n",
        "            plt.text(j, i, format(cm[i, j], fmt), horizontalalignment=\"center\", color=\"white\" if cm[i, j] > thresh else \"black\")\n",
        "        plt.ylabel('True label')\n",
        "        plt.xlabel('Predicted label')\n",
        "        plt.tight_layout()\n",
        "        plt.savefig(\"/content/drive/MyDrive/Mymodels_result/\"+ self.model_name +\"/\"+\"confusion_matrix.png\")\n",
        "        plt.show()\n",
        "        acc = np.diag(cm).sum() /cm.sum()\n",
        "        print(\"acc\",acc)"
      ],
      "execution_count": 26,
      "outputs": []
    },
    {
      "cell_type": "code",
      "metadata": {
        "colab": {
          "base_uri": "https://localhost:8080/",
          "height": 1000
        },
        "id": "rPPw8Y1TugAM",
        "outputId": "cf2353b9-5727-4a17-c2e1-2405e5368c02"
      },
      "source": [
        "if __name__ == \"__main__\":\n",
        "      # Create the  model\n",
        "  model = CNNModel()\n",
        "      \n",
        "      # Build the  model\n",
        "  model.build_model()\n",
        "      # Train the  model\n",
        "  model.train_model(data, epochs=40)\n",
        "      \n",
        "      # Save the  model\n",
        "  model.save_model()\n",
        "\n",
        "      # Evaluate  model\n",
        "  model.evaluate_model(data.Xtest,data.ytest)\n",
        "\n",
        "      # Plot the model history\n",
        "  model.plot_model_history()\n",
        "      \n",
        "      # Plot the confusion matrix\n",
        "  model.plot_confusion_matrix(data.Xtest,data.ytest)\n"
      ],
      "execution_count": 27,
      "outputs": [
        {
          "output_type": "stream",
          "name": "stdout",
          "text": [
            "Epoch 1/40\n",
            "22/22 [==============================] - 22s 990ms/step - loss: 2.5219 - accuracy: 0.1414 - val_loss: 2.1450 - val_accuracy: 0.2900\n",
            "Epoch 2/40\n",
            "22/22 [==============================] - 21s 977ms/step - loss: 2.0160 - accuracy: 0.2943 - val_loss: 2.2201 - val_accuracy: 0.3000\n",
            "Epoch 3/40\n",
            "22/22 [==============================] - 21s 982ms/step - loss: 1.7848 - accuracy: 0.3743 - val_loss: 2.3355 - val_accuracy: 0.2800\n",
            "Epoch 4/40\n",
            "22/22 [==============================] - 22s 982ms/step - loss: 1.4961 - accuracy: 0.4671 - val_loss: 1.4613 - val_accuracy: 0.4500\n",
            "Epoch 5/40\n",
            "22/22 [==============================] - 22s 982ms/step - loss: 1.3540 - accuracy: 0.5057 - val_loss: 1.5637 - val_accuracy: 0.4200\n",
            "Epoch 6/40\n",
            "22/22 [==============================] - 21s 979ms/step - loss: 1.1471 - accuracy: 0.6014 - val_loss: 1.4811 - val_accuracy: 0.4600\n",
            "Epoch 7/40\n",
            "22/22 [==============================] - 22s 982ms/step - loss: 1.0405 - accuracy: 0.6300 - val_loss: 1.6862 - val_accuracy: 0.3900\n",
            "Epoch 8/40\n",
            "22/22 [==============================] - 22s 983ms/step - loss: 0.9517 - accuracy: 0.6886 - val_loss: 1.3709 - val_accuracy: 0.5600\n",
            "Epoch 9/40\n",
            "22/22 [==============================] - 22s 983ms/step - loss: 0.8003 - accuracy: 0.7400 - val_loss: 1.2427 - val_accuracy: 0.5200\n",
            "Epoch 10/40\n",
            "22/22 [==============================] - 22s 984ms/step - loss: 0.6799 - accuracy: 0.7843 - val_loss: 1.2716 - val_accuracy: 0.5600\n",
            "Epoch 11/40\n",
            "22/22 [==============================] - 21s 981ms/step - loss: 0.7525 - accuracy: 0.7400 - val_loss: 1.2406 - val_accuracy: 0.5800\n",
            "Epoch 12/40\n",
            "22/22 [==============================] - 22s 982ms/step - loss: 0.5401 - accuracy: 0.8300 - val_loss: 1.2200 - val_accuracy: 0.6000\n",
            "Epoch 13/40\n",
            "22/22 [==============================] - 22s 983ms/step - loss: 0.5233 - accuracy: 0.8214 - val_loss: 1.5700 - val_accuracy: 0.5500\n",
            "Epoch 14/40\n",
            "22/22 [==============================] - 22s 983ms/step - loss: 0.4400 - accuracy: 0.8743 - val_loss: 1.2898 - val_accuracy: 0.6400\n",
            "Epoch 15/40\n",
            "22/22 [==============================] - 21s 982ms/step - loss: 0.3685 - accuracy: 0.8971 - val_loss: 1.2152 - val_accuracy: 0.6000\n",
            "Epoch 16/40\n",
            "22/22 [==============================] - 22s 983ms/step - loss: 0.2797 - accuracy: 0.9357 - val_loss: 1.3152 - val_accuracy: 0.6000\n",
            "Epoch 17/40\n",
            "22/22 [==============================] - 21s 982ms/step - loss: 0.2205 - accuracy: 0.9429 - val_loss: 1.2558 - val_accuracy: 0.6500\n",
            "Epoch 18/40\n",
            "22/22 [==============================] - 21s 981ms/step - loss: 0.2696 - accuracy: 0.9386 - val_loss: 1.2604 - val_accuracy: 0.6400\n",
            "Epoch 19/40\n",
            "22/22 [==============================] - 22s 982ms/step - loss: 0.1396 - accuracy: 0.9714 - val_loss: 1.3453 - val_accuracy: 0.6000\n",
            "Epoch 20/40\n",
            "22/22 [==============================] - 22s 983ms/step - loss: 0.0970 - accuracy: 0.9886 - val_loss: 1.3836 - val_accuracy: 0.6800\n",
            "Epoch 21/40\n",
            "22/22 [==============================] - 22s 984ms/step - loss: 0.2264 - accuracy: 0.9371 - val_loss: 1.1968 - val_accuracy: 0.6400\n",
            "Epoch 22/40\n",
            "22/22 [==============================] - 22s 984ms/step - loss: 0.0676 - accuracy: 0.9943 - val_loss: 1.3934 - val_accuracy: 0.6400\n",
            "Epoch 23/40\n",
            "22/22 [==============================] - 22s 985ms/step - loss: 0.0483 - accuracy: 0.9957 - val_loss: 1.3869 - val_accuracy: 0.6800\n",
            "Epoch 24/40\n",
            "21/22 [===========================>..] - ETA: 0s - loss: 0.0311 - accuracy: 1.0000"
          ]
        },
        {
          "output_type": "error",
          "ename": "KeyboardInterrupt",
          "evalue": "ignored",
          "traceback": [
            "\u001b[0;31m---------------------------------------------------------------------------\u001b[0m",
            "\u001b[0;31mKeyboardInterrupt\u001b[0m                         Traceback (most recent call last)",
            "\u001b[0;32m<ipython-input-27-21c84e754968>\u001b[0m in \u001b[0;36m<module>\u001b[0;34m()\u001b[0m\n\u001b[1;32m      6\u001b[0m   \u001b[0mmodel\u001b[0m\u001b[0;34m.\u001b[0m\u001b[0mbuild_model\u001b[0m\u001b[0;34m(\u001b[0m\u001b[0;34m)\u001b[0m\u001b[0;34m\u001b[0m\u001b[0;34m\u001b[0m\u001b[0m\n\u001b[1;32m      7\u001b[0m       \u001b[0;31m# Train the  model\u001b[0m\u001b[0;34m\u001b[0m\u001b[0;34m\u001b[0m\u001b[0;34m\u001b[0m\u001b[0m\n\u001b[0;32m----> 8\u001b[0;31m   \u001b[0mmodel\u001b[0m\u001b[0;34m.\u001b[0m\u001b[0mtrain_model\u001b[0m\u001b[0;34m(\u001b[0m\u001b[0mdata\u001b[0m\u001b[0;34m,\u001b[0m \u001b[0mepochs\u001b[0m\u001b[0;34m=\u001b[0m\u001b[0;36m40\u001b[0m\u001b[0;34m)\u001b[0m\u001b[0;34m\u001b[0m\u001b[0;34m\u001b[0m\u001b[0m\n\u001b[0m\u001b[1;32m      9\u001b[0m \u001b[0;34m\u001b[0m\u001b[0m\n\u001b[1;32m     10\u001b[0m       \u001b[0;31m# Save the  model\u001b[0m\u001b[0;34m\u001b[0m\u001b[0;34m\u001b[0m\u001b[0;34m\u001b[0m\u001b[0m\n",
            "\u001b[0;32m<ipython-input-26-c4dbac282524>\u001b[0m in \u001b[0;36mtrain_model\u001b[0;34m(self, data, epochs)\u001b[0m\n\u001b[1;32m     47\u001b[0m         \"\"\"\n\u001b[1;32m     48\u001b[0m         \u001b[0;31m# Training the model\u001b[0m\u001b[0;34m\u001b[0m\u001b[0;34m\u001b[0m\u001b[0;34m\u001b[0m\u001b[0m\n\u001b[0;32m---> 49\u001b[0;31m         \u001b[0mself\u001b[0m\u001b[0;34m.\u001b[0m\u001b[0mmodel_history\u001b[0m \u001b[0;34m=\u001b[0m \u001b[0mself\u001b[0m\u001b[0;34m.\u001b[0m\u001b[0mmodel\u001b[0m\u001b[0;34m.\u001b[0m\u001b[0mfit\u001b[0m\u001b[0;34m(\u001b[0m\u001b[0mdata\u001b[0m\u001b[0;34m.\u001b[0m\u001b[0mXtrain\u001b[0m\u001b[0;34m,\u001b[0m\u001b[0mdata\u001b[0m\u001b[0;34m.\u001b[0m\u001b[0mytrain\u001b[0m\u001b[0;34m,\u001b[0m \u001b[0mepochs\u001b[0m\u001b[0;34m=\u001b[0m\u001b[0mepochs\u001b[0m\u001b[0;34m,\u001b[0m\u001b[0mvalidation_data\u001b[0m\u001b[0;34m=\u001b[0m\u001b[0;34m(\u001b[0m\u001b[0mdata\u001b[0m\u001b[0;34m.\u001b[0m\u001b[0mXval\u001b[0m\u001b[0;34m,\u001b[0m\u001b[0mdata\u001b[0m\u001b[0;34m.\u001b[0m\u001b[0myval\u001b[0m\u001b[0;34m)\u001b[0m\u001b[0;34m,\u001b[0m \u001b[0mshuffle\u001b[0m\u001b[0;34m=\u001b[0m\u001b[0;32mTrue\u001b[0m\u001b[0;34m)\u001b[0m\u001b[0;34m\u001b[0m\u001b[0;34m\u001b[0m\u001b[0m\n\u001b[0m\u001b[1;32m     50\u001b[0m \u001b[0;34m\u001b[0m\u001b[0m\n\u001b[1;32m     51\u001b[0m     \u001b[0;32mdef\u001b[0m \u001b[0msave_model\u001b[0m\u001b[0;34m(\u001b[0m\u001b[0mself\u001b[0m\u001b[0;34m)\u001b[0m\u001b[0;34m:\u001b[0m\u001b[0;34m\u001b[0m\u001b[0;34m\u001b[0m\u001b[0m\n",
            "\u001b[0;32m/usr/local/lib/python3.7/dist-packages/keras/utils/traceback_utils.py\u001b[0m in \u001b[0;36merror_handler\u001b[0;34m(*args, **kwargs)\u001b[0m\n\u001b[1;32m     62\u001b[0m     \u001b[0mfiltered_tb\u001b[0m \u001b[0;34m=\u001b[0m \u001b[0;32mNone\u001b[0m\u001b[0;34m\u001b[0m\u001b[0;34m\u001b[0m\u001b[0m\n\u001b[1;32m     63\u001b[0m     \u001b[0;32mtry\u001b[0m\u001b[0;34m:\u001b[0m\u001b[0;34m\u001b[0m\u001b[0;34m\u001b[0m\u001b[0m\n\u001b[0;32m---> 64\u001b[0;31m       \u001b[0;32mreturn\u001b[0m \u001b[0mfn\u001b[0m\u001b[0;34m(\u001b[0m\u001b[0;34m*\u001b[0m\u001b[0margs\u001b[0m\u001b[0;34m,\u001b[0m \u001b[0;34m**\u001b[0m\u001b[0mkwargs\u001b[0m\u001b[0;34m)\u001b[0m\u001b[0;34m\u001b[0m\u001b[0;34m\u001b[0m\u001b[0m\n\u001b[0m\u001b[1;32m     65\u001b[0m     \u001b[0;32mexcept\u001b[0m \u001b[0mException\u001b[0m \u001b[0;32mas\u001b[0m \u001b[0me\u001b[0m\u001b[0;34m:\u001b[0m  \u001b[0;31m# pylint: disable=broad-except\u001b[0m\u001b[0;34m\u001b[0m\u001b[0;34m\u001b[0m\u001b[0m\n\u001b[1;32m     66\u001b[0m       \u001b[0mfiltered_tb\u001b[0m \u001b[0;34m=\u001b[0m \u001b[0m_process_traceback_frames\u001b[0m\u001b[0;34m(\u001b[0m\u001b[0me\u001b[0m\u001b[0;34m.\u001b[0m\u001b[0m__traceback__\u001b[0m\u001b[0;34m)\u001b[0m\u001b[0;34m\u001b[0m\u001b[0;34m\u001b[0m\u001b[0m\n",
            "\u001b[0;32m/usr/local/lib/python3.7/dist-packages/keras/engine/training.py\u001b[0m in \u001b[0;36mfit\u001b[0;34m(self, x, y, batch_size, epochs, verbose, callbacks, validation_split, validation_data, shuffle, class_weight, sample_weight, initial_epoch, steps_per_epoch, validation_steps, validation_batch_size, validation_freq, max_queue_size, workers, use_multiprocessing)\u001b[0m\n\u001b[1;32m   1214\u001b[0m                 _r=1):\n\u001b[1;32m   1215\u001b[0m               \u001b[0mcallbacks\u001b[0m\u001b[0;34m.\u001b[0m\u001b[0mon_train_batch_begin\u001b[0m\u001b[0;34m(\u001b[0m\u001b[0mstep\u001b[0m\u001b[0;34m)\u001b[0m\u001b[0;34m\u001b[0m\u001b[0;34m\u001b[0m\u001b[0m\n\u001b[0;32m-> 1216\u001b[0;31m               \u001b[0mtmp_logs\u001b[0m \u001b[0;34m=\u001b[0m \u001b[0mself\u001b[0m\u001b[0;34m.\u001b[0m\u001b[0mtrain_function\u001b[0m\u001b[0;34m(\u001b[0m\u001b[0miterator\u001b[0m\u001b[0;34m)\u001b[0m\u001b[0;34m\u001b[0m\u001b[0;34m\u001b[0m\u001b[0m\n\u001b[0m\u001b[1;32m   1217\u001b[0m               \u001b[0;32mif\u001b[0m \u001b[0mdata_handler\u001b[0m\u001b[0;34m.\u001b[0m\u001b[0mshould_sync\u001b[0m\u001b[0;34m:\u001b[0m\u001b[0;34m\u001b[0m\u001b[0;34m\u001b[0m\u001b[0m\n\u001b[1;32m   1218\u001b[0m                 \u001b[0mcontext\u001b[0m\u001b[0;34m.\u001b[0m\u001b[0masync_wait\u001b[0m\u001b[0;34m(\u001b[0m\u001b[0;34m)\u001b[0m\u001b[0;34m\u001b[0m\u001b[0;34m\u001b[0m\u001b[0m\n",
            "\u001b[0;32m/usr/local/lib/python3.7/dist-packages/tensorflow/python/util/traceback_utils.py\u001b[0m in \u001b[0;36merror_handler\u001b[0;34m(*args, **kwargs)\u001b[0m\n\u001b[1;32m    148\u001b[0m     \u001b[0mfiltered_tb\u001b[0m \u001b[0;34m=\u001b[0m \u001b[0;32mNone\u001b[0m\u001b[0;34m\u001b[0m\u001b[0;34m\u001b[0m\u001b[0m\n\u001b[1;32m    149\u001b[0m     \u001b[0;32mtry\u001b[0m\u001b[0;34m:\u001b[0m\u001b[0;34m\u001b[0m\u001b[0;34m\u001b[0m\u001b[0m\n\u001b[0;32m--> 150\u001b[0;31m       \u001b[0;32mreturn\u001b[0m \u001b[0mfn\u001b[0m\u001b[0;34m(\u001b[0m\u001b[0;34m*\u001b[0m\u001b[0margs\u001b[0m\u001b[0;34m,\u001b[0m \u001b[0;34m**\u001b[0m\u001b[0mkwargs\u001b[0m\u001b[0;34m)\u001b[0m\u001b[0;34m\u001b[0m\u001b[0;34m\u001b[0m\u001b[0m\n\u001b[0m\u001b[1;32m    151\u001b[0m     \u001b[0;32mexcept\u001b[0m \u001b[0mException\u001b[0m \u001b[0;32mas\u001b[0m \u001b[0me\u001b[0m\u001b[0;34m:\u001b[0m\u001b[0;34m\u001b[0m\u001b[0;34m\u001b[0m\u001b[0m\n\u001b[1;32m    152\u001b[0m       \u001b[0mfiltered_tb\u001b[0m \u001b[0;34m=\u001b[0m \u001b[0m_process_traceback_frames\u001b[0m\u001b[0;34m(\u001b[0m\u001b[0me\u001b[0m\u001b[0;34m.\u001b[0m\u001b[0m__traceback__\u001b[0m\u001b[0;34m)\u001b[0m\u001b[0;34m\u001b[0m\u001b[0;34m\u001b[0m\u001b[0m\n",
            "\u001b[0;32m/usr/local/lib/python3.7/dist-packages/tensorflow/python/eager/def_function.py\u001b[0m in \u001b[0;36m__call__\u001b[0;34m(self, *args, **kwds)\u001b[0m\n\u001b[1;32m    908\u001b[0m \u001b[0;34m\u001b[0m\u001b[0m\n\u001b[1;32m    909\u001b[0m       \u001b[0;32mwith\u001b[0m \u001b[0mOptionalXlaContext\u001b[0m\u001b[0;34m(\u001b[0m\u001b[0mself\u001b[0m\u001b[0;34m.\u001b[0m\u001b[0m_jit_compile\u001b[0m\u001b[0;34m)\u001b[0m\u001b[0;34m:\u001b[0m\u001b[0;34m\u001b[0m\u001b[0;34m\u001b[0m\u001b[0m\n\u001b[0;32m--> 910\u001b[0;31m         \u001b[0mresult\u001b[0m \u001b[0;34m=\u001b[0m \u001b[0mself\u001b[0m\u001b[0;34m.\u001b[0m\u001b[0m_call\u001b[0m\u001b[0;34m(\u001b[0m\u001b[0;34m*\u001b[0m\u001b[0margs\u001b[0m\u001b[0;34m,\u001b[0m \u001b[0;34m**\u001b[0m\u001b[0mkwds\u001b[0m\u001b[0;34m)\u001b[0m\u001b[0;34m\u001b[0m\u001b[0;34m\u001b[0m\u001b[0m\n\u001b[0m\u001b[1;32m    911\u001b[0m \u001b[0;34m\u001b[0m\u001b[0m\n\u001b[1;32m    912\u001b[0m       \u001b[0mnew_tracing_count\u001b[0m \u001b[0;34m=\u001b[0m \u001b[0mself\u001b[0m\u001b[0;34m.\u001b[0m\u001b[0mexperimental_get_tracing_count\u001b[0m\u001b[0;34m(\u001b[0m\u001b[0;34m)\u001b[0m\u001b[0;34m\u001b[0m\u001b[0;34m\u001b[0m\u001b[0m\n",
            "\u001b[0;32m/usr/local/lib/python3.7/dist-packages/tensorflow/python/eager/def_function.py\u001b[0m in \u001b[0;36m_call\u001b[0;34m(self, *args, **kwds)\u001b[0m\n\u001b[1;32m    940\u001b[0m       \u001b[0;31m# In this case we have created variables on the first call, so we run the\u001b[0m\u001b[0;34m\u001b[0m\u001b[0;34m\u001b[0m\u001b[0;34m\u001b[0m\u001b[0m\n\u001b[1;32m    941\u001b[0m       \u001b[0;31m# defunned version which is guaranteed to never create variables.\u001b[0m\u001b[0;34m\u001b[0m\u001b[0;34m\u001b[0m\u001b[0;34m\u001b[0m\u001b[0m\n\u001b[0;32m--> 942\u001b[0;31m       \u001b[0;32mreturn\u001b[0m \u001b[0mself\u001b[0m\u001b[0;34m.\u001b[0m\u001b[0m_stateless_fn\u001b[0m\u001b[0;34m(\u001b[0m\u001b[0;34m*\u001b[0m\u001b[0margs\u001b[0m\u001b[0;34m,\u001b[0m \u001b[0;34m**\u001b[0m\u001b[0mkwds\u001b[0m\u001b[0;34m)\u001b[0m  \u001b[0;31m# pylint: disable=not-callable\u001b[0m\u001b[0;34m\u001b[0m\u001b[0;34m\u001b[0m\u001b[0m\n\u001b[0m\u001b[1;32m    943\u001b[0m     \u001b[0;32melif\u001b[0m \u001b[0mself\u001b[0m\u001b[0;34m.\u001b[0m\u001b[0m_stateful_fn\u001b[0m \u001b[0;32mis\u001b[0m \u001b[0;32mnot\u001b[0m \u001b[0;32mNone\u001b[0m\u001b[0;34m:\u001b[0m\u001b[0;34m\u001b[0m\u001b[0;34m\u001b[0m\u001b[0m\n\u001b[1;32m    944\u001b[0m       \u001b[0;31m# Release the lock early so that multiple threads can perform the call\u001b[0m\u001b[0;34m\u001b[0m\u001b[0;34m\u001b[0m\u001b[0;34m\u001b[0m\u001b[0m\n",
            "\u001b[0;32m/usr/local/lib/python3.7/dist-packages/tensorflow/python/eager/function.py\u001b[0m in \u001b[0;36m__call__\u001b[0;34m(self, *args, **kwargs)\u001b[0m\n\u001b[1;32m   3129\u001b[0m        filtered_flat_args) = self._maybe_define_function(args, kwargs)\n\u001b[1;32m   3130\u001b[0m     return graph_function._call_flat(\n\u001b[0;32m-> 3131\u001b[0;31m         filtered_flat_args, captured_inputs=graph_function.captured_inputs)  # pylint: disable=protected-access\n\u001b[0m\u001b[1;32m   3132\u001b[0m \u001b[0;34m\u001b[0m\u001b[0m\n\u001b[1;32m   3133\u001b[0m   \u001b[0;34m@\u001b[0m\u001b[0mproperty\u001b[0m\u001b[0;34m\u001b[0m\u001b[0;34m\u001b[0m\u001b[0m\n",
            "\u001b[0;32m/usr/local/lib/python3.7/dist-packages/tensorflow/python/eager/function.py\u001b[0m in \u001b[0;36m_call_flat\u001b[0;34m(self, args, captured_inputs, cancellation_manager)\u001b[0m\n\u001b[1;32m   1958\u001b[0m       \u001b[0;31m# No tape is watching; skip to running the function.\u001b[0m\u001b[0;34m\u001b[0m\u001b[0;34m\u001b[0m\u001b[0;34m\u001b[0m\u001b[0m\n\u001b[1;32m   1959\u001b[0m       return self._build_call_outputs(self._inference_function.call(\n\u001b[0;32m-> 1960\u001b[0;31m           ctx, args, cancellation_manager=cancellation_manager))\n\u001b[0m\u001b[1;32m   1961\u001b[0m     forward_backward = self._select_forward_and_backward_functions(\n\u001b[1;32m   1962\u001b[0m         \u001b[0margs\u001b[0m\u001b[0;34m,\u001b[0m\u001b[0;34m\u001b[0m\u001b[0;34m\u001b[0m\u001b[0m\n",
            "\u001b[0;32m/usr/local/lib/python3.7/dist-packages/tensorflow/python/eager/function.py\u001b[0m in \u001b[0;36mcall\u001b[0;34m(self, ctx, args, cancellation_manager)\u001b[0m\n\u001b[1;32m    601\u001b[0m               \u001b[0minputs\u001b[0m\u001b[0;34m=\u001b[0m\u001b[0margs\u001b[0m\u001b[0;34m,\u001b[0m\u001b[0;34m\u001b[0m\u001b[0;34m\u001b[0m\u001b[0m\n\u001b[1;32m    602\u001b[0m               \u001b[0mattrs\u001b[0m\u001b[0;34m=\u001b[0m\u001b[0mattrs\u001b[0m\u001b[0;34m,\u001b[0m\u001b[0;34m\u001b[0m\u001b[0;34m\u001b[0m\u001b[0m\n\u001b[0;32m--> 603\u001b[0;31m               ctx=ctx)\n\u001b[0m\u001b[1;32m    604\u001b[0m         \u001b[0;32melse\u001b[0m\u001b[0;34m:\u001b[0m\u001b[0;34m\u001b[0m\u001b[0;34m\u001b[0m\u001b[0m\n\u001b[1;32m    605\u001b[0m           outputs = execute.execute_with_cancellation(\n",
            "\u001b[0;32m/usr/local/lib/python3.7/dist-packages/tensorflow/python/eager/execute.py\u001b[0m in \u001b[0;36mquick_execute\u001b[0;34m(op_name, num_outputs, inputs, attrs, ctx, name)\u001b[0m\n\u001b[1;32m     57\u001b[0m     \u001b[0mctx\u001b[0m\u001b[0;34m.\u001b[0m\u001b[0mensure_initialized\u001b[0m\u001b[0;34m(\u001b[0m\u001b[0;34m)\u001b[0m\u001b[0;34m\u001b[0m\u001b[0;34m\u001b[0m\u001b[0m\n\u001b[1;32m     58\u001b[0m     tensors = pywrap_tfe.TFE_Py_Execute(ctx._handle, device_name, op_name,\n\u001b[0;32m---> 59\u001b[0;31m                                         inputs, attrs, num_outputs)\n\u001b[0m\u001b[1;32m     60\u001b[0m   \u001b[0;32mexcept\u001b[0m \u001b[0mcore\u001b[0m\u001b[0;34m.\u001b[0m\u001b[0m_NotOkStatusException\u001b[0m \u001b[0;32mas\u001b[0m \u001b[0me\u001b[0m\u001b[0;34m:\u001b[0m\u001b[0;34m\u001b[0m\u001b[0;34m\u001b[0m\u001b[0m\n\u001b[1;32m     61\u001b[0m     \u001b[0;32mif\u001b[0m \u001b[0mname\u001b[0m \u001b[0;32mis\u001b[0m \u001b[0;32mnot\u001b[0m \u001b[0;32mNone\u001b[0m\u001b[0;34m:\u001b[0m\u001b[0;34m\u001b[0m\u001b[0;34m\u001b[0m\u001b[0m\n",
            "\u001b[0;31mKeyboardInterrupt\u001b[0m: "
          ]
        }
      ]
    },
    {
      "cell_type": "code",
      "metadata": {
        "colab": {
          "base_uri": "https://localhost:8080/"
        },
        "id": "-Zym_fFxQbnR",
        "outputId": "02c26fe4-200d-45eb-d6dc-67359aeafec7"
      },
      "source": [
        "model.evaluate_model(data.Xtest,data.ytest)"
      ],
      "execution_count": 28,
      "outputs": [
        {
          "output_type": "stream",
          "name": "stdout",
          "text": [
            "7/7 [==============================] - 4s 553ms/step - loss: 1.5718 - accuracy: 0.6300\n",
            "Test loss:  1.571844220161438\n",
            "Test accuracy:  0.6299999952316284\n"
          ]
        }
      ]
    },
    {
      "cell_type": "code",
      "metadata": {
        "colab": {
          "base_uri": "https://localhost:8080/"
        },
        "id": "mPhwmRdtLJZm",
        "outputId": "258b1a50-7886-4843-9e8a-a391d2c135a5"
      },
      "source": [
        "model.model.summary()"
      ],
      "execution_count": 19,
      "outputs": [
        {
          "output_type": "stream",
          "name": "stdout",
          "text": [
            "Model: \"model_2\"\n",
            "_________________________________________________________________\n",
            " Layer (type)                Output Shape              Param #   \n",
            "=================================================================\n",
            " input_3 (InputLayer)        [(None, 288, 432, 3)]     0         \n",
            "                                                                 \n",
            " block1_conv1 (Conv2D)       (None, 288, 432, 64)      1792      \n",
            "                                                                 \n",
            " block1_conv2 (Conv2D)       (None, 288, 432, 64)      36928     \n",
            "                                                                 \n",
            " block1_pool (MaxPooling2D)  (None, 144, 216, 64)      0         \n",
            "                                                                 \n",
            " block2_conv1 (Conv2D)       (None, 144, 216, 128)     73856     \n",
            "                                                                 \n",
            " block2_conv2 (Conv2D)       (None, 144, 216, 128)     147584    \n",
            "                                                                 \n",
            " block2_pool (MaxPooling2D)  (None, 72, 108, 128)      0         \n",
            "                                                                 \n",
            " block3_conv1 (Conv2D)       (None, 72, 108, 256)      295168    \n",
            "                                                                 \n",
            " block3_conv2 (Conv2D)       (None, 72, 108, 256)      590080    \n",
            "                                                                 \n",
            " block3_conv3 (Conv2D)       (None, 72, 108, 256)      590080    \n",
            "                                                                 \n",
            " block3_pool (MaxPooling2D)  (None, 36, 54, 256)       0         \n",
            "                                                                 \n",
            " block4_conv1 (Conv2D)       (None, 36, 54, 512)       1180160   \n",
            "                                                                 \n",
            " block4_conv2 (Conv2D)       (None, 36, 54, 512)       2359808   \n",
            "                                                                 \n",
            " block4_conv3 (Conv2D)       (None, 36, 54, 512)       2359808   \n",
            "                                                                 \n",
            " block4_pool (MaxPooling2D)  (None, 18, 27, 512)       0         \n",
            "                                                                 \n",
            " block5_conv1 (Conv2D)       (None, 18, 27, 512)       2359808   \n",
            "                                                                 \n",
            " block5_conv2 (Conv2D)       (None, 18, 27, 512)       2359808   \n",
            "                                                                 \n",
            " block5_conv3 (Conv2D)       (None, 18, 27, 512)       2359808   \n",
            "                                                                 \n",
            " block5_pool (MaxPooling2D)  (None, 9, 13, 512)        0         \n",
            "                                                                 \n",
            " flatten_2 (Flatten)         (None, 59904)             0         \n",
            "                                                                 \n",
            " dense_6 (Dense)             (None, 512)               30671360  \n",
            "                                                                 \n",
            " dropout_2 (Dropout)         (None, 512)               0         \n",
            "                                                                 \n",
            " dense_7 (Dense)             (None, 128)               65664     \n",
            "                                                                 \n",
            " dense_8 (Dense)             (None, 10)                1290      \n",
            "                                                                 \n",
            "=================================================================\n",
            "Total params: 45,453,002\n",
            "Trainable params: 43,717,514\n",
            "Non-trainable params: 1,735,488\n",
            "_________________________________________________________________\n"
          ]
        }
      ]
    },
    {
      "cell_type": "code",
      "metadata": {
        "id": "2db8Z6z3K0IV"
      },
      "source": [
        "# Extractor \n",
        "extractor = Model(model.model.input, model.model.layers[-5].output)"
      ],
      "execution_count": 20,
      "outputs": []
    },
    {
      "cell_type": "code",
      "metadata": {
        "id": "0en7BVsGLGcH"
      },
      "source": [
        "xtest_features= extractor.predict(data.Xtest)"
      ],
      "execution_count": 22,
      "outputs": []
    },
    {
      "cell_type": "code",
      "metadata": {
        "colab": {
          "base_uri": "https://localhost:8080/"
        },
        "id": "5SWwspySLTrx",
        "outputId": "10b8db12-f9d9-4e4d-b150-f09d64bebfe7"
      },
      "source": [
        "xtest_features.shape"
      ],
      "execution_count": 23,
      "outputs": [
        {
          "output_type": "execute_result",
          "data": {
            "text/plain": [
              "(200, 59904)"
            ]
          },
          "metadata": {},
          "execution_count": 23
        }
      ]
    },
    {
      "cell_type": "markdown",
      "metadata": {
        "id": "ds-Rtg0UBH3M"
      },
      "source": [
        "## 2 Layers CNN model "
      ]
    },
    {
      "cell_type": "code",
      "metadata": {
        "id": "dPX9-vRCOEkl"
      },
      "source": [
        "width,height,dimenstion = data.Xtrain[0].shape"
      ],
      "execution_count": 29,
      "outputs": []
    },
    {
      "cell_type": "code",
      "metadata": {
        "id": "GBMp14_uBGZK"
      },
      "source": [
        "# Defining the black box model\n",
        "class CNNModel:\n",
        "    def __init__(self):\n",
        "        self.model = None\n",
        "        self.model_name = \"2layersCNN_ADAM_crossEn_cqt_mfcc_mel_ADAM_CrossEnt\"\n",
        "        self.model_path = \"/content/drive/MyDrive/Mymodels_result/\" + self.model_name +\"/\"+ self.model_name + \".h5\"\n",
        "        self.model_weights_path = \"/content/drive/MyDrive/Mymodels_result/\" + self.model_name +\"/\"+  self.model_name + \"_weights.h5\"\n",
        "        self.model_history_path_acc = \"/content/drive/MyDrive/Mymodels_result/\" + self.model_name +\"/\"+ self.model_name + \"_history_acc.png\"\n",
        "        self.model_history_path_loss = \"/content/drive/MyDrive/Mymodels_result/\" + self.model_name +\"/\"+ self.model_name + \"_history_loss.png\"\n",
        "        \n",
        "        self.model_history = None\n",
        "    \n",
        "    def build_model(self):\n",
        "        \"\"\"\n",
        "        This function is used to create the black box model :\n",
        "        \"\"\"\n",
        "        # Defining the input layer\n",
        "        \n",
        "        model = Sequential()\n",
        "\n",
        "        #Adding the CNN layers along with some drop outs and maxpooling\n",
        "        \n",
        "        model.add(Conv2D(64, (3,3), activation ='relu', input_shape =(width,height,dimenstion)))\n",
        "        model.add(MaxPooling2D(pool_size = (2,2)))\n",
        "\n",
        "\n",
        "        model.add(Conv2D(32, (3,3),strides=(1,1) , activation = 'relu'))\n",
        "        model.add(MaxPooling2D(pool_size = (2,2)))\n",
        "        \n",
        "        model.add(Flatten())\n",
        "\n",
        "        \n",
        "        #Adding the dense layers\n",
        "        model.add(Dense(256, activation = 'relu'))\n",
        "        model.add(Dropout(0.5))\n",
        "        model.add(Dense(124, activation = 'relu'))\n",
        "        #final output layer with 10 predictions to be made\n",
        "        model.add(Dense(10, activation = 'softmax'))\n",
        "    \n",
        "        \n",
        "        \n",
        "        # Compiling the model\n",
        "        self.model = model\n",
        "        self.model.compile(optimizer=tf.keras.optimizers.Adam(learning_rate=0.00001), loss='categorical_crossentropy', metrics=['accuracy'])\n",
        "\n",
        "    def train_model(self,data, epochs=10):\n",
        "        \"\"\"\n",
        "        This function is used to train the black box model :\n",
        "        \"\"\"\n",
        "        # Training the model\n",
        "        self.model_history = self.model.fit(data.Xtrain,data.ytrain, epochs=epochs,validation_data=(data.Xval,data.yval), shuffle=True)\n",
        "        \n",
        "    def save_model(self):\n",
        "        \"\"\"\n",
        "        This function is used to save the black box model :\n",
        "        \"\"\"\n",
        "        # Save the model\n",
        "        self.model.save(self.model_path)\n",
        "        \n",
        "    def load_model(self):\n",
        "        \"\"\"\n",
        "        This function is used to load the black box model :\n",
        "        \"\"\"\n",
        "        # Load the model\n",
        "        self.model = tf.keras.models.load_model(self.model_path)\n",
        "        \n",
        "    def save_model_weights(self):\n",
        "        \"\"\"\n",
        "        This function is used to save the weights of the black box model :\n",
        "        \"\"\"\n",
        "        # Save the weights\n",
        "        self.model.save_weights(self.model_weights_path)\n",
        "    \n",
        "\n",
        "    def evaluate_model(self, Xtest,ytest):\n",
        "        \"\"\"\n",
        "        This function is used to evaluate the black box model :\n",
        "        \"\"\"\n",
        "        # Evaluate the model\n",
        "        test_loss, test_acc = self.model.evaluate(Xtest,ytest)\n",
        "        print(\"Test loss: \", test_loss)\n",
        "        print(\"Test accuracy: \", test_acc)\n",
        "    \n",
        "    def plot_model_history(self):\n",
        "        \"\"\"\n",
        "        This function is used to plot the model history :\n",
        "        \"\"\"\n",
        "        #define variables\n",
        "        loss = self.model_history.history['loss']\n",
        "        val_loss = self.model_history.history['val_loss']\n",
        "        accuracy = self.model_history.history['accuracy']\n",
        "        val_accuracy = self.model_history.history['val_accuracy']\n",
        "        epochs = range(1, len(loss) + 1)\n",
        "        # Plot the model history\n",
        "        plt.figure()\n",
        "        plt.plot(epochs, accuracy, label='Training accuracy')\n",
        "        plt.plot(epochs, val_accuracy, label='Validation accuracy')\n",
        "        plt.title('Training and validation accuracy')\n",
        "        plt.legend()\n",
        "        plt.savefig(self.model_history_path_acc)\n",
        "        plt.show()\n",
        "\n",
        "        plt.figure()\n",
        "        plt.plot(epochs, loss, label='Training loss')\n",
        "        plt.plot(epochs, val_loss, label='Validation loss')\n",
        "        plt.title('Training and validation loss')\n",
        "        plt.legend()\n",
        "        plt.savefig(self.model_history_path_loss)\n",
        "        plt.show()\n",
        "        \n",
        "    def predict_class(self, spectrogram_image):\n",
        "        \"\"\"\n",
        "        This function is used to predict the class of the spectrogram image :\n",
        "        \"\"\"\n",
        "        # Predict the class\n",
        "        prediction = self.model.predict(spectrogram_image)\n",
        "        return np.argmax(prediction)\n",
        "\n",
        "    def predict_classes(self, spectrogram_images):\n",
        "        \"\"\"\n",
        "        This function is used to predict the classes of the spectrogram images :\n",
        "        \"\"\"\n",
        "        # Predict the classes\n",
        "        predictions = self.model.predict(spectrogram_images)\n",
        "        return np.argmax(predictions, axis=1)\n",
        "\n",
        "    \n",
        "    def plot_confusion_matrix(self, Xtest,ytest, classes=None):\n",
        "        \"\"\"\n",
        "        This function is used to plot the confusion matrix :\n",
        "        \"\"\"\n",
        "        # Predict the classes\n",
        "        predictions = self.predict_classes(Xtest)\n",
        "        # Plot the confusion matrix\n",
        "        y_parse = np.argmax(ytest, axis=1)\n",
        "        cm = confusion_matrix(y_parse, predictions)\n",
        "        #if classes is None:\n",
        "        #    classes = test_generator.class_indices.keys()\n",
        "        plt.figure()\n",
        "        plt.imshow(cm, interpolation='nearest', cmap=plt.cm.Blues)\n",
        "        plt.title(\"Confusion matrix\")\n",
        "        plt.colorbar()\n",
        "        tick_marks = np.arange(10)\n",
        "        plt.xticks(tick_marks,classes,  rotation=45)\n",
        "        plt.yticks(tick_marks,classes)\n",
        "        fmt = 'd'\n",
        "        thresh = cm.max() / 2.\n",
        "        for i, j in itertools.product(range(cm.shape[0]), range(cm.shape[1])):\n",
        "            plt.text(j, i, format(cm[i, j], fmt), horizontalalignment=\"center\", color=\"white\" if cm[i, j] > thresh else \"black\")\n",
        "        plt.ylabel('True label')\n",
        "        plt.xlabel('Predicted label')\n",
        "        plt.tight_layout()\n",
        "        plt.savefig(\"/content/drive/MyDrive/Mymodels_result/\"+ self.model_name +\"/\"+\"confusion_matrix.png\")\n",
        "        plt.show()\n",
        "        acc = np.diag(cm).sum() /cm.sum()\n",
        "        print(\"acc\",acc)"
      ],
      "execution_count": 30,
      "outputs": []
    },
    {
      "cell_type": "code",
      "metadata": {
        "colab": {
          "base_uri": "https://localhost:8080/"
        },
        "id": "eEMUlSUjHvDm",
        "outputId": "47de1991-0bd6-41e4-8491-130fbc7dd724"
      },
      "source": [
        "for i in range(1):\n",
        "    \n",
        "    # Fetch the training and test dataset\n",
        "    \n",
        "    # Create the  model\n",
        "    model = CNNModel()\n",
        "    \n",
        "    # Build the  model\n",
        "    model.build_model()\n",
        "    # Train the  model\n",
        "    model.train_model(data, epochs=150)\n",
        "    \n",
        "    # Save the  model\n",
        "    model.save_model()\n",
        "\n",
        "    # Evaluate  model\n",
        "    model.evaluate_model(data.Xtest,data.ytest)\n",
        "\n",
        "    # Plot the model history\n",
        "    model.plot_model_history()\n",
        "    \n",
        "    # Plot the confusion matrix\n",
        "    model.plot_confusion_matrix(data.Xtest,data.ytest)\n"
      ],
      "execution_count": null,
      "outputs": [
        {
          "output_type": "stream",
          "name": "stdout",
          "text": [
            "Epoch 1/150\n",
            "22/22 [==============================] - 10s 370ms/step - loss: 2.3559 - accuracy: 0.0857 - val_loss: 2.3250 - val_accuracy: 0.1100\n",
            "Epoch 2/150\n",
            "22/22 [==============================] - 6s 263ms/step - loss: 2.3286 - accuracy: 0.1100 - val_loss: 2.2613 - val_accuracy: 0.2300\n",
            "Epoch 3/150\n",
            "22/22 [==============================] - 6s 265ms/step - loss: 2.2730 - accuracy: 0.1429 - val_loss: 2.2445 - val_accuracy: 0.1400\n",
            "Epoch 4/150\n",
            "22/22 [==============================] - 6s 264ms/step - loss: 2.2448 - accuracy: 0.1686 - val_loss: 2.2137 - val_accuracy: 0.1900\n",
            "Epoch 5/150\n",
            "22/22 [==============================] - 6s 266ms/step - loss: 2.2257 - accuracy: 0.1886 - val_loss: 2.1947 - val_accuracy: 0.2200\n",
            "Epoch 6/150\n",
            "22/22 [==============================] - 6s 264ms/step - loss: 2.1798 - accuracy: 0.2114 - val_loss: 2.1402 - val_accuracy: 0.3100\n",
            "Epoch 7/150\n",
            "22/22 [==============================] - 6s 267ms/step - loss: 2.1497 - accuracy: 0.2529 - val_loss: 2.1139 - val_accuracy: 0.3300\n",
            "Epoch 8/150\n",
            "22/22 [==============================] - 6s 265ms/step - loss: 2.1234 - accuracy: 0.2514 - val_loss: 2.0839 - val_accuracy: 0.3000\n",
            "Epoch 9/150\n",
            "22/22 [==============================] - 6s 266ms/step - loss: 2.0937 - accuracy: 0.2614 - val_loss: 2.0449 - val_accuracy: 0.3800\n",
            "Epoch 10/150\n",
            "22/22 [==============================] - 6s 266ms/step - loss: 2.0501 - accuracy: 0.2700 - val_loss: 2.0058 - val_accuracy: 0.3800\n",
            "Epoch 11/150\n",
            "22/22 [==============================] - 6s 267ms/step - loss: 2.0117 - accuracy: 0.2986 - val_loss: 1.9867 - val_accuracy: 0.2900\n",
            "Epoch 12/150\n",
            "22/22 [==============================] - 6s 269ms/step - loss: 1.9993 - accuracy: 0.2829 - val_loss: 1.9657 - val_accuracy: 0.3000\n",
            "Epoch 13/150\n",
            "22/22 [==============================] - 6s 268ms/step - loss: 1.9878 - accuracy: 0.3100 - val_loss: 1.9375 - val_accuracy: 0.3500\n",
            "Epoch 14/150\n",
            "22/22 [==============================] - 6s 268ms/step - loss: 1.9237 - accuracy: 0.3057 - val_loss: 1.8776 - val_accuracy: 0.4400\n",
            "Epoch 15/150\n",
            "22/22 [==============================] - 6s 268ms/step - loss: 1.8836 - accuracy: 0.3343 - val_loss: 1.8503 - val_accuracy: 0.3500\n",
            "Epoch 16/150\n",
            "22/22 [==============================] - 6s 266ms/step - loss: 1.8797 - accuracy: 0.3171 - val_loss: 1.8376 - val_accuracy: 0.3000\n",
            "Epoch 17/150\n",
            "22/22 [==============================] - 6s 267ms/step - loss: 1.8665 - accuracy: 0.3429 - val_loss: 1.8129 - val_accuracy: 0.3800\n",
            "Epoch 18/150\n",
            "22/22 [==============================] - 6s 267ms/step - loss: 1.7859 - accuracy: 0.3886 - val_loss: 1.7684 - val_accuracy: 0.3200\n",
            "Epoch 19/150\n",
            "22/22 [==============================] - 6s 268ms/step - loss: 1.7805 - accuracy: 0.3771 - val_loss: 1.7784 - val_accuracy: 0.3600\n",
            "Epoch 20/150\n",
            "22/22 [==============================] - 6s 267ms/step - loss: 1.7598 - accuracy: 0.3900 - val_loss: 1.7460 - val_accuracy: 0.3900\n",
            "Epoch 21/150\n",
            "22/22 [==============================] - 6s 269ms/step - loss: 1.7208 - accuracy: 0.4000 - val_loss: 1.7087 - val_accuracy: 0.4200\n",
            "Epoch 22/150\n",
            "22/22 [==============================] - 6s 266ms/step - loss: 1.6918 - accuracy: 0.4171 - val_loss: 1.6938 - val_accuracy: 0.3900\n",
            "Epoch 23/150\n",
            "22/22 [==============================] - 6s 266ms/step - loss: 1.6884 - accuracy: 0.3914 - val_loss: 1.7043 - val_accuracy: 0.3700\n",
            "Epoch 24/150\n",
            "22/22 [==============================] - 6s 270ms/step - loss: 1.6795 - accuracy: 0.4200 - val_loss: 1.6662 - val_accuracy: 0.4100\n",
            "Epoch 25/150\n",
            "22/22 [==============================] - 6s 267ms/step - loss: 1.6607 - accuracy: 0.4114 - val_loss: 1.6583 - val_accuracy: 0.3900\n",
            "Epoch 26/150\n",
            "22/22 [==============================] - 6s 267ms/step - loss: 1.6375 - accuracy: 0.4314 - val_loss: 1.6378 - val_accuracy: 0.4200\n",
            "Epoch 27/150\n",
            "22/22 [==============================] - 6s 268ms/step - loss: 1.5656 - accuracy: 0.4843 - val_loss: 1.6030 - val_accuracy: 0.3700\n",
            "Epoch 28/150\n",
            "22/22 [==============================] - 6s 267ms/step - loss: 1.5721 - accuracy: 0.4671 - val_loss: 1.6082 - val_accuracy: 0.4200\n",
            "Epoch 29/150\n",
            "22/22 [==============================] - 6s 267ms/step - loss: 1.5372 - accuracy: 0.4814 - val_loss: 1.5782 - val_accuracy: 0.4200\n",
            "Epoch 30/150\n",
            "22/22 [==============================] - 6s 266ms/step - loss: 1.5514 - accuracy: 0.4714 - val_loss: 1.5977 - val_accuracy: 0.4500\n",
            "Epoch 31/150\n",
            "14/22 [==================>...........] - ETA: 2s - loss: 1.5075 - accuracy: 0.4799"
          ]
        }
      ]
    }
  ]
}